{
 "cells": [
  {
   "cell_type": "markdown",
   "id": "56f4a986-5143-4e26-856f-53886e9b8e24",
   "metadata": {},
   "source": [
    "# SANA FFN Ablation – Step-Wise vs. Block-Wise\n",
    "\n",
    "This experiment ablates the **Feed-Forward Network (FFN)** outputs in the SANA Transformer to assess how they influence the generated image.\n",
    "\n",
    "Two types of ablation are explored:\n",
    "- **Step-wise**: Replace FFN outputs at a specific **timestep** across all blocks.\n",
    "- **Block-wise**: Replace FFN outputs at a specific **transformer block** across all timesteps.\n",
    "\n",
    "Each ablation is done using:\n",
    "- `zero` — replaces FFN output with all zeros.\n",
    "- `mean` — replaces FFN output with its spatial/channel-wise mean.\n",
    "\n",
    "Images are saved for each ablation case and compared to the baseline image.\n"
   ]
  },
  {
   "cell_type": "code",
   "execution_count": 1,
   "id": "061c609d-b074-4069-9886-3edb4bd7dbd0",
   "metadata": {},
   "outputs": [],
   "source": [
    "# prompt= \"a banana at the top of the image and an apple at the bottom\"\n",
    "# PARENT = \"exp2-sana_ablation_results_banana_apple\""
   ]
  },
  {
   "cell_type": "code",
   "execution_count": 1,
   "id": "957b4bd8-8659-4aed-a61b-20c1dc5f7c4b",
   "metadata": {},
   "outputs": [],
   "source": [
    "prompt = \"a flower at the top, house in the bootom and sky in the right.\"\n",
    "PARENT = \"exp2-sana_ablation_results_flower, house, sky\""
   ]
  },
  {
   "cell_type": "code",
   "execution_count": 2,
   "id": "4c73cb86-ea9f-472e-a8b4-c58cfc7ba573",
   "metadata": {},
   "outputs": [],
   "source": [
    "# prompt= 'a cyberpunk cat with a neon sign that says \"Sana\"'\n",
    "# PARENT = \"exp2-sana_ablation_results_sana\""
   ]
  },
  {
   "cell_type": "code",
   "execution_count": 3,
   "id": "35cffd3e-2fcd-4f7d-a89f-720f9b41b568",
   "metadata": {},
   "outputs": [
    {
     "name": "stderr",
     "output_type": "stream",
     "text": [
      "/home/galkesten/miniconda3/envs/sana/lib/python3.10/site-packages/xformers/ops/fmha/flash.py:211: FutureWarning: `torch.library.impl_abstract` was renamed to `torch.library.register_fake`. Please use that instead; we will remove `torch.library.impl_abstract` in a future version of PyTorch.\n",
      "  @torch.library.impl_abstract(\"xformers_flash::flash_fwd\")\n",
      "/home/galkesten/miniconda3/envs/sana/lib/python3.10/site-packages/xformers/ops/fmha/flash.py:344: FutureWarning: `torch.library.impl_abstract` was renamed to `torch.library.register_fake`. Please use that instead; we will remove `torch.library.impl_abstract` in a future version of PyTorch.\n",
      "  @torch.library.impl_abstract(\"xformers_flash::flash_bwd\")\n",
      "A matching Triton is not available, some optimizations will not be enabled\n",
      "Traceback (most recent call last):\n",
      "  File \"/home/galkesten/miniconda3/envs/sana/lib/python3.10/site-packages/xformers/__init__.py\", line 57, in _is_triton_available\n",
      "    import triton  # noqa\n",
      "  File \"/home/galkesten/miniconda3/envs/sana/lib/python3.10/site-packages/triton/__init__.py\", line 8, in <module>\n",
      "    from .runtime import (\n",
      "  File \"/home/galkesten/miniconda3/envs/sana/lib/python3.10/site-packages/triton/runtime/__init__.py\", line 1, in <module>\n",
      "    from .autotuner import (Autotuner, Config, Heuristics, autotune, heuristics)\n",
      "  File \"/home/galkesten/miniconda3/envs/sana/lib/python3.10/site-packages/triton/runtime/autotuner.py\", line 9, in <module>\n",
      "    from ..testing import do_bench, do_bench_cudagraph\n",
      "  File \"/home/galkesten/miniconda3/envs/sana/lib/python3.10/site-packages/triton/testing.py\", line 7, in <module>\n",
      "    from . import language as tl\n",
      "  File \"/home/galkesten/miniconda3/envs/sana/lib/python3.10/site-packages/triton/language/__init__.py\", line 4, in <module>\n",
      "    from . import math\n",
      "  File \"/home/galkesten/miniconda3/envs/sana/lib/python3.10/site-packages/triton/language/math.py\", line 1, in <module>\n",
      "    from . import core\n",
      "  File \"/home/galkesten/miniconda3/envs/sana/lib/python3.10/site-packages/triton/language/core.py\", line 10, in <module>\n",
      "    from ..runtime.jit import jit\n",
      "  File \"/home/galkesten/miniconda3/envs/sana/lib/python3.10/site-packages/triton/runtime/jit.py\", line 12, in <module>\n",
      "    from ..runtime.driver import driver\n",
      "  File \"/home/galkesten/miniconda3/envs/sana/lib/python3.10/site-packages/triton/runtime/driver.py\", line 1, in <module>\n",
      "    from ..backends import backends\n",
      "  File \"/home/galkesten/miniconda3/envs/sana/lib/python3.10/site-packages/triton/backends/__init__.py\", line 50, in <module>\n",
      "    backends = _discover_backends()\n",
      "  File \"/home/galkesten/miniconda3/envs/sana/lib/python3.10/site-packages/triton/backends/__init__.py\", line 44, in _discover_backends\n",
      "    driver = _load_module(name, os.path.join(root, name, 'driver.py'))\n",
      "  File \"/home/galkesten/miniconda3/envs/sana/lib/python3.10/site-packages/triton/backends/__init__.py\", line 12, in _load_module\n",
      "    spec.loader.exec_module(module)\n",
      "  File \"/home/galkesten/miniconda3/envs/sana/lib/python3.10/site-packages/triton/backends/amd/driver.py\", line 7, in <module>\n",
      "    from triton.runtime.build import _build\n",
      "  File \"/home/galkesten/miniconda3/envs/sana/lib/python3.10/site-packages/triton/runtime/build.py\", line 8, in <module>\n",
      "    import setuptools\n",
      "  File \"/home/galkesten/miniconda3/envs/sana/lib/python3.10/site-packages/setuptools/__init__.py\", line 18, in <module>\n",
      "    from setuptools.dist import Distribution\n",
      "  File \"/home/galkesten/miniconda3/envs/sana/lib/python3.10/site-packages/setuptools/dist.py\", line 39, in <module>\n",
      "    from setuptools.config import parse_configuration\n",
      "  File \"/home/galkesten/miniconda3/envs/sana/lib/python3.10/site-packages/setuptools/config/__init__.py\", line 9, in <module>\n",
      "    from . import setupcfg\n",
      "  File \"/home/galkesten/miniconda3/envs/sana/lib/python3.10/site-packages/setuptools/config/setupcfg.py\", line 27, in <module>\n",
      "    from .._path import StrPath\n",
      "  File \"/home/galkesten/miniconda3/envs/sana/lib/python3.10/site-packages/setuptools/_path.py\", line 8, in <module>\n",
      "    from more_itertools import unique_everseen\n",
      "ModuleNotFoundError: No module named 'more_itertools'\n"
     ]
    },
    {
     "data": {
      "application/vnd.jupyter.widget-view+json": {
       "model_id": "69cc91f3452d429399943dfe9c59f125",
       "version_major": 2,
       "version_minor": 0
      },
      "text/plain": [
       "Loading pipeline components...:   0%|          | 0/5 [00:00<?, ?it/s]"
      ]
     },
     "metadata": {},
     "output_type": "display_data"
    },
    {
     "data": {
      "application/vnd.jupyter.widget-view+json": {
       "model_id": "1cd5c51f37c243bf9cce781f404f3c50",
       "version_major": 2,
       "version_minor": 0
      },
      "text/plain": [
       "Loading checkpoint shards:   0%|          | 0/2 [00:00<?, ?it/s]"
      ]
     },
     "metadata": {},
     "output_type": "display_data"
    },
    {
     "data": {
      "application/vnd.jupyter.widget-view+json": {
       "model_id": "087eb67260654f04a528486884caf2ad",
       "version_major": 2,
       "version_minor": 0
      },
      "text/plain": [
       "  0%|          | 0/20 [00:00<?, ?it/s]"
      ]
     },
     "metadata": {},
     "output_type": "display_data"
    },
    {
     "name": "stdout",
     "output_type": "stream",
     "text": [
      "\n",
      "== STEP‑WISE  ZERO ==\n"
     ]
    },
    {
     "data": {
      "application/vnd.jupyter.widget-view+json": {
       "model_id": "cf94da07ce144221a2c2c5d6fe2d74de",
       "version_major": 2,
       "version_minor": 0
      },
      "text/plain": [
       "  0%|          | 0/20 [00:00<?, ?it/s]"
      ]
     },
     "metadata": {},
     "output_type": "display_data"
    },
    {
     "name": "stdout",
     "output_type": "stream",
     "text": [
      "zero step 00"
     ]
    },
    {
     "data": {
      "application/vnd.jupyter.widget-view+json": {
       "model_id": "0b7410aa4360466bb11f5d021c088c17",
       "version_major": 2,
       "version_minor": 0
      },
      "text/plain": [
       "  0%|          | 0/20 [00:00<?, ?it/s]"
      ]
     },
     "metadata": {},
     "output_type": "display_data"
    },
    {
     "name": "stdout",
     "output_type": "stream",
     "text": [
      "zero step 01"
     ]
    },
    {
     "data": {
      "application/vnd.jupyter.widget-view+json": {
       "model_id": "23ca6b43d52e444fa86179f104fc8672",
       "version_major": 2,
       "version_minor": 0
      },
      "text/plain": [
       "  0%|          | 0/20 [00:00<?, ?it/s]"
      ]
     },
     "metadata": {},
     "output_type": "display_data"
    },
    {
     "name": "stdout",
     "output_type": "stream",
     "text": [
      "zero step 02"
     ]
    },
    {
     "data": {
      "application/vnd.jupyter.widget-view+json": {
       "model_id": "7d4581f7ade2459a946886a758c18ad8",
       "version_major": 2,
       "version_minor": 0
      },
      "text/plain": [
       "  0%|          | 0/20 [00:00<?, ?it/s]"
      ]
     },
     "metadata": {},
     "output_type": "display_data"
    },
    {
     "name": "stdout",
     "output_type": "stream",
     "text": [
      "zero step 03"
     ]
    },
    {
     "data": {
      "application/vnd.jupyter.widget-view+json": {
       "model_id": "68c5dc620a684da38546b7c564889e58",
       "version_major": 2,
       "version_minor": 0
      },
      "text/plain": [
       "  0%|          | 0/20 [00:00<?, ?it/s]"
      ]
     },
     "metadata": {},
     "output_type": "display_data"
    },
    {
     "name": "stdout",
     "output_type": "stream",
     "text": [
      "zero step 04"
     ]
    },
    {
     "data": {
      "application/vnd.jupyter.widget-view+json": {
       "model_id": "9ecbc7dcd7cf4f93b8a8d496b2199917",
       "version_major": 2,
       "version_minor": 0
      },
      "text/plain": [
       "  0%|          | 0/20 [00:00<?, ?it/s]"
      ]
     },
     "metadata": {},
     "output_type": "display_data"
    },
    {
     "name": "stdout",
     "output_type": "stream",
     "text": [
      "zero step 05"
     ]
    },
    {
     "data": {
      "application/vnd.jupyter.widget-view+json": {
       "model_id": "8297798068cc4fac9999db438328df1d",
       "version_major": 2,
       "version_minor": 0
      },
      "text/plain": [
       "  0%|          | 0/20 [00:00<?, ?it/s]"
      ]
     },
     "metadata": {},
     "output_type": "display_data"
    },
    {
     "name": "stdout",
     "output_type": "stream",
     "text": [
      "zero step 06"
     ]
    },
    {
     "data": {
      "application/vnd.jupyter.widget-view+json": {
       "model_id": "2e9270e4b0f14685a148cefe4969441f",
       "version_major": 2,
       "version_minor": 0
      },
      "text/plain": [
       "  0%|          | 0/20 [00:00<?, ?it/s]"
      ]
     },
     "metadata": {},
     "output_type": "display_data"
    },
    {
     "name": "stdout",
     "output_type": "stream",
     "text": [
      "zero step 07"
     ]
    },
    {
     "data": {
      "application/vnd.jupyter.widget-view+json": {
       "model_id": "7e859c19a34e485eb63b039b82bb21b0",
       "version_major": 2,
       "version_minor": 0
      },
      "text/plain": [
       "  0%|          | 0/20 [00:00<?, ?it/s]"
      ]
     },
     "metadata": {},
     "output_type": "display_data"
    },
    {
     "name": "stdout",
     "output_type": "stream",
     "text": [
      "zero step 08"
     ]
    },
    {
     "data": {
      "application/vnd.jupyter.widget-view+json": {
       "model_id": "6ceee5ef67ec4a12869a5a9738e93b37",
       "version_major": 2,
       "version_minor": 0
      },
      "text/plain": [
       "  0%|          | 0/20 [00:00<?, ?it/s]"
      ]
     },
     "metadata": {},
     "output_type": "display_data"
    },
    {
     "name": "stdout",
     "output_type": "stream",
     "text": [
      "zero step 09"
     ]
    },
    {
     "data": {
      "application/vnd.jupyter.widget-view+json": {
       "model_id": "b7dd2ecbcc5047ddaf6ed53e1039bf86",
       "version_major": 2,
       "version_minor": 0
      },
      "text/plain": [
       "  0%|          | 0/20 [00:00<?, ?it/s]"
      ]
     },
     "metadata": {},
     "output_type": "display_data"
    },
    {
     "name": "stdout",
     "output_type": "stream",
     "text": [
      "zero step 10"
     ]
    },
    {
     "data": {
      "application/vnd.jupyter.widget-view+json": {
       "model_id": "c5ab2225aa8546cfb4f6ffa387a307e7",
       "version_major": 2,
       "version_minor": 0
      },
      "text/plain": [
       "  0%|          | 0/20 [00:00<?, ?it/s]"
      ]
     },
     "metadata": {},
     "output_type": "display_data"
    },
    {
     "name": "stdout",
     "output_type": "stream",
     "text": [
      "zero step 11"
     ]
    },
    {
     "data": {
      "application/vnd.jupyter.widget-view+json": {
       "model_id": "420910a4e9ba4cff971fee214ee7e82a",
       "version_major": 2,
       "version_minor": 0
      },
      "text/plain": [
       "  0%|          | 0/20 [00:00<?, ?it/s]"
      ]
     },
     "metadata": {},
     "output_type": "display_data"
    },
    {
     "name": "stdout",
     "output_type": "stream",
     "text": [
      "zero step 12"
     ]
    },
    {
     "data": {
      "application/vnd.jupyter.widget-view+json": {
       "model_id": "4806297c374240419862d595cdf517be",
       "version_major": 2,
       "version_minor": 0
      },
      "text/plain": [
       "  0%|          | 0/20 [00:00<?, ?it/s]"
      ]
     },
     "metadata": {},
     "output_type": "display_data"
    },
    {
     "name": "stdout",
     "output_type": "stream",
     "text": [
      "zero step 13"
     ]
    },
    {
     "data": {
      "application/vnd.jupyter.widget-view+json": {
       "model_id": "d6ec7646ca8a44a6abe67445d4e16170",
       "version_major": 2,
       "version_minor": 0
      },
      "text/plain": [
       "  0%|          | 0/20 [00:00<?, ?it/s]"
      ]
     },
     "metadata": {},
     "output_type": "display_data"
    },
    {
     "name": "stdout",
     "output_type": "stream",
     "text": [
      "zero step 14"
     ]
    },
    {
     "data": {
      "application/vnd.jupyter.widget-view+json": {
       "model_id": "337c16e5592f4b2b83d27443acc455f5",
       "version_major": 2,
       "version_minor": 0
      },
      "text/plain": [
       "  0%|          | 0/20 [00:00<?, ?it/s]"
      ]
     },
     "metadata": {},
     "output_type": "display_data"
    },
    {
     "name": "stdout",
     "output_type": "stream",
     "text": [
      "zero step 15"
     ]
    },
    {
     "data": {
      "application/vnd.jupyter.widget-view+json": {
       "model_id": "6a110efec8e641dd861b20b288be56d0",
       "version_major": 2,
       "version_minor": 0
      },
      "text/plain": [
       "  0%|          | 0/20 [00:00<?, ?it/s]"
      ]
     },
     "metadata": {},
     "output_type": "display_data"
    },
    {
     "name": "stdout",
     "output_type": "stream",
     "text": [
      "zero step 16"
     ]
    },
    {
     "data": {
      "application/vnd.jupyter.widget-view+json": {
       "model_id": "3f009dc6535d4564832ac35e50d46ecf",
       "version_major": 2,
       "version_minor": 0
      },
      "text/plain": [
       "  0%|          | 0/20 [00:00<?, ?it/s]"
      ]
     },
     "metadata": {},
     "output_type": "display_data"
    },
    {
     "name": "stdout",
     "output_type": "stream",
     "text": [
      "zero step 17"
     ]
    },
    {
     "data": {
      "application/vnd.jupyter.widget-view+json": {
       "model_id": "e3deab1e255944198b8147b02c7fc7c8",
       "version_major": 2,
       "version_minor": 0
      },
      "text/plain": [
       "  0%|          | 0/20 [00:00<?, ?it/s]"
      ]
     },
     "metadata": {},
     "output_type": "display_data"
    },
    {
     "name": "stdout",
     "output_type": "stream",
     "text": [
      "zero step 18"
     ]
    },
    {
     "data": {
      "application/vnd.jupyter.widget-view+json": {
       "model_id": "b898582939494fc98246d7bd322bd49d",
       "version_major": 2,
       "version_minor": 0
      },
      "text/plain": [
       "  0%|          | 0/20 [00:00<?, ?it/s]"
      ]
     },
     "metadata": {},
     "output_type": "display_data"
    },
    {
     "name": "stdout",
     "output_type": "stream",
     "text": [
      "zero step 19\n",
      "== STEP‑WISE  MEAN ==\n"
     ]
    },
    {
     "data": {
      "application/vnd.jupyter.widget-view+json": {
       "model_id": "1ef65718822e430d89f35b63122dd07e",
       "version_major": 2,
       "version_minor": 0
      },
      "text/plain": [
       "  0%|          | 0/20 [00:00<?, ?it/s]"
      ]
     },
     "metadata": {},
     "output_type": "display_data"
    },
    {
     "name": "stdout",
     "output_type": "stream",
     "text": [
      "mean step 00"
     ]
    },
    {
     "data": {
      "application/vnd.jupyter.widget-view+json": {
       "model_id": "6227fadd9a5648818cf2fb41ec1a4637",
       "version_major": 2,
       "version_minor": 0
      },
      "text/plain": [
       "  0%|          | 0/20 [00:00<?, ?it/s]"
      ]
     },
     "metadata": {},
     "output_type": "display_data"
    },
    {
     "name": "stdout",
     "output_type": "stream",
     "text": [
      "mean step 01"
     ]
    },
    {
     "data": {
      "application/vnd.jupyter.widget-view+json": {
       "model_id": "3963f0d0f29e4e539b50cd8c748624de",
       "version_major": 2,
       "version_minor": 0
      },
      "text/plain": [
       "  0%|          | 0/20 [00:00<?, ?it/s]"
      ]
     },
     "metadata": {},
     "output_type": "display_data"
    },
    {
     "name": "stdout",
     "output_type": "stream",
     "text": [
      "mean step 02"
     ]
    },
    {
     "data": {
      "application/vnd.jupyter.widget-view+json": {
       "model_id": "c8c9fe67e076420f9122ba7d8142c173",
       "version_major": 2,
       "version_minor": 0
      },
      "text/plain": [
       "  0%|          | 0/20 [00:00<?, ?it/s]"
      ]
     },
     "metadata": {},
     "output_type": "display_data"
    },
    {
     "name": "stdout",
     "output_type": "stream",
     "text": [
      "mean step 03"
     ]
    },
    {
     "data": {
      "application/vnd.jupyter.widget-view+json": {
       "model_id": "0acb1750701f4f90a0d364d01ea2dc08",
       "version_major": 2,
       "version_minor": 0
      },
      "text/plain": [
       "  0%|          | 0/20 [00:00<?, ?it/s]"
      ]
     },
     "metadata": {},
     "output_type": "display_data"
    },
    {
     "name": "stdout",
     "output_type": "stream",
     "text": [
      "mean step 04"
     ]
    },
    {
     "data": {
      "application/vnd.jupyter.widget-view+json": {
       "model_id": "1c732db37f1f44c896b3377bbe2226e8",
       "version_major": 2,
       "version_minor": 0
      },
      "text/plain": [
       "  0%|          | 0/20 [00:00<?, ?it/s]"
      ]
     },
     "metadata": {},
     "output_type": "display_data"
    },
    {
     "name": "stdout",
     "output_type": "stream",
     "text": [
      "mean step 05"
     ]
    },
    {
     "data": {
      "application/vnd.jupyter.widget-view+json": {
       "model_id": "e71bb4b246cb46a5b81777ac3efc6e1b",
       "version_major": 2,
       "version_minor": 0
      },
      "text/plain": [
       "  0%|          | 0/20 [00:00<?, ?it/s]"
      ]
     },
     "metadata": {},
     "output_type": "display_data"
    },
    {
     "name": "stdout",
     "output_type": "stream",
     "text": [
      "mean step 06"
     ]
    },
    {
     "data": {
      "application/vnd.jupyter.widget-view+json": {
       "model_id": "a88c3608966f4706aede20bbe7ec7b77",
       "version_major": 2,
       "version_minor": 0
      },
      "text/plain": [
       "  0%|          | 0/20 [00:00<?, ?it/s]"
      ]
     },
     "metadata": {},
     "output_type": "display_data"
    },
    {
     "name": "stdout",
     "output_type": "stream",
     "text": [
      "mean step 07"
     ]
    },
    {
     "data": {
      "application/vnd.jupyter.widget-view+json": {
       "model_id": "2f84ce91d22c413690d05a8b7e1d0463",
       "version_major": 2,
       "version_minor": 0
      },
      "text/plain": [
       "  0%|          | 0/20 [00:00<?, ?it/s]"
      ]
     },
     "metadata": {},
     "output_type": "display_data"
    },
    {
     "name": "stdout",
     "output_type": "stream",
     "text": [
      "mean step 08"
     ]
    },
    {
     "data": {
      "application/vnd.jupyter.widget-view+json": {
       "model_id": "3e33951e2ceb483783b9d347c7911a32",
       "version_major": 2,
       "version_minor": 0
      },
      "text/plain": [
       "  0%|          | 0/20 [00:00<?, ?it/s]"
      ]
     },
     "metadata": {},
     "output_type": "display_data"
    },
    {
     "name": "stdout",
     "output_type": "stream",
     "text": [
      "mean step 09"
     ]
    },
    {
     "data": {
      "application/vnd.jupyter.widget-view+json": {
       "model_id": "6913a98eec864541853e2af606e7593a",
       "version_major": 2,
       "version_minor": 0
      },
      "text/plain": [
       "  0%|          | 0/20 [00:00<?, ?it/s]"
      ]
     },
     "metadata": {},
     "output_type": "display_data"
    },
    {
     "name": "stdout",
     "output_type": "stream",
     "text": [
      "mean step 10"
     ]
    },
    {
     "data": {
      "application/vnd.jupyter.widget-view+json": {
       "model_id": "307cbe22a67543c88a56ca5d42f9e013",
       "version_major": 2,
       "version_minor": 0
      },
      "text/plain": [
       "  0%|          | 0/20 [00:00<?, ?it/s]"
      ]
     },
     "metadata": {},
     "output_type": "display_data"
    },
    {
     "name": "stdout",
     "output_type": "stream",
     "text": [
      "mean step 11"
     ]
    },
    {
     "data": {
      "application/vnd.jupyter.widget-view+json": {
       "model_id": "f76d94a04d334a61ab6a663b9b133942",
       "version_major": 2,
       "version_minor": 0
      },
      "text/plain": [
       "  0%|          | 0/20 [00:00<?, ?it/s]"
      ]
     },
     "metadata": {},
     "output_type": "display_data"
    },
    {
     "name": "stdout",
     "output_type": "stream",
     "text": [
      "mean step 12"
     ]
    },
    {
     "data": {
      "application/vnd.jupyter.widget-view+json": {
       "model_id": "f8f6dc44881e494eb85b7d0ad5f29ae8",
       "version_major": 2,
       "version_minor": 0
      },
      "text/plain": [
       "  0%|          | 0/20 [00:00<?, ?it/s]"
      ]
     },
     "metadata": {},
     "output_type": "display_data"
    },
    {
     "name": "stdout",
     "output_type": "stream",
     "text": [
      "mean step 13"
     ]
    },
    {
     "data": {
      "application/vnd.jupyter.widget-view+json": {
       "model_id": "deb5210eaed0455fbb2c3a87f3bebe6d",
       "version_major": 2,
       "version_minor": 0
      },
      "text/plain": [
       "  0%|          | 0/20 [00:00<?, ?it/s]"
      ]
     },
     "metadata": {},
     "output_type": "display_data"
    },
    {
     "name": "stdout",
     "output_type": "stream",
     "text": [
      "mean step 14"
     ]
    },
    {
     "data": {
      "application/vnd.jupyter.widget-view+json": {
       "model_id": "41f2f2d8767547e7b011619b45564020",
       "version_major": 2,
       "version_minor": 0
      },
      "text/plain": [
       "  0%|          | 0/20 [00:00<?, ?it/s]"
      ]
     },
     "metadata": {},
     "output_type": "display_data"
    },
    {
     "name": "stdout",
     "output_type": "stream",
     "text": [
      "mean step 15"
     ]
    },
    {
     "data": {
      "application/vnd.jupyter.widget-view+json": {
       "model_id": "996610300b87472990f8446166d6d2bc",
       "version_major": 2,
       "version_minor": 0
      },
      "text/plain": [
       "  0%|          | 0/20 [00:00<?, ?it/s]"
      ]
     },
     "metadata": {},
     "output_type": "display_data"
    },
    {
     "name": "stdout",
     "output_type": "stream",
     "text": [
      "mean step 16"
     ]
    },
    {
     "data": {
      "application/vnd.jupyter.widget-view+json": {
       "model_id": "edc7e8e73a704507a1c1482fd6ae82ec",
       "version_major": 2,
       "version_minor": 0
      },
      "text/plain": [
       "  0%|          | 0/20 [00:00<?, ?it/s]"
      ]
     },
     "metadata": {},
     "output_type": "display_data"
    },
    {
     "name": "stdout",
     "output_type": "stream",
     "text": [
      "mean step 17"
     ]
    },
    {
     "data": {
      "application/vnd.jupyter.widget-view+json": {
       "model_id": "fd560f9e302a4985a82f0ab876e7861a",
       "version_major": 2,
       "version_minor": 0
      },
      "text/plain": [
       "  0%|          | 0/20 [00:00<?, ?it/s]"
      ]
     },
     "metadata": {},
     "output_type": "display_data"
    },
    {
     "name": "stdout",
     "output_type": "stream",
     "text": [
      "mean step 18"
     ]
    },
    {
     "data": {
      "application/vnd.jupyter.widget-view+json": {
       "model_id": "0749eb5cd8c948beb1ca2df132ac8b1d",
       "version_major": 2,
       "version_minor": 0
      },
      "text/plain": [
       "  0%|          | 0/20 [00:00<?, ?it/s]"
      ]
     },
     "metadata": {},
     "output_type": "display_data"
    },
    {
     "name": "stdout",
     "output_type": "stream",
     "text": [
      "mean step 19\n",
      "== BLOCK‑WISE ZERO ==\n"
     ]
    },
    {
     "data": {
      "application/vnd.jupyter.widget-view+json": {
       "model_id": "98bd80cfb37e4eddaa52fa24cb4cb5e7",
       "version_major": 2,
       "version_minor": 0
      },
      "text/plain": [
       "  0%|          | 0/20 [00:00<?, ?it/s]"
      ]
     },
     "metadata": {},
     "output_type": "display_data"
    },
    {
     "name": "stdout",
     "output_type": "stream",
     "text": [
      "zero block 00"
     ]
    },
    {
     "data": {
      "application/vnd.jupyter.widget-view+json": {
       "model_id": "b7fc5baface445ebb00af3914fb2eb01",
       "version_major": 2,
       "version_minor": 0
      },
      "text/plain": [
       "  0%|          | 0/20 [00:00<?, ?it/s]"
      ]
     },
     "metadata": {},
     "output_type": "display_data"
    },
    {
     "name": "stdout",
     "output_type": "stream",
     "text": [
      "zero block 01"
     ]
    },
    {
     "data": {
      "application/vnd.jupyter.widget-view+json": {
       "model_id": "a77dd80b7f2e43f787baf50c0dfd7a7f",
       "version_major": 2,
       "version_minor": 0
      },
      "text/plain": [
       "  0%|          | 0/20 [00:00<?, ?it/s]"
      ]
     },
     "metadata": {},
     "output_type": "display_data"
    },
    {
     "name": "stdout",
     "output_type": "stream",
     "text": [
      "zero block 02"
     ]
    },
    {
     "data": {
      "application/vnd.jupyter.widget-view+json": {
       "model_id": "fc774b001e554de0aca4eea84aa039dc",
       "version_major": 2,
       "version_minor": 0
      },
      "text/plain": [
       "  0%|          | 0/20 [00:00<?, ?it/s]"
      ]
     },
     "metadata": {},
     "output_type": "display_data"
    },
    {
     "name": "stdout",
     "output_type": "stream",
     "text": [
      "zero block 03"
     ]
    },
    {
     "data": {
      "application/vnd.jupyter.widget-view+json": {
       "model_id": "9bbe59fcbcd84a47969481c417675a53",
       "version_major": 2,
       "version_minor": 0
      },
      "text/plain": [
       "  0%|          | 0/20 [00:00<?, ?it/s]"
      ]
     },
     "metadata": {},
     "output_type": "display_data"
    },
    {
     "name": "stdout",
     "output_type": "stream",
     "text": [
      "zero block 04"
     ]
    },
    {
     "data": {
      "application/vnd.jupyter.widget-view+json": {
       "model_id": "937023d4b5c74f07ad069faaed1b81ea",
       "version_major": 2,
       "version_minor": 0
      },
      "text/plain": [
       "  0%|          | 0/20 [00:00<?, ?it/s]"
      ]
     },
     "metadata": {},
     "output_type": "display_data"
    },
    {
     "name": "stdout",
     "output_type": "stream",
     "text": [
      "zero block 05"
     ]
    },
    {
     "data": {
      "application/vnd.jupyter.widget-view+json": {
       "model_id": "47fa95abe784465ebbecc65cfc1289ed",
       "version_major": 2,
       "version_minor": 0
      },
      "text/plain": [
       "  0%|          | 0/20 [00:00<?, ?it/s]"
      ]
     },
     "metadata": {},
     "output_type": "display_data"
    },
    {
     "name": "stdout",
     "output_type": "stream",
     "text": [
      "zero block 06"
     ]
    },
    {
     "data": {
      "application/vnd.jupyter.widget-view+json": {
       "model_id": "78c91bcd1c5845158a3795b25af6c452",
       "version_major": 2,
       "version_minor": 0
      },
      "text/plain": [
       "  0%|          | 0/20 [00:00<?, ?it/s]"
      ]
     },
     "metadata": {},
     "output_type": "display_data"
    },
    {
     "name": "stdout",
     "output_type": "stream",
     "text": [
      "zero block 07"
     ]
    },
    {
     "data": {
      "application/vnd.jupyter.widget-view+json": {
       "model_id": "806d093f08704a46936b71b9c2d1a8d2",
       "version_major": 2,
       "version_minor": 0
      },
      "text/plain": [
       "  0%|          | 0/20 [00:00<?, ?it/s]"
      ]
     },
     "metadata": {},
     "output_type": "display_data"
    },
    {
     "name": "stdout",
     "output_type": "stream",
     "text": [
      "zero block 08"
     ]
    },
    {
     "data": {
      "application/vnd.jupyter.widget-view+json": {
       "model_id": "b23b96ff7c70434ba32e1f6b163de45c",
       "version_major": 2,
       "version_minor": 0
      },
      "text/plain": [
       "  0%|          | 0/20 [00:00<?, ?it/s]"
      ]
     },
     "metadata": {},
     "output_type": "display_data"
    },
    {
     "name": "stdout",
     "output_type": "stream",
     "text": [
      "zero block 09"
     ]
    },
    {
     "data": {
      "application/vnd.jupyter.widget-view+json": {
       "model_id": "6797eaf2e4b440b080392036eb9f4812",
       "version_major": 2,
       "version_minor": 0
      },
      "text/plain": [
       "  0%|          | 0/20 [00:00<?, ?it/s]"
      ]
     },
     "metadata": {},
     "output_type": "display_data"
    },
    {
     "name": "stdout",
     "output_type": "stream",
     "text": [
      "zero block 10"
     ]
    },
    {
     "data": {
      "application/vnd.jupyter.widget-view+json": {
       "model_id": "22750b7ff1be4d28a7c2da099797f5da",
       "version_major": 2,
       "version_minor": 0
      },
      "text/plain": [
       "  0%|          | 0/20 [00:00<?, ?it/s]"
      ]
     },
     "metadata": {},
     "output_type": "display_data"
    },
    {
     "name": "stdout",
     "output_type": "stream",
     "text": [
      "zero block 11"
     ]
    },
    {
     "data": {
      "application/vnd.jupyter.widget-view+json": {
       "model_id": "61d8e1365d1d4bc7b7e93d7853fd8628",
       "version_major": 2,
       "version_minor": 0
      },
      "text/plain": [
       "  0%|          | 0/20 [00:00<?, ?it/s]"
      ]
     },
     "metadata": {},
     "output_type": "display_data"
    },
    {
     "name": "stdout",
     "output_type": "stream",
     "text": [
      "zero block 12"
     ]
    },
    {
     "data": {
      "application/vnd.jupyter.widget-view+json": {
       "model_id": "c6330e670b064a1fa466246e2b4e9578",
       "version_major": 2,
       "version_minor": 0
      },
      "text/plain": [
       "  0%|          | 0/20 [00:00<?, ?it/s]"
      ]
     },
     "metadata": {},
     "output_type": "display_data"
    },
    {
     "name": "stdout",
     "output_type": "stream",
     "text": [
      "zero block 13"
     ]
    },
    {
     "data": {
      "application/vnd.jupyter.widget-view+json": {
       "model_id": "cada005441f64cd3a9a4194ea24f7489",
       "version_major": 2,
       "version_minor": 0
      },
      "text/plain": [
       "  0%|          | 0/20 [00:00<?, ?it/s]"
      ]
     },
     "metadata": {},
     "output_type": "display_data"
    },
    {
     "name": "stdout",
     "output_type": "stream",
     "text": [
      "zero block 14"
     ]
    },
    {
     "data": {
      "application/vnd.jupyter.widget-view+json": {
       "model_id": "bf93932c2ba14b3281caa12b281d2f85",
       "version_major": 2,
       "version_minor": 0
      },
      "text/plain": [
       "  0%|          | 0/20 [00:00<?, ?it/s]"
      ]
     },
     "metadata": {},
     "output_type": "display_data"
    },
    {
     "name": "stdout",
     "output_type": "stream",
     "text": [
      "zero block 15"
     ]
    },
    {
     "data": {
      "application/vnd.jupyter.widget-view+json": {
       "model_id": "e277ef2576f748e98cd3dead5168d64f",
       "version_major": 2,
       "version_minor": 0
      },
      "text/plain": [
       "  0%|          | 0/20 [00:00<?, ?it/s]"
      ]
     },
     "metadata": {},
     "output_type": "display_data"
    },
    {
     "name": "stdout",
     "output_type": "stream",
     "text": [
      "zero block 16"
     ]
    },
    {
     "data": {
      "application/vnd.jupyter.widget-view+json": {
       "model_id": "378312fc1fd64649af14491525cf9403",
       "version_major": 2,
       "version_minor": 0
      },
      "text/plain": [
       "  0%|          | 0/20 [00:00<?, ?it/s]"
      ]
     },
     "metadata": {},
     "output_type": "display_data"
    },
    {
     "name": "stdout",
     "output_type": "stream",
     "text": [
      "zero block 17"
     ]
    },
    {
     "data": {
      "application/vnd.jupyter.widget-view+json": {
       "model_id": "75d811d1ea22412d957dd43647f419cf",
       "version_major": 2,
       "version_minor": 0
      },
      "text/plain": [
       "  0%|          | 0/20 [00:00<?, ?it/s]"
      ]
     },
     "metadata": {},
     "output_type": "display_data"
    },
    {
     "name": "stdout",
     "output_type": "stream",
     "text": [
      "zero block 18"
     ]
    },
    {
     "data": {
      "application/vnd.jupyter.widget-view+json": {
       "model_id": "7aade31a6da749adbeb6dbd3b081e571",
       "version_major": 2,
       "version_minor": 0
      },
      "text/plain": [
       "  0%|          | 0/20 [00:00<?, ?it/s]"
      ]
     },
     "metadata": {},
     "output_type": "display_data"
    },
    {
     "name": "stdout",
     "output_type": "stream",
     "text": [
      "zero block 19\n",
      "== BLOCK‑WISE MEAN ==\n"
     ]
    },
    {
     "data": {
      "application/vnd.jupyter.widget-view+json": {
       "model_id": "4a9ab94dd1f147a2931e465f39a81728",
       "version_major": 2,
       "version_minor": 0
      },
      "text/plain": [
       "  0%|          | 0/20 [00:00<?, ?it/s]"
      ]
     },
     "metadata": {},
     "output_type": "display_data"
    },
    {
     "name": "stdout",
     "output_type": "stream",
     "text": [
      "mean block 00"
     ]
    },
    {
     "data": {
      "application/vnd.jupyter.widget-view+json": {
       "model_id": "460e09eace2543f795fd4fdadb273e20",
       "version_major": 2,
       "version_minor": 0
      },
      "text/plain": [
       "  0%|          | 0/20 [00:00<?, ?it/s]"
      ]
     },
     "metadata": {},
     "output_type": "display_data"
    },
    {
     "name": "stdout",
     "output_type": "stream",
     "text": [
      "mean block 01"
     ]
    },
    {
     "data": {
      "application/vnd.jupyter.widget-view+json": {
       "model_id": "4139ea3bf14947bb9349643650aef417",
       "version_major": 2,
       "version_minor": 0
      },
      "text/plain": [
       "  0%|          | 0/20 [00:00<?, ?it/s]"
      ]
     },
     "metadata": {},
     "output_type": "display_data"
    },
    {
     "name": "stdout",
     "output_type": "stream",
     "text": [
      "mean block 02"
     ]
    },
    {
     "data": {
      "application/vnd.jupyter.widget-view+json": {
       "model_id": "b0072d7871ec4e73945058be8eba5cfb",
       "version_major": 2,
       "version_minor": 0
      },
      "text/plain": [
       "  0%|          | 0/20 [00:00<?, ?it/s]"
      ]
     },
     "metadata": {},
     "output_type": "display_data"
    },
    {
     "name": "stdout",
     "output_type": "stream",
     "text": [
      "mean block 03"
     ]
    },
    {
     "data": {
      "application/vnd.jupyter.widget-view+json": {
       "model_id": "630d183054b64b81a75f887b53a06e44",
       "version_major": 2,
       "version_minor": 0
      },
      "text/plain": [
       "  0%|          | 0/20 [00:00<?, ?it/s]"
      ]
     },
     "metadata": {},
     "output_type": "display_data"
    },
    {
     "name": "stdout",
     "output_type": "stream",
     "text": [
      "mean block 04"
     ]
    },
    {
     "data": {
      "application/vnd.jupyter.widget-view+json": {
       "model_id": "8bebac9626b046b292817209922273cd",
       "version_major": 2,
       "version_minor": 0
      },
      "text/plain": [
       "  0%|          | 0/20 [00:00<?, ?it/s]"
      ]
     },
     "metadata": {},
     "output_type": "display_data"
    },
    {
     "name": "stdout",
     "output_type": "stream",
     "text": [
      "mean block 05"
     ]
    },
    {
     "data": {
      "application/vnd.jupyter.widget-view+json": {
       "model_id": "6b02e485671547009a1915706a0b7057",
       "version_major": 2,
       "version_minor": 0
      },
      "text/plain": [
       "  0%|          | 0/20 [00:00<?, ?it/s]"
      ]
     },
     "metadata": {},
     "output_type": "display_data"
    },
    {
     "name": "stdout",
     "output_type": "stream",
     "text": [
      "mean block 06"
     ]
    },
    {
     "data": {
      "application/vnd.jupyter.widget-view+json": {
       "model_id": "f86c6f7eb03348d5a0f77e9e69424163",
       "version_major": 2,
       "version_minor": 0
      },
      "text/plain": [
       "  0%|          | 0/20 [00:00<?, ?it/s]"
      ]
     },
     "metadata": {},
     "output_type": "display_data"
    },
    {
     "name": "stdout",
     "output_type": "stream",
     "text": [
      "mean block 07"
     ]
    },
    {
     "data": {
      "application/vnd.jupyter.widget-view+json": {
       "model_id": "a41469f1bc064800ac34ad02a88c38f3",
       "version_major": 2,
       "version_minor": 0
      },
      "text/plain": [
       "  0%|          | 0/20 [00:00<?, ?it/s]"
      ]
     },
     "metadata": {},
     "output_type": "display_data"
    },
    {
     "name": "stdout",
     "output_type": "stream",
     "text": [
      "mean block 08"
     ]
    },
    {
     "data": {
      "application/vnd.jupyter.widget-view+json": {
       "model_id": "f0922c8d141845199b8c3ee684b8ba2b",
       "version_major": 2,
       "version_minor": 0
      },
      "text/plain": [
       "  0%|          | 0/20 [00:00<?, ?it/s]"
      ]
     },
     "metadata": {},
     "output_type": "display_data"
    },
    {
     "name": "stdout",
     "output_type": "stream",
     "text": [
      "mean block 09"
     ]
    },
    {
     "data": {
      "application/vnd.jupyter.widget-view+json": {
       "model_id": "8cf47810dd7f4ee3adabad04b3fcced0",
       "version_major": 2,
       "version_minor": 0
      },
      "text/plain": [
       "  0%|          | 0/20 [00:00<?, ?it/s]"
      ]
     },
     "metadata": {},
     "output_type": "display_data"
    },
    {
     "name": "stdout",
     "output_type": "stream",
     "text": [
      "mean block 10"
     ]
    },
    {
     "data": {
      "application/vnd.jupyter.widget-view+json": {
       "model_id": "57adf653068a475c97760ffa6cb13427",
       "version_major": 2,
       "version_minor": 0
      },
      "text/plain": [
       "  0%|          | 0/20 [00:00<?, ?it/s]"
      ]
     },
     "metadata": {},
     "output_type": "display_data"
    },
    {
     "name": "stdout",
     "output_type": "stream",
     "text": [
      "mean block 11"
     ]
    },
    {
     "data": {
      "application/vnd.jupyter.widget-view+json": {
       "model_id": "c414398482bf4a56b2b55a7f26e8dc7f",
       "version_major": 2,
       "version_minor": 0
      },
      "text/plain": [
       "  0%|          | 0/20 [00:00<?, ?it/s]"
      ]
     },
     "metadata": {},
     "output_type": "display_data"
    },
    {
     "name": "stdout",
     "output_type": "stream",
     "text": [
      "mean block 12"
     ]
    },
    {
     "data": {
      "application/vnd.jupyter.widget-view+json": {
       "model_id": "c3212cb00a2f46eb834b61ed9ed7811d",
       "version_major": 2,
       "version_minor": 0
      },
      "text/plain": [
       "  0%|          | 0/20 [00:00<?, ?it/s]"
      ]
     },
     "metadata": {},
     "output_type": "display_data"
    },
    {
     "name": "stdout",
     "output_type": "stream",
     "text": [
      "mean block 13"
     ]
    },
    {
     "data": {
      "application/vnd.jupyter.widget-view+json": {
       "model_id": "505eed72b6534ec4babca332e7cc91af",
       "version_major": 2,
       "version_minor": 0
      },
      "text/plain": [
       "  0%|          | 0/20 [00:00<?, ?it/s]"
      ]
     },
     "metadata": {},
     "output_type": "display_data"
    },
    {
     "name": "stdout",
     "output_type": "stream",
     "text": [
      "mean block 14"
     ]
    },
    {
     "data": {
      "application/vnd.jupyter.widget-view+json": {
       "model_id": "916bb8b1bb514d48b20df9b4ab37b12f",
       "version_major": 2,
       "version_minor": 0
      },
      "text/plain": [
       "  0%|          | 0/20 [00:00<?, ?it/s]"
      ]
     },
     "metadata": {},
     "output_type": "display_data"
    },
    {
     "name": "stdout",
     "output_type": "stream",
     "text": [
      "mean block 15"
     ]
    },
    {
     "data": {
      "application/vnd.jupyter.widget-view+json": {
       "model_id": "93ba5f666cda482197377e797746985e",
       "version_major": 2,
       "version_minor": 0
      },
      "text/plain": [
       "  0%|          | 0/20 [00:00<?, ?it/s]"
      ]
     },
     "metadata": {},
     "output_type": "display_data"
    },
    {
     "name": "stdout",
     "output_type": "stream",
     "text": [
      "mean block 16"
     ]
    },
    {
     "data": {
      "application/vnd.jupyter.widget-view+json": {
       "model_id": "545b820232484c37ab98109551bab006",
       "version_major": 2,
       "version_minor": 0
      },
      "text/plain": [
       "  0%|          | 0/20 [00:00<?, ?it/s]"
      ]
     },
     "metadata": {},
     "output_type": "display_data"
    },
    {
     "name": "stdout",
     "output_type": "stream",
     "text": [
      "mean block 17"
     ]
    },
    {
     "data": {
      "application/vnd.jupyter.widget-view+json": {
       "model_id": "d8773243671a4b76ac9f3bbb87b320ac",
       "version_major": 2,
       "version_minor": 0
      },
      "text/plain": [
       "  0%|          | 0/20 [00:00<?, ?it/s]"
      ]
     },
     "metadata": {},
     "output_type": "display_data"
    },
    {
     "name": "stdout",
     "output_type": "stream",
     "text": [
      "mean block 18"
     ]
    },
    {
     "data": {
      "application/vnd.jupyter.widget-view+json": {
       "model_id": "99d51881f4874813b1cca1df2328d0cb",
       "version_major": 2,
       "version_minor": 0
      },
      "text/plain": [
       "  0%|          | 0/20 [00:00<?, ?it/s]"
      ]
     },
     "metadata": {},
     "output_type": "display_data"
    },
    {
     "name": "stdout",
     "output_type": "stream",
     "text": [
      "mean block 19\n",
      "✔ Done – results in sana_step_* / sana_block_*\n"
     ]
    }
   ],
   "source": [
    "# =============================================================\n",
    "#  SANA – two ablation experiments\n",
    "#      1. step‑wise  (all blocks at timestep j)\n",
    "#      2. block‑wise (block i across all timesteps)\n",
    "# =============================================================\n",
    "import os, shutil, torch\n",
    "from PIL import Image\n",
    "from diffusers import SanaPipeline\n",
    "\n",
    "# ------------------------------------------------------------------\n",
    "# 0)  config\n",
    "# ------------------------------------------------------------------\n",
    "num_steps      = 20\n",
    "num_blocks     = 20                       # SANA‑1600M has 20 blocks\n",
    "guidance_scale = 3.0                      # same as your last script\n",
    "seed           = 42\n",
    "\n",
    "ROOT_STEP  = {\"zero\": os.path.join(PARENT, \"step_zero\"),\n",
    "              \"mean\": os.path.join(PARENT, \"step_mean\")}\n",
    "ROOT_BLOCK = {\"zero\": os.path.join(PARENT, \"block_zero\"),\n",
    "              \"mean\": os.path.join(PARENT, \"block_mean\")}\n",
    "\n",
    "# create / clean all at once\n",
    "for d in [*ROOT_STEP.values(), *ROOT_BLOCK.values()]:\n",
    "    shutil.rmtree(d, ignore_errors=True)\n",
    "    os.makedirs(d, exist_ok=True)\n",
    "\n",
    "# ------------------------------------------------------------------\n",
    "# 1)  load pipeline (same as before)\n",
    "# ------------------------------------------------------------------\n",
    "pipe = SanaPipeline.from_pretrained(\n",
    "    \"Efficient-Large-Model/Sana_1600M_1024px_diffusers\",\n",
    "    variant=\"fp16\",\n",
    "    torch_dtype=torch.float16,\n",
    ").to(\"cuda\")\n",
    "\n",
    "pipe.vae.to(torch.bfloat16)\n",
    "pipe.text_encoder.to(torch.bfloat16)\n",
    "pipe.scheduler.set_timesteps(num_steps)\n",
    "\n",
    "# ------------------------------------------------------------------\n",
    "# 2)  global timestep counter\n",
    "# ------------------------------------------------------------------\n",
    "step_counter = {\"t\": -1}\n",
    "pipe.transformer.register_forward_pre_hook(lambda *_: step_counter.__setitem__(\"t\", step_counter[\"t\"] + 1))\n",
    "\n",
    "# ------------------------------------------------------------------\n",
    "# 3)  utility: run once with supplied hooks → final PIL.Image\n",
    "# ------------------------------------------------------------------\n",
    "def run_with_hooks(hook_handles):\n",
    "    step_counter[\"t\"] = -1\n",
    "    g = torch.Generator(device=\"cuda\").manual_seed(seed)\n",
    "    with torch.inference_mode():\n",
    "        img = pipe(\n",
    "            prompt              = prompt,\n",
    "            guidance_scale      = guidance_scale,\n",
    "            num_inference_steps = num_steps,\n",
    "            generator           = g,\n",
    "        ).images[0]\n",
    "    for h in hook_handles:\n",
    "        h.remove()\n",
    "    return img\n",
    "\n",
    "# ------------------------------------------------------------------\n",
    "# 4)  baseline (no ablation) into every dir\n",
    "# ------------------------------------------------------------------\n",
    "baseline = run_with_hooks([])\n",
    "for d in [*ROOT_STEP.values(), *ROOT_BLOCK.values()]:\n",
    "    baseline.save(os.path.join(d, \"baseline.png\"))\n",
    "\n",
    "# ------------------------------------------------------------------\n",
    "# 5)  STEP‑WISE experiment\n",
    "# ------------------------------------------------------------------\n",
    "def make_step_hook(abl_type, target_step):\n",
    "    def hook(_m, _inp, out):\n",
    "        if step_counter[\"t\"] != target_step:\n",
    "            return out\n",
    "        if abl_type == \"zero\":\n",
    "            return torch.zeros_like(out)\n",
    "        mean = out.mean(dim=1, keepdim=True) if out.ndim == 3 \\\n",
    "             else out.mean(dim=(2,3), keepdim=True)\n",
    "        return mean.expand_as(out)\n",
    "    return hook\n",
    "\n",
    "for abl_type, root in ROOT_STEP.items():\n",
    "    print(f\"\\n== STEP‑WISE  {abl_type.upper()} ==\")\n",
    "    for j in range(num_steps):\n",
    "        # register hook on **every** block\n",
    "        handles = [\n",
    "            blk.ff.register_forward_hook(make_step_hook(abl_type, j))\n",
    "            for blk in pipe.transformer.transformer_blocks\n",
    "        ]\n",
    "        img = run_with_hooks(handles)\n",
    "        img.save(os.path.join(root, f\"step_{j:02d}.png\"))\n",
    "        print(f\"{abl_type} step {j:02d}\", end=\"\\r\")\n",
    "\n",
    "# ------------------------------------------------------------------\n",
    "# 6)  BLOCK‑WISE experiment\n",
    "# ------------------------------------------------------------------\n",
    "def make_block_hook(abl_type):\n",
    "    def hook(_m, _inp, out):\n",
    "        if abl_type == \"zero\":\n",
    "            return torch.zeros_like(out)\n",
    "        mean = out.mean(dim=1, keepdim=True) if out.ndim == 3 \\\n",
    "             else out.mean(dim=(2,3), keepdim=True)\n",
    "        return mean.expand_as(out)\n",
    "    return hook\n",
    "\n",
    "for abl_type, root in ROOT_BLOCK.items():\n",
    "    print(f\"\\n== BLOCK‑WISE {abl_type.upper()} ==\")\n",
    "    for i, blk in enumerate(pipe.transformer.transformer_blocks):\n",
    "        handle = blk.ff.register_forward_hook(make_block_hook(abl_type))\n",
    "        img = run_with_hooks([handle])\n",
    "        img.save(os.path.join(root, f\"block_{i:02d}.png\"))\n",
    "        print(f\"{abl_type} block {i:02d}\", end=\"\\r\")\n",
    "\n",
    "print(\"\\n✔ Done – results in sana_step_* / sana_block_*\")\n"
   ]
  },
  {
   "cell_type": "code",
   "execution_count": null,
   "id": "4b015a97-60ab-473c-b889-c58c9830f41c",
   "metadata": {},
   "outputs": [],
   "source": [
    "# =============================================================\n",
    "#  SANA – two ablation experiments\n",
    "#      1. step‑wise  (all blocks at timestep j)\n",
    "#      2. block‑wise (block i across all timesteps)\n",
    "# =============================================================\n",
    "import os, shutil, torch\n",
    "from PIL import Image\n",
    "from diffusers import SanaPipeline\n",
    "\n",
    "# ------------------------------------------------------------------\n",
    "# 0)  config\n",
    "# ------------------------------------------------------------------\n",
    "num_steps      = 20\n",
    "num_blocks     = 20                       # SANA‑1600M has 20 blocks\n",
    "guidance_scale = 3.0                      # same as your last script\n",
    "seed           = 42\n",
    "\n",
    "ROOT_STEP  = {\"zero\": os.path.join(PARENT, \"step_zero\"),\n",
    "              \"mean\": os.path.join(PARENT, \"step_mean\")}\n",
    "ROOT_BLOCK = {\"zero\": os.path.join(PARENT, \"block_zero\"),\n",
    "              \"mean\": os.path.join(PARENT, \"block_mean\")}\n",
    "\n",
    "# create / clean all at once\n",
    "for d in [*ROOT_STEP.values(), *ROOT_BLOCK.values()]:\n",
    "    shutil.rmtree(d, ignore_errors=True)\n",
    "    os.makedirs(d, exist_ok=True)\n",
    "\n",
    "# ------------------------------------------------------------------\n",
    "# 1)  load pipeline (same as before)\n",
    "# ------------------------------------------------------------------\n",
    "pipe = SanaPipeline.from_pretrained(\n",
    "    \"Efficient-Large-Model/Sana_1600M_1024px_diffusers\",\n",
    "    variant=\"fp16\",\n",
    "    torch_dtype=torch.float16,\n",
    ").to(\"cuda\")\n",
    "\n",
    "pipe.vae.to(torch.bfloat16)\n",
    "pipe.text_encoder.to(torch.bfloat16)\n",
    "pipe.scheduler.set_timesteps(num_steps)\n",
    "\n",
    "# ------------------------------------------------------------------\n",
    "# 2)  global timestep counter\n",
    "# ------------------------------------------------------------------\n",
    "step_counter = {\"t\": -1}\n",
    "pipe.transformer.register_forward_pre_hook(lambda *_: step_counter.__setitem__(\"t\", step_counter[\"t\"] + 1))\n",
    "\n",
    "# ------------------------------------------------------------------\n",
    "# 3)  utility: run once with supplied hooks → final PIL.Image\n",
    "# ------------------------------------------------------------------\n",
    "def run_with_hooks(hook_handles):\n",
    "    step_counter[\"t\"] = -1\n",
    "    g = torch.Generator(device=\"cuda\").manual_seed(seed)\n",
    "    with torch.inference_mode():\n",
    "        img = pipe(\n",
    "            prompt              = prompt,\n",
    "            guidance_scale      = guidance_scale,\n",
    "            num_inference_steps = num_steps,\n",
    "            generator           = g,\n",
    "        ).images[0]\n",
    "    for h in hook_handles:\n",
    "        h.remove()\n",
    "    return img\n",
    "\n",
    "# ------------------------------------------------------------------\n",
    "# 4)  baseline (no ablation) into every dir\n",
    "# ------------------------------------------------------------------\n",
    "baseline = run_with_hooks([])\n",
    "for d in [*ROOT_STEP.values(), *ROOT_BLOCK.values()]:\n",
    "    baseline.save(os.path.join(d, \"baseline.png\"))\n",
    "\n",
    "# ------------------------------------------------------------------\n",
    "# 5)  STEP‑WISE experiment\n",
    "# ------------------------------------------------------------------\n",
    "def make_step_hook(abl_type, target_step):\n",
    "    def hook(_m, _inp, out):\n",
    "        if step_counter[\"t\"] != target_step:\n",
    "            return out\n",
    "        if abl_type == \"zero\":\n",
    "            return torch.zeros_like(out)\n",
    "        mean = out.mean(dim=1, keepdim=True) if out.ndim == 3 \\\n",
    "             else out.mean(dim=(2,3), keepdim=True)\n",
    "        return mean.expand_as(out)\n",
    "    return hook\n",
    "\n",
    "for abl_type, root in ROOT_STEP.items():\n",
    "    print(f\"\\n== STEP‑WISE  {abl_type.upper()} ==\")\n",
    "    for j in range(num_steps):\n",
    "        # register hook on **every** block\n",
    "        handles = [\n",
    "            blk.ff.register_forward_hook(make_step_hook(abl_type, j))\n",
    "            for blk in pipe.transformer.transformer_blocks\n",
    "        ]\n",
    "        img = run_with_hooks(handles)\n",
    "        img.save(os.path.join(root, f\"step_{j:02d}.png\"))\n",
    "        print(f\"{abl_type} step {j:02d}\", end=\"\\r\")\n",
    "\n",
    "# ------------------------------------------------------------------\n",
    "# 6)  BLOCK‑WISE experiment\n",
    "# ------------------------------------------------------------------\n",
    "def make_block_hook(abl_type):\n",
    "    def hook(_m, _inp, out):\n",
    "        if abl_type == \"zero\":\n",
    "            return torch.zeros_like(out)\n",
    "        mean = out.mean(dim=1, keepdim=True) if out.ndim == 3 \\\n",
    "             else out.mean(dim=(2,3), keepdim=True)\n",
    "        return mean.expand_as(out)\n",
    "    return hook\n",
    "\n",
    "for abl_type, root in ROOT_BLOCK.items():\n",
    "    print(f\"\\n== BLOCK‑WISE {abl_type.upper()} ==\")\n",
    "    for i, blk in enumerate(pipe.transformer.transformer_blocks):\n",
    "        handle = blk.ff.register_forward_hook(make_block_hook(abl_type))\n",
    "        img = run_with_hooks([handle])\n",
    "        img.save(os.path.join(root, f\"block_{i:02d}.png\"))\n",
    "        print(f\"{abl_type} block {i:02d}\", end=\"\\r\")\n",
    "\n",
    "print(\"\\n✔ Done – results in sana_step_* / sana_block_*\")\n"
   ]
  }
 ],
 "metadata": {
  "kernelspec": {
   "display_name": "Python 3 (ipykernel)",
   "language": "python",
   "name": "python3"
  },
  "language_info": {
   "codemirror_mode": {
    "name": "ipython",
    "version": 3
   },
   "file_extension": ".py",
   "mimetype": "text/x-python",
   "name": "python",
   "nbconvert_exporter": "python",
   "pygments_lexer": "ipython3",
   "version": "3.10.0"
  }
 },
 "nbformat": 4,
 "nbformat_minor": 5
}
