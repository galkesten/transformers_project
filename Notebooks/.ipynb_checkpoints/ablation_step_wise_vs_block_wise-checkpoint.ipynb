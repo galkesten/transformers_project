{
 "cells": [
  {
   "cell_type": "markdown",
   "id": "56f4a986-5143-4e26-856f-53886e9b8e24",
   "metadata": {},
   "source": [
    "# SANA FFN Ablation – Step-Wise vs. Block-Wise\n",
    "\n",
    "This experiment ablates the **Feed-Forward Network (FFN)** outputs in the SANA Transformer to assess how they influence the generated image.\n",
    "\n",
    "Two types of ablation are explored:\n",
    "- **Step-wise**: Replace FFN outputs at a specific **timestep** across all blocks.\n",
    "- **Block-wise**: Replace FFN outputs at a specific **transformer block** across all timesteps.\n",
    "\n",
    "Each ablation is done using:\n",
    "- `zero` — replaces FFN output with all zeros.\n",
    "- `mean` — replaces FFN output with its spatial/channel-wise mean.\n",
    "\n",
    "Images are saved for each ablation case and compared to the baseline image.\n"
   ]
  },
  {
   "cell_type": "code",
   "execution_count": 1,
   "id": "061c609d-b074-4069-9886-3edb4bd7dbd0",
   "metadata": {},
   "outputs": [],
   "source": [
    "# prompt= \"a banana at the top of the image and an apple at the bottom\"\n",
    "# PARENT = \"exp2-sana_ablation_results_banana_apple\""
   ]
  },
  {
   "cell_type": "code",
   "execution_count": 2,
   "id": "957b4bd8-8659-4aed-a61b-20c1dc5f7c4b",
   "metadata": {},
   "outputs": [],
   "source": [
    "# prompt = \"a flower at the top, house in the bootom and sky in the right.\"\n",
    "# PARENT = \"exp2-sana_ablation_results_flower, house, sky\""
   ]
  },
  {
   "cell_type": "code",
   "execution_count": 1,
   "id": "4c73cb86-ea9f-472e-a8b4-c58cfc7ba573",
   "metadata": {},
   "outputs": [],
   "source": [
    "prompt= 'flower at the top, house in the bottom, and sky in the right'\n",
    "PARENT = \"exp2-sana_ablation_results_sana\""
   ]
  },
  {
   "cell_type": "code",
   "execution_count": 2,
   "id": "35cffd3e-2fcd-4f7d-a89f-720f9b41b568",
   "metadata": {},
   "outputs": [
    {
     "name": "stderr",
     "output_type": "stream",
     "text": [
      "/home/galkesten/miniconda3/envs/sana/lib/python3.10/site-packages/xformers/ops/fmha/flash.py:211: FutureWarning: `torch.library.impl_abstract` was renamed to `torch.library.register_fake`. Please use that instead; we will remove `torch.library.impl_abstract` in a future version of PyTorch.\n",
      "  @torch.library.impl_abstract(\"xformers_flash::flash_fwd\")\n",
      "/home/galkesten/miniconda3/envs/sana/lib/python3.10/site-packages/xformers/ops/fmha/flash.py:344: FutureWarning: `torch.library.impl_abstract` was renamed to `torch.library.register_fake`. Please use that instead; we will remove `torch.library.impl_abstract` in a future version of PyTorch.\n",
      "  @torch.library.impl_abstract(\"xformers_flash::flash_bwd\")\n",
      "A matching Triton is not available, some optimizations will not be enabled\n",
      "Traceback (most recent call last):\n",
      "  File \"/home/galkesten/miniconda3/envs/sana/lib/python3.10/site-packages/xformers/__init__.py\", line 57, in _is_triton_available\n",
      "    import triton  # noqa\n",
      "  File \"/home/galkesten/miniconda3/envs/sana/lib/python3.10/site-packages/triton/__init__.py\", line 8, in <module>\n",
      "    from .runtime import (\n",
      "  File \"/home/galkesten/miniconda3/envs/sana/lib/python3.10/site-packages/triton/runtime/__init__.py\", line 1, in <module>\n",
      "    from .autotuner import (Autotuner, Config, Heuristics, autotune, heuristics)\n",
      "  File \"/home/galkesten/miniconda3/envs/sana/lib/python3.10/site-packages/triton/runtime/autotuner.py\", line 9, in <module>\n",
      "    from ..testing import do_bench, do_bench_cudagraph\n",
      "  File \"/home/galkesten/miniconda3/envs/sana/lib/python3.10/site-packages/triton/testing.py\", line 7, in <module>\n",
      "    from . import language as tl\n",
      "  File \"/home/galkesten/miniconda3/envs/sana/lib/python3.10/site-packages/triton/language/__init__.py\", line 4, in <module>\n",
      "    from . import math\n",
      "  File \"/home/galkesten/miniconda3/envs/sana/lib/python3.10/site-packages/triton/language/math.py\", line 1, in <module>\n",
      "    from . import core\n",
      "  File \"/home/galkesten/miniconda3/envs/sana/lib/python3.10/site-packages/triton/language/core.py\", line 10, in <module>\n",
      "    from ..runtime.jit import jit\n",
      "  File \"/home/galkesten/miniconda3/envs/sana/lib/python3.10/site-packages/triton/runtime/jit.py\", line 12, in <module>\n",
      "    from ..runtime.driver import driver\n",
      "  File \"/home/galkesten/miniconda3/envs/sana/lib/python3.10/site-packages/triton/runtime/driver.py\", line 1, in <module>\n",
      "    from ..backends import backends\n",
      "  File \"/home/galkesten/miniconda3/envs/sana/lib/python3.10/site-packages/triton/backends/__init__.py\", line 50, in <module>\n",
      "    backends = _discover_backends()\n",
      "  File \"/home/galkesten/miniconda3/envs/sana/lib/python3.10/site-packages/triton/backends/__init__.py\", line 44, in _discover_backends\n",
      "    driver = _load_module(name, os.path.join(root, name, 'driver.py'))\n",
      "  File \"/home/galkesten/miniconda3/envs/sana/lib/python3.10/site-packages/triton/backends/__init__.py\", line 12, in _load_module\n",
      "    spec.loader.exec_module(module)\n",
      "  File \"/home/galkesten/miniconda3/envs/sana/lib/python3.10/site-packages/triton/backends/amd/driver.py\", line 7, in <module>\n",
      "    from triton.runtime.build import _build\n",
      "  File \"/home/galkesten/miniconda3/envs/sana/lib/python3.10/site-packages/triton/runtime/build.py\", line 8, in <module>\n",
      "    import setuptools\n",
      "  File \"/home/galkesten/miniconda3/envs/sana/lib/python3.10/site-packages/setuptools/__init__.py\", line 18, in <module>\n",
      "    from setuptools.dist import Distribution\n",
      "  File \"/home/galkesten/miniconda3/envs/sana/lib/python3.10/site-packages/setuptools/dist.py\", line 39, in <module>\n",
      "    from setuptools.config import parse_configuration\n",
      "  File \"/home/galkesten/miniconda3/envs/sana/lib/python3.10/site-packages/setuptools/config/__init__.py\", line 9, in <module>\n",
      "    from . import setupcfg\n",
      "  File \"/home/galkesten/miniconda3/envs/sana/lib/python3.10/site-packages/setuptools/config/setupcfg.py\", line 27, in <module>\n",
      "    from .._path import StrPath\n",
      "  File \"/home/galkesten/miniconda3/envs/sana/lib/python3.10/site-packages/setuptools/_path.py\", line 8, in <module>\n",
      "    from more_itertools import unique_everseen\n",
      "ModuleNotFoundError: No module named 'more_itertools'\n"
     ]
    },
    {
     "data": {
      "application/vnd.jupyter.widget-view+json": {
       "model_id": "aac531c295b0452e9eb0c74d527435c2",
       "version_major": 2,
       "version_minor": 0
      },
      "text/plain": [
       "Loading pipeline components...:   0%|          | 0/5 [00:00<?, ?it/s]"
      ]
     },
     "metadata": {},
     "output_type": "display_data"
    },
    {
     "data": {
      "application/vnd.jupyter.widget-view+json": {
       "model_id": "d6fdcc065eaf440a9ac9addb9c70adda",
       "version_major": 2,
       "version_minor": 0
      },
      "text/plain": [
       "Loading checkpoint shards:   0%|          | 0/2 [00:00<?, ?it/s]"
      ]
     },
     "metadata": {},
     "output_type": "display_data"
    },
    {
     "data": {
      "application/vnd.jupyter.widget-view+json": {
       "model_id": "1a84d2991f384a0f83b2eb1d191e4b9c",
       "version_major": 2,
       "version_minor": 0
      },
      "text/plain": [
       "  0%|          | 0/20 [00:00<?, ?it/s]"
      ]
     },
     "metadata": {},
     "output_type": "display_data"
    },
    {
     "name": "stdout",
     "output_type": "stream",
     "text": [
      "\n",
      "== STEP‑WISE  ZERO ==\n"
     ]
    },
    {
     "data": {
      "application/vnd.jupyter.widget-view+json": {
       "model_id": "50002f4a957d44c19243e3be7c47034c",
       "version_major": 2,
       "version_minor": 0
      },
      "text/plain": [
       "  0%|          | 0/20 [00:00<?, ?it/s]"
      ]
     },
     "metadata": {},
     "output_type": "display_data"
    },
    {
     "name": "stdout",
     "output_type": "stream",
     "text": [
      "zero step 00"
     ]
    },
    {
     "data": {
      "application/vnd.jupyter.widget-view+json": {
       "model_id": "f470d7e775e9450cbff82988f9e1d046",
       "version_major": 2,
       "version_minor": 0
      },
      "text/plain": [
       "  0%|          | 0/20 [00:00<?, ?it/s]"
      ]
     },
     "metadata": {},
     "output_type": "display_data"
    },
    {
     "name": "stdout",
     "output_type": "stream",
     "text": [
      "zero step 01"
     ]
    },
    {
     "data": {
      "application/vnd.jupyter.widget-view+json": {
       "model_id": "5c7c7ae59dab4ec589772875e7542f22",
       "version_major": 2,
       "version_minor": 0
      },
      "text/plain": [
       "  0%|          | 0/20 [00:00<?, ?it/s]"
      ]
     },
     "metadata": {},
     "output_type": "display_data"
    },
    {
     "name": "stdout",
     "output_type": "stream",
     "text": [
      "zero step 02"
     ]
    },
    {
     "data": {
      "application/vnd.jupyter.widget-view+json": {
       "model_id": "e193d4b32b50411d9ae67fac6b8047fc",
       "version_major": 2,
       "version_minor": 0
      },
      "text/plain": [
       "  0%|          | 0/20 [00:00<?, ?it/s]"
      ]
     },
     "metadata": {},
     "output_type": "display_data"
    },
    {
     "name": "stdout",
     "output_type": "stream",
     "text": [
      "zero step 03"
     ]
    },
    {
     "data": {
      "application/vnd.jupyter.widget-view+json": {
       "model_id": "7caf8c818207464eb53bbb2b8226f331",
       "version_major": 2,
       "version_minor": 0
      },
      "text/plain": [
       "  0%|          | 0/20 [00:00<?, ?it/s]"
      ]
     },
     "metadata": {},
     "output_type": "display_data"
    },
    {
     "name": "stdout",
     "output_type": "stream",
     "text": [
      "zero step 04"
     ]
    },
    {
     "data": {
      "application/vnd.jupyter.widget-view+json": {
       "model_id": "78fc7fd2689549cd983b9dc1cdf0907a",
       "version_major": 2,
       "version_minor": 0
      },
      "text/plain": [
       "  0%|          | 0/20 [00:00<?, ?it/s]"
      ]
     },
     "metadata": {},
     "output_type": "display_data"
    },
    {
     "name": "stdout",
     "output_type": "stream",
     "text": [
      "zero step 05"
     ]
    },
    {
     "data": {
      "application/vnd.jupyter.widget-view+json": {
       "model_id": "4344c6a2b98d4672a721e0157482c8ce",
       "version_major": 2,
       "version_minor": 0
      },
      "text/plain": [
       "  0%|          | 0/20 [00:00<?, ?it/s]"
      ]
     },
     "metadata": {},
     "output_type": "display_data"
    },
    {
     "name": "stdout",
     "output_type": "stream",
     "text": [
      "zero step 06"
     ]
    },
    {
     "data": {
      "application/vnd.jupyter.widget-view+json": {
       "model_id": "5a9e68e7f6b34c89a193bffeb885119f",
       "version_major": 2,
       "version_minor": 0
      },
      "text/plain": [
       "  0%|          | 0/20 [00:00<?, ?it/s]"
      ]
     },
     "metadata": {},
     "output_type": "display_data"
    },
    {
     "name": "stdout",
     "output_type": "stream",
     "text": [
      "zero step 07"
     ]
    },
    {
     "data": {
      "application/vnd.jupyter.widget-view+json": {
       "model_id": "32a1a675166b44c09a82e416543632f3",
       "version_major": 2,
       "version_minor": 0
      },
      "text/plain": [
       "  0%|          | 0/20 [00:00<?, ?it/s]"
      ]
     },
     "metadata": {},
     "output_type": "display_data"
    },
    {
     "name": "stdout",
     "output_type": "stream",
     "text": [
      "zero step 08"
     ]
    },
    {
     "data": {
      "application/vnd.jupyter.widget-view+json": {
       "model_id": "f13b101c161c472a9bef905eee004609",
       "version_major": 2,
       "version_minor": 0
      },
      "text/plain": [
       "  0%|          | 0/20 [00:00<?, ?it/s]"
      ]
     },
     "metadata": {},
     "output_type": "display_data"
    },
    {
     "name": "stdout",
     "output_type": "stream",
     "text": [
      "zero step 09"
     ]
    },
    {
     "data": {
      "application/vnd.jupyter.widget-view+json": {
       "model_id": "b28d378aa5bf48bda1fb5ceba5ea5834",
       "version_major": 2,
       "version_minor": 0
      },
      "text/plain": [
       "  0%|          | 0/20 [00:00<?, ?it/s]"
      ]
     },
     "metadata": {},
     "output_type": "display_data"
    },
    {
     "name": "stdout",
     "output_type": "stream",
     "text": [
      "zero step 10"
     ]
    },
    {
     "data": {
      "application/vnd.jupyter.widget-view+json": {
       "model_id": "3297d49c215045768486b3e8c3ff3a5a",
       "version_major": 2,
       "version_minor": 0
      },
      "text/plain": [
       "  0%|          | 0/20 [00:00<?, ?it/s]"
      ]
     },
     "metadata": {},
     "output_type": "display_data"
    },
    {
     "name": "stdout",
     "output_type": "stream",
     "text": [
      "zero step 11"
     ]
    },
    {
     "data": {
      "application/vnd.jupyter.widget-view+json": {
       "model_id": "c0434159bf5449f19a1d5b3086bc940c",
       "version_major": 2,
       "version_minor": 0
      },
      "text/plain": [
       "  0%|          | 0/20 [00:00<?, ?it/s]"
      ]
     },
     "metadata": {},
     "output_type": "display_data"
    },
    {
     "name": "stdout",
     "output_type": "stream",
     "text": [
      "zero step 12"
     ]
    },
    {
     "data": {
      "application/vnd.jupyter.widget-view+json": {
       "model_id": "faf8bfd2f1d8450585455dbd973e3c43",
       "version_major": 2,
       "version_minor": 0
      },
      "text/plain": [
       "  0%|          | 0/20 [00:00<?, ?it/s]"
      ]
     },
     "metadata": {},
     "output_type": "display_data"
    },
    {
     "name": "stdout",
     "output_type": "stream",
     "text": [
      "zero step 13"
     ]
    },
    {
     "data": {
      "application/vnd.jupyter.widget-view+json": {
       "model_id": "c9eb9e7037f0435aa5ee86cd77bb21d5",
       "version_major": 2,
       "version_minor": 0
      },
      "text/plain": [
       "  0%|          | 0/20 [00:00<?, ?it/s]"
      ]
     },
     "metadata": {},
     "output_type": "display_data"
    },
    {
     "name": "stdout",
     "output_type": "stream",
     "text": [
      "zero step 14"
     ]
    },
    {
     "data": {
      "application/vnd.jupyter.widget-view+json": {
       "model_id": "a64774775ed349efa7c94ad942f0df66",
       "version_major": 2,
       "version_minor": 0
      },
      "text/plain": [
       "  0%|          | 0/20 [00:00<?, ?it/s]"
      ]
     },
     "metadata": {},
     "output_type": "display_data"
    },
    {
     "name": "stdout",
     "output_type": "stream",
     "text": [
      "zero step 15"
     ]
    },
    {
     "data": {
      "application/vnd.jupyter.widget-view+json": {
       "model_id": "8ad7023d4ab44a268a16a97130d739b3",
       "version_major": 2,
       "version_minor": 0
      },
      "text/plain": [
       "  0%|          | 0/20 [00:00<?, ?it/s]"
      ]
     },
     "metadata": {},
     "output_type": "display_data"
    },
    {
     "name": "stdout",
     "output_type": "stream",
     "text": [
      "zero step 16"
     ]
    },
    {
     "data": {
      "application/vnd.jupyter.widget-view+json": {
       "model_id": "bfb8658d6a404513a6ecb5bffc56dcb1",
       "version_major": 2,
       "version_minor": 0
      },
      "text/plain": [
       "  0%|          | 0/20 [00:00<?, ?it/s]"
      ]
     },
     "metadata": {},
     "output_type": "display_data"
    },
    {
     "name": "stdout",
     "output_type": "stream",
     "text": [
      "zero step 17"
     ]
    },
    {
     "data": {
      "application/vnd.jupyter.widget-view+json": {
       "model_id": "da41271280c846a7acd16aa0a1ab8f29",
       "version_major": 2,
       "version_minor": 0
      },
      "text/plain": [
       "  0%|          | 0/20 [00:00<?, ?it/s]"
      ]
     },
     "metadata": {},
     "output_type": "display_data"
    },
    {
     "name": "stdout",
     "output_type": "stream",
     "text": [
      "zero step 18"
     ]
    },
    {
     "data": {
      "application/vnd.jupyter.widget-view+json": {
       "model_id": "975c01f46d2246679d874adbec7afd9c",
       "version_major": 2,
       "version_minor": 0
      },
      "text/plain": [
       "  0%|          | 0/20 [00:00<?, ?it/s]"
      ]
     },
     "metadata": {},
     "output_type": "display_data"
    },
    {
     "name": "stdout",
     "output_type": "stream",
     "text": [
      "zero step 19\n",
      "== STEP‑WISE  MEAN ==\n"
     ]
    },
    {
     "data": {
      "application/vnd.jupyter.widget-view+json": {
       "model_id": "2fd2b69c0cd24992bfe6bf73b86af106",
       "version_major": 2,
       "version_minor": 0
      },
      "text/plain": [
       "  0%|          | 0/20 [00:00<?, ?it/s]"
      ]
     },
     "metadata": {},
     "output_type": "display_data"
    },
    {
     "name": "stdout",
     "output_type": "stream",
     "text": [
      "mean step 00"
     ]
    },
    {
     "data": {
      "application/vnd.jupyter.widget-view+json": {
       "model_id": "667d1a81650545e18c662afe6c08eef1",
       "version_major": 2,
       "version_minor": 0
      },
      "text/plain": [
       "  0%|          | 0/20 [00:00<?, ?it/s]"
      ]
     },
     "metadata": {},
     "output_type": "display_data"
    },
    {
     "name": "stdout",
     "output_type": "stream",
     "text": [
      "mean step 01"
     ]
    },
    {
     "data": {
      "application/vnd.jupyter.widget-view+json": {
       "model_id": "e843de0c5c034a9cacf9a6f3d63c82a6",
       "version_major": 2,
       "version_minor": 0
      },
      "text/plain": [
       "  0%|          | 0/20 [00:00<?, ?it/s]"
      ]
     },
     "metadata": {},
     "output_type": "display_data"
    },
    {
     "name": "stdout",
     "output_type": "stream",
     "text": [
      "mean step 02"
     ]
    },
    {
     "data": {
      "application/vnd.jupyter.widget-view+json": {
       "model_id": "c928ca7dec6a4b9d963cf56366e4a57a",
       "version_major": 2,
       "version_minor": 0
      },
      "text/plain": [
       "  0%|          | 0/20 [00:00<?, ?it/s]"
      ]
     },
     "metadata": {},
     "output_type": "display_data"
    },
    {
     "name": "stdout",
     "output_type": "stream",
     "text": [
      "mean step 03"
     ]
    },
    {
     "data": {
      "application/vnd.jupyter.widget-view+json": {
       "model_id": "8f66817a0ee84b06af1a9eb70a5eccfa",
       "version_major": 2,
       "version_minor": 0
      },
      "text/plain": [
       "  0%|          | 0/20 [00:00<?, ?it/s]"
      ]
     },
     "metadata": {},
     "output_type": "display_data"
    },
    {
     "name": "stdout",
     "output_type": "stream",
     "text": [
      "mean step 04"
     ]
    },
    {
     "data": {
      "application/vnd.jupyter.widget-view+json": {
       "model_id": "b975a879f8f24513b8ea85a49b354e37",
       "version_major": 2,
       "version_minor": 0
      },
      "text/plain": [
       "  0%|          | 0/20 [00:00<?, ?it/s]"
      ]
     },
     "metadata": {},
     "output_type": "display_data"
    },
    {
     "name": "stdout",
     "output_type": "stream",
     "text": [
      "mean step 05"
     ]
    },
    {
     "data": {
      "application/vnd.jupyter.widget-view+json": {
       "model_id": "5dbdf6e7305d4487b5b7aa34c20347ed",
       "version_major": 2,
       "version_minor": 0
      },
      "text/plain": [
       "  0%|          | 0/20 [00:00<?, ?it/s]"
      ]
     },
     "metadata": {},
     "output_type": "display_data"
    },
    {
     "name": "stdout",
     "output_type": "stream",
     "text": [
      "mean step 06"
     ]
    },
    {
     "data": {
      "application/vnd.jupyter.widget-view+json": {
       "model_id": "4237e87cd0364a859c1161d8e4fbd103",
       "version_major": 2,
       "version_minor": 0
      },
      "text/plain": [
       "  0%|          | 0/20 [00:00<?, ?it/s]"
      ]
     },
     "metadata": {},
     "output_type": "display_data"
    },
    {
     "name": "stdout",
     "output_type": "stream",
     "text": [
      "mean step 07"
     ]
    },
    {
     "data": {
      "application/vnd.jupyter.widget-view+json": {
       "model_id": "48cbb3fb42824db381b17c2f0db54090",
       "version_major": 2,
       "version_minor": 0
      },
      "text/plain": [
       "  0%|          | 0/20 [00:00<?, ?it/s]"
      ]
     },
     "metadata": {},
     "output_type": "display_data"
    },
    {
     "name": "stdout",
     "output_type": "stream",
     "text": [
      "mean step 08"
     ]
    },
    {
     "data": {
      "application/vnd.jupyter.widget-view+json": {
       "model_id": "ffdeefeed7c54cc5823ec42a6dc3c1f9",
       "version_major": 2,
       "version_minor": 0
      },
      "text/plain": [
       "  0%|          | 0/20 [00:00<?, ?it/s]"
      ]
     },
     "metadata": {},
     "output_type": "display_data"
    },
    {
     "name": "stdout",
     "output_type": "stream",
     "text": [
      "mean step 09"
     ]
    },
    {
     "data": {
      "application/vnd.jupyter.widget-view+json": {
       "model_id": "873f93299f114bac9a4636e57b81c15d",
       "version_major": 2,
       "version_minor": 0
      },
      "text/plain": [
       "  0%|          | 0/20 [00:00<?, ?it/s]"
      ]
     },
     "metadata": {},
     "output_type": "display_data"
    },
    {
     "name": "stdout",
     "output_type": "stream",
     "text": [
      "mean step 10"
     ]
    },
    {
     "data": {
      "application/vnd.jupyter.widget-view+json": {
       "model_id": "c4e131c34b1d49669992170cde1d93d1",
       "version_major": 2,
       "version_minor": 0
      },
      "text/plain": [
       "  0%|          | 0/20 [00:00<?, ?it/s]"
      ]
     },
     "metadata": {},
     "output_type": "display_data"
    },
    {
     "name": "stdout",
     "output_type": "stream",
     "text": [
      "mean step 11"
     ]
    },
    {
     "data": {
      "application/vnd.jupyter.widget-view+json": {
       "model_id": "a36db9442bcc4469b811772cdcef4a2e",
       "version_major": 2,
       "version_minor": 0
      },
      "text/plain": [
       "  0%|          | 0/20 [00:00<?, ?it/s]"
      ]
     },
     "metadata": {},
     "output_type": "display_data"
    },
    {
     "name": "stdout",
     "output_type": "stream",
     "text": [
      "mean step 12"
     ]
    },
    {
     "data": {
      "application/vnd.jupyter.widget-view+json": {
       "model_id": "cb978c1a51fc42419225a271201ac7aa",
       "version_major": 2,
       "version_minor": 0
      },
      "text/plain": [
       "  0%|          | 0/20 [00:00<?, ?it/s]"
      ]
     },
     "metadata": {},
     "output_type": "display_data"
    },
    {
     "name": "stdout",
     "output_type": "stream",
     "text": [
      "mean step 13"
     ]
    },
    {
     "data": {
      "application/vnd.jupyter.widget-view+json": {
       "model_id": "0153f32093464d9b92c3d0254b7f75dd",
       "version_major": 2,
       "version_minor": 0
      },
      "text/plain": [
       "  0%|          | 0/20 [00:00<?, ?it/s]"
      ]
     },
     "metadata": {},
     "output_type": "display_data"
    },
    {
     "name": "stdout",
     "output_type": "stream",
     "text": [
      "mean step 14"
     ]
    },
    {
     "data": {
      "application/vnd.jupyter.widget-view+json": {
       "model_id": "8b4331c2b49f4a54822fa55e01f194e0",
       "version_major": 2,
       "version_minor": 0
      },
      "text/plain": [
       "  0%|          | 0/20 [00:00<?, ?it/s]"
      ]
     },
     "metadata": {},
     "output_type": "display_data"
    },
    {
     "name": "stdout",
     "output_type": "stream",
     "text": [
      "mean step 15"
     ]
    },
    {
     "data": {
      "application/vnd.jupyter.widget-view+json": {
       "model_id": "16affa5378c94ccda7bf4151bf3dcada",
       "version_major": 2,
       "version_minor": 0
      },
      "text/plain": [
       "  0%|          | 0/20 [00:00<?, ?it/s]"
      ]
     },
     "metadata": {},
     "output_type": "display_data"
    },
    {
     "name": "stdout",
     "output_type": "stream",
     "text": [
      "mean step 16"
     ]
    },
    {
     "data": {
      "application/vnd.jupyter.widget-view+json": {
       "model_id": "afb72bb02fc941029013528987acb3b3",
       "version_major": 2,
       "version_minor": 0
      },
      "text/plain": [
       "  0%|          | 0/20 [00:00<?, ?it/s]"
      ]
     },
     "metadata": {},
     "output_type": "display_data"
    },
    {
     "name": "stdout",
     "output_type": "stream",
     "text": [
      "mean step 17"
     ]
    },
    {
     "data": {
      "application/vnd.jupyter.widget-view+json": {
       "model_id": "df6a52493b284a28830fe5ea5a7ffdda",
       "version_major": 2,
       "version_minor": 0
      },
      "text/plain": [
       "  0%|          | 0/20 [00:00<?, ?it/s]"
      ]
     },
     "metadata": {},
     "output_type": "display_data"
    },
    {
     "name": "stdout",
     "output_type": "stream",
     "text": [
      "mean step 18"
     ]
    },
    {
     "data": {
      "application/vnd.jupyter.widget-view+json": {
       "model_id": "508cbfe5ebf24ce8b4d258e8c101a1d3",
       "version_major": 2,
       "version_minor": 0
      },
      "text/plain": [
       "  0%|          | 0/20 [00:00<?, ?it/s]"
      ]
     },
     "metadata": {},
     "output_type": "display_data"
    },
    {
     "name": "stdout",
     "output_type": "stream",
     "text": [
      "mean step 19\n",
      "== BLOCK‑WISE ZERO ==\n"
     ]
    },
    {
     "data": {
      "application/vnd.jupyter.widget-view+json": {
       "model_id": "98fea840399c4221ab2977cf3c496f83",
       "version_major": 2,
       "version_minor": 0
      },
      "text/plain": [
       "  0%|          | 0/20 [00:00<?, ?it/s]"
      ]
     },
     "metadata": {},
     "output_type": "display_data"
    },
    {
     "name": "stdout",
     "output_type": "stream",
     "text": [
      "zero block 00"
     ]
    },
    {
     "data": {
      "application/vnd.jupyter.widget-view+json": {
       "model_id": "fe7accffbda848ce8599ddbe4c43d7bd",
       "version_major": 2,
       "version_minor": 0
      },
      "text/plain": [
       "  0%|          | 0/20 [00:00<?, ?it/s]"
      ]
     },
     "metadata": {},
     "output_type": "display_data"
    },
    {
     "name": "stdout",
     "output_type": "stream",
     "text": [
      "zero block 01"
     ]
    },
    {
     "data": {
      "application/vnd.jupyter.widget-view+json": {
       "model_id": "4ac421b1af124f1fb23fdd151d5ef6be",
       "version_major": 2,
       "version_minor": 0
      },
      "text/plain": [
       "  0%|          | 0/20 [00:00<?, ?it/s]"
      ]
     },
     "metadata": {},
     "output_type": "display_data"
    },
    {
     "name": "stdout",
     "output_type": "stream",
     "text": [
      "zero block 02"
     ]
    },
    {
     "data": {
      "application/vnd.jupyter.widget-view+json": {
       "model_id": "c603d1df852643b08321bfab4cdb404e",
       "version_major": 2,
       "version_minor": 0
      },
      "text/plain": [
       "  0%|          | 0/20 [00:00<?, ?it/s]"
      ]
     },
     "metadata": {},
     "output_type": "display_data"
    },
    {
     "name": "stdout",
     "output_type": "stream",
     "text": [
      "zero block 03"
     ]
    },
    {
     "data": {
      "application/vnd.jupyter.widget-view+json": {
       "model_id": "366d90504f174779b77989e6ebf2d23c",
       "version_major": 2,
       "version_minor": 0
      },
      "text/plain": [
       "  0%|          | 0/20 [00:00<?, ?it/s]"
      ]
     },
     "metadata": {},
     "output_type": "display_data"
    },
    {
     "name": "stdout",
     "output_type": "stream",
     "text": [
      "zero block 04"
     ]
    },
    {
     "data": {
      "application/vnd.jupyter.widget-view+json": {
       "model_id": "152a1eba9fd54bc39eddbaaa78d80e1f",
       "version_major": 2,
       "version_minor": 0
      },
      "text/plain": [
       "  0%|          | 0/20 [00:00<?, ?it/s]"
      ]
     },
     "metadata": {},
     "output_type": "display_data"
    },
    {
     "name": "stdout",
     "output_type": "stream",
     "text": [
      "zero block 05"
     ]
    },
    {
     "data": {
      "application/vnd.jupyter.widget-view+json": {
       "model_id": "db43ce7cc5f0482290d249b90e1858d9",
       "version_major": 2,
       "version_minor": 0
      },
      "text/plain": [
       "  0%|          | 0/20 [00:00<?, ?it/s]"
      ]
     },
     "metadata": {},
     "output_type": "display_data"
    },
    {
     "name": "stdout",
     "output_type": "stream",
     "text": [
      "zero block 06"
     ]
    },
    {
     "data": {
      "application/vnd.jupyter.widget-view+json": {
       "model_id": "c565c554b7034a03baa76c9accd3bd80",
       "version_major": 2,
       "version_minor": 0
      },
      "text/plain": [
       "  0%|          | 0/20 [00:00<?, ?it/s]"
      ]
     },
     "metadata": {},
     "output_type": "display_data"
    },
    {
     "name": "stdout",
     "output_type": "stream",
     "text": [
      "zero block 07"
     ]
    },
    {
     "data": {
      "application/vnd.jupyter.widget-view+json": {
       "model_id": "f8d907a011714f748837090f5d7a4363",
       "version_major": 2,
       "version_minor": 0
      },
      "text/plain": [
       "  0%|          | 0/20 [00:00<?, ?it/s]"
      ]
     },
     "metadata": {},
     "output_type": "display_data"
    },
    {
     "name": "stdout",
     "output_type": "stream",
     "text": [
      "zero block 08"
     ]
    },
    {
     "data": {
      "application/vnd.jupyter.widget-view+json": {
       "model_id": "cc3e4b3f65964f6793be542c25cf5f96",
       "version_major": 2,
       "version_minor": 0
      },
      "text/plain": [
       "  0%|          | 0/20 [00:00<?, ?it/s]"
      ]
     },
     "metadata": {},
     "output_type": "display_data"
    },
    {
     "name": "stdout",
     "output_type": "stream",
     "text": [
      "zero block 09"
     ]
    },
    {
     "data": {
      "application/vnd.jupyter.widget-view+json": {
       "model_id": "e1b4ab5809ac45c2b5068bb082a3caaa",
       "version_major": 2,
       "version_minor": 0
      },
      "text/plain": [
       "  0%|          | 0/20 [00:00<?, ?it/s]"
      ]
     },
     "metadata": {},
     "output_type": "display_data"
    },
    {
     "name": "stdout",
     "output_type": "stream",
     "text": [
      "zero block 10"
     ]
    },
    {
     "data": {
      "application/vnd.jupyter.widget-view+json": {
       "model_id": "514cc9a4788a4ebeb38b1d76d1f2c9a6",
       "version_major": 2,
       "version_minor": 0
      },
      "text/plain": [
       "  0%|          | 0/20 [00:00<?, ?it/s]"
      ]
     },
     "metadata": {},
     "output_type": "display_data"
    },
    {
     "name": "stdout",
     "output_type": "stream",
     "text": [
      "zero block 11"
     ]
    },
    {
     "data": {
      "application/vnd.jupyter.widget-view+json": {
       "model_id": "f55408b4ca6040babe169166d228cb33",
       "version_major": 2,
       "version_minor": 0
      },
      "text/plain": [
       "  0%|          | 0/20 [00:00<?, ?it/s]"
      ]
     },
     "metadata": {},
     "output_type": "display_data"
    },
    {
     "name": "stdout",
     "output_type": "stream",
     "text": [
      "zero block 12"
     ]
    },
    {
     "data": {
      "application/vnd.jupyter.widget-view+json": {
       "model_id": "047a1ce46dc842e8953d2a9bac52ee4a",
       "version_major": 2,
       "version_minor": 0
      },
      "text/plain": [
       "  0%|          | 0/20 [00:00<?, ?it/s]"
      ]
     },
     "metadata": {},
     "output_type": "display_data"
    },
    {
     "name": "stdout",
     "output_type": "stream",
     "text": [
      "zero block 13"
     ]
    },
    {
     "data": {
      "application/vnd.jupyter.widget-view+json": {
       "model_id": "31eaa2e4b4034dc7bb4ecf0e2e0df588",
       "version_major": 2,
       "version_minor": 0
      },
      "text/plain": [
       "  0%|          | 0/20 [00:00<?, ?it/s]"
      ]
     },
     "metadata": {},
     "output_type": "display_data"
    },
    {
     "name": "stdout",
     "output_type": "stream",
     "text": [
      "zero block 14"
     ]
    },
    {
     "data": {
      "application/vnd.jupyter.widget-view+json": {
       "model_id": "b4c461e4542d408f9918bf38305a1ce8",
       "version_major": 2,
       "version_minor": 0
      },
      "text/plain": [
       "  0%|          | 0/20 [00:00<?, ?it/s]"
      ]
     },
     "metadata": {},
     "output_type": "display_data"
    },
    {
     "name": "stdout",
     "output_type": "stream",
     "text": [
      "zero block 15"
     ]
    },
    {
     "data": {
      "application/vnd.jupyter.widget-view+json": {
       "model_id": "3a15d9be917f4948bae1cc52ecd8fe4f",
       "version_major": 2,
       "version_minor": 0
      },
      "text/plain": [
       "  0%|          | 0/20 [00:00<?, ?it/s]"
      ]
     },
     "metadata": {},
     "output_type": "display_data"
    },
    {
     "name": "stdout",
     "output_type": "stream",
     "text": [
      "zero block 16"
     ]
    },
    {
     "data": {
      "application/vnd.jupyter.widget-view+json": {
       "model_id": "477b78d3ad0f4f99aa8419740f7f6b54",
       "version_major": 2,
       "version_minor": 0
      },
      "text/plain": [
       "  0%|          | 0/20 [00:00<?, ?it/s]"
      ]
     },
     "metadata": {},
     "output_type": "display_data"
    },
    {
     "name": "stdout",
     "output_type": "stream",
     "text": [
      "zero block 17"
     ]
    },
    {
     "data": {
      "application/vnd.jupyter.widget-view+json": {
       "model_id": "5307a70ac8ad476b9b9c1b592ec1a400",
       "version_major": 2,
       "version_minor": 0
      },
      "text/plain": [
       "  0%|          | 0/20 [00:00<?, ?it/s]"
      ]
     },
     "metadata": {},
     "output_type": "display_data"
    },
    {
     "name": "stdout",
     "output_type": "stream",
     "text": [
      "zero block 18"
     ]
    },
    {
     "data": {
      "application/vnd.jupyter.widget-view+json": {
       "model_id": "ce7d23754ea0422aa0048eb9de675aa2",
       "version_major": 2,
       "version_minor": 0
      },
      "text/plain": [
       "  0%|          | 0/20 [00:00<?, ?it/s]"
      ]
     },
     "metadata": {},
     "output_type": "display_data"
    },
    {
     "name": "stdout",
     "output_type": "stream",
     "text": [
      "zero block 19\n",
      "== BLOCK‑WISE MEAN ==\n"
     ]
    },
    {
     "data": {
      "application/vnd.jupyter.widget-view+json": {
       "model_id": "c18aae71e9684989937eee81a3ae4e51",
       "version_major": 2,
       "version_minor": 0
      },
      "text/plain": [
       "  0%|          | 0/20 [00:00<?, ?it/s]"
      ]
     },
     "metadata": {},
     "output_type": "display_data"
    },
    {
     "name": "stdout",
     "output_type": "stream",
     "text": [
      "mean block 00"
     ]
    },
    {
     "data": {
      "application/vnd.jupyter.widget-view+json": {
       "model_id": "8195b3cf048248468f8ce7f43142d045",
       "version_major": 2,
       "version_minor": 0
      },
      "text/plain": [
       "  0%|          | 0/20 [00:00<?, ?it/s]"
      ]
     },
     "metadata": {},
     "output_type": "display_data"
    },
    {
     "name": "stdout",
     "output_type": "stream",
     "text": [
      "mean block 01"
     ]
    },
    {
     "data": {
      "application/vnd.jupyter.widget-view+json": {
       "model_id": "c86af82df03a48d7bd6ec1f95d65484e",
       "version_major": 2,
       "version_minor": 0
      },
      "text/plain": [
       "  0%|          | 0/20 [00:00<?, ?it/s]"
      ]
     },
     "metadata": {},
     "output_type": "display_data"
    },
    {
     "name": "stdout",
     "output_type": "stream",
     "text": [
      "mean block 02"
     ]
    },
    {
     "data": {
      "application/vnd.jupyter.widget-view+json": {
       "model_id": "fcfee0aaa4ab49fb99c541f98330093f",
       "version_major": 2,
       "version_minor": 0
      },
      "text/plain": [
       "  0%|          | 0/20 [00:00<?, ?it/s]"
      ]
     },
     "metadata": {},
     "output_type": "display_data"
    },
    {
     "name": "stdout",
     "output_type": "stream",
     "text": [
      "mean block 03"
     ]
    },
    {
     "data": {
      "application/vnd.jupyter.widget-view+json": {
       "model_id": "771fd98a43c9417da3a21a7506bf7ece",
       "version_major": 2,
       "version_minor": 0
      },
      "text/plain": [
       "  0%|          | 0/20 [00:00<?, ?it/s]"
      ]
     },
     "metadata": {},
     "output_type": "display_data"
    },
    {
     "name": "stdout",
     "output_type": "stream",
     "text": [
      "mean block 04"
     ]
    },
    {
     "data": {
      "application/vnd.jupyter.widget-view+json": {
       "model_id": "2117278a99fa4e61a47b4aed20bd04e3",
       "version_major": 2,
       "version_minor": 0
      },
      "text/plain": [
       "  0%|          | 0/20 [00:00<?, ?it/s]"
      ]
     },
     "metadata": {},
     "output_type": "display_data"
    },
    {
     "name": "stdout",
     "output_type": "stream",
     "text": [
      "mean block 05"
     ]
    },
    {
     "data": {
      "application/vnd.jupyter.widget-view+json": {
       "model_id": "8cabe43dfc4b444eaea1f28f9ebb22b1",
       "version_major": 2,
       "version_minor": 0
      },
      "text/plain": [
       "  0%|          | 0/20 [00:00<?, ?it/s]"
      ]
     },
     "metadata": {},
     "output_type": "display_data"
    },
    {
     "name": "stdout",
     "output_type": "stream",
     "text": [
      "mean block 06"
     ]
    },
    {
     "data": {
      "application/vnd.jupyter.widget-view+json": {
       "model_id": "9e74dafd4cd84aa7a2becbd710e0cbb4",
       "version_major": 2,
       "version_minor": 0
      },
      "text/plain": [
       "  0%|          | 0/20 [00:00<?, ?it/s]"
      ]
     },
     "metadata": {},
     "output_type": "display_data"
    },
    {
     "name": "stdout",
     "output_type": "stream",
     "text": [
      "mean block 07"
     ]
    },
    {
     "data": {
      "application/vnd.jupyter.widget-view+json": {
       "model_id": "54ee59c6ac944ab5afcc1da1b555ae2e",
       "version_major": 2,
       "version_minor": 0
      },
      "text/plain": [
       "  0%|          | 0/20 [00:00<?, ?it/s]"
      ]
     },
     "metadata": {},
     "output_type": "display_data"
    },
    {
     "name": "stdout",
     "output_type": "stream",
     "text": [
      "mean block 08"
     ]
    },
    {
     "data": {
      "application/vnd.jupyter.widget-view+json": {
       "model_id": "40c6e0d5dee443ed886e08002357aaa8",
       "version_major": 2,
       "version_minor": 0
      },
      "text/plain": [
       "  0%|          | 0/20 [00:00<?, ?it/s]"
      ]
     },
     "metadata": {},
     "output_type": "display_data"
    },
    {
     "name": "stdout",
     "output_type": "stream",
     "text": [
      "mean block 09"
     ]
    },
    {
     "data": {
      "application/vnd.jupyter.widget-view+json": {
       "model_id": "a0e804ddb53a41a1acc09923edad7349",
       "version_major": 2,
       "version_minor": 0
      },
      "text/plain": [
       "  0%|          | 0/20 [00:00<?, ?it/s]"
      ]
     },
     "metadata": {},
     "output_type": "display_data"
    },
    {
     "name": "stdout",
     "output_type": "stream",
     "text": [
      "mean block 10"
     ]
    },
    {
     "data": {
      "application/vnd.jupyter.widget-view+json": {
       "model_id": "441bbad3367842aba9da47fdfa4c6234",
       "version_major": 2,
       "version_minor": 0
      },
      "text/plain": [
       "  0%|          | 0/20 [00:00<?, ?it/s]"
      ]
     },
     "metadata": {},
     "output_type": "display_data"
    },
    {
     "name": "stdout",
     "output_type": "stream",
     "text": [
      "mean block 11"
     ]
    },
    {
     "data": {
      "application/vnd.jupyter.widget-view+json": {
       "model_id": "47ac756a0a3641f4975ba31e7664393d",
       "version_major": 2,
       "version_minor": 0
      },
      "text/plain": [
       "  0%|          | 0/20 [00:00<?, ?it/s]"
      ]
     },
     "metadata": {},
     "output_type": "display_data"
    },
    {
     "name": "stdout",
     "output_type": "stream",
     "text": [
      "mean block 12"
     ]
    },
    {
     "data": {
      "application/vnd.jupyter.widget-view+json": {
       "model_id": "cbe71f4f9cd445c98315990a69630f8c",
       "version_major": 2,
       "version_minor": 0
      },
      "text/plain": [
       "  0%|          | 0/20 [00:00<?, ?it/s]"
      ]
     },
     "metadata": {},
     "output_type": "display_data"
    },
    {
     "name": "stdout",
     "output_type": "stream",
     "text": [
      "mean block 13"
     ]
    },
    {
     "data": {
      "application/vnd.jupyter.widget-view+json": {
       "model_id": "b82cd5152eb14c7a805f2d67882dae09",
       "version_major": 2,
       "version_minor": 0
      },
      "text/plain": [
       "  0%|          | 0/20 [00:00<?, ?it/s]"
      ]
     },
     "metadata": {},
     "output_type": "display_data"
    },
    {
     "name": "stdout",
     "output_type": "stream",
     "text": [
      "mean block 14"
     ]
    },
    {
     "data": {
      "application/vnd.jupyter.widget-view+json": {
       "model_id": "0263913acb504177b4d7d52ce56fb826",
       "version_major": 2,
       "version_minor": 0
      },
      "text/plain": [
       "  0%|          | 0/20 [00:00<?, ?it/s]"
      ]
     },
     "metadata": {},
     "output_type": "display_data"
    },
    {
     "name": "stdout",
     "output_type": "stream",
     "text": [
      "mean block 15"
     ]
    },
    {
     "data": {
      "application/vnd.jupyter.widget-view+json": {
       "model_id": "5a17bbe65a314cdc8741457d22fff95b",
       "version_major": 2,
       "version_minor": 0
      },
      "text/plain": [
       "  0%|          | 0/20 [00:00<?, ?it/s]"
      ]
     },
     "metadata": {},
     "output_type": "display_data"
    },
    {
     "name": "stdout",
     "output_type": "stream",
     "text": [
      "mean block 16"
     ]
    },
    {
     "data": {
      "application/vnd.jupyter.widget-view+json": {
       "model_id": "b654317e9b6646b0ae5837567f7f23d2",
       "version_major": 2,
       "version_minor": 0
      },
      "text/plain": [
       "  0%|          | 0/20 [00:00<?, ?it/s]"
      ]
     },
     "metadata": {},
     "output_type": "display_data"
    },
    {
     "name": "stdout",
     "output_type": "stream",
     "text": [
      "mean block 17"
     ]
    },
    {
     "data": {
      "application/vnd.jupyter.widget-view+json": {
       "model_id": "6cd8c96326964ee6ac38f1da41079302",
       "version_major": 2,
       "version_minor": 0
      },
      "text/plain": [
       "  0%|          | 0/20 [00:00<?, ?it/s]"
      ]
     },
     "metadata": {},
     "output_type": "display_data"
    },
    {
     "name": "stdout",
     "output_type": "stream",
     "text": [
      "mean block 18"
     ]
    },
    {
     "data": {
      "application/vnd.jupyter.widget-view+json": {
       "model_id": "4ab8c2e66cd746a5ad4b4de5501fc81a",
       "version_major": 2,
       "version_minor": 0
      },
      "text/plain": [
       "  0%|          | 0/20 [00:00<?, ?it/s]"
      ]
     },
     "metadata": {},
     "output_type": "display_data"
    },
    {
     "name": "stdout",
     "output_type": "stream",
     "text": [
      "mean block 19\n",
      "✔ Done – results in sana_step_* / sana_block_*\n"
     ]
    }
   ],
   "source": [
    "# =============================================================\n",
    "#  SANA – two ablation experiments\n",
    "#      1. step‑wise  (all blocks at timestep j)\n",
    "#      2. block‑wise (block i across all timesteps)\n",
    "# =============================================================\n",
    "import os, shutil, torch\n",
    "from PIL import Image\n",
    "from diffusers import SanaPipeline\n",
    "\n",
    "# ------------------------------------------------------------------\n",
    "# 0)  config\n",
    "# ------------------------------------------------------------------\n",
    "num_steps      = 20\n",
    "num_blocks     = 20                       # SANA‑1600M has 20 blocks\n",
    "guidance_scale = 3.0                      # same as your last script\n",
    "seed           = 42\n",
    "\n",
    "ROOT_STEP  = {\"zero\": os.path.join(PARENT, \"step_zero\"),\n",
    "              \"mean\": os.path.join(PARENT, \"step_mean\")}\n",
    "ROOT_BLOCK = {\"zero\": os.path.join(PARENT, \"block_zero\"),\n",
    "              \"mean\": os.path.join(PARENT, \"block_mean\")}\n",
    "\n",
    "# create / clean all at once\n",
    "for d in [*ROOT_STEP.values(), *ROOT_BLOCK.values()]:\n",
    "    shutil.rmtree(d, ignore_errors=True)\n",
    "    os.makedirs(d, exist_ok=True)\n",
    "\n",
    "# ------------------------------------------------------------------\n",
    "# 1)  load pipeline (same as before)\n",
    "# ------------------------------------------------------------------\n",
    "pipe = SanaPipeline.from_pretrained(\n",
    "    \"Efficient-Large-Model/Sana_1600M_1024px_diffusers\",\n",
    "    variant=\"fp16\",\n",
    "    torch_dtype=torch.float16,\n",
    ").to(\"cuda\")\n",
    "\n",
    "pipe.vae.to(torch.bfloat16)\n",
    "pipe.text_encoder.to(torch.bfloat16)\n",
    "pipe.scheduler.set_timesteps(num_steps)\n",
    "\n",
    "# ------------------------------------------------------------------\n",
    "# 2)  global timestep counter\n",
    "# ------------------------------------------------------------------\n",
    "step_counter = {\"t\": -1}\n",
    "pipe.transformer.register_forward_pre_hook(lambda *_: step_counter.__setitem__(\"t\", step_counter[\"t\"] + 1))\n",
    "\n",
    "# ------------------------------------------------------------------\n",
    "# 3)  utility: run once with supplied hooks → final PIL.Image\n",
    "# ------------------------------------------------------------------\n",
    "def run_with_hooks(hook_handles):\n",
    "    step_counter[\"t\"] = -1\n",
    "    g = torch.Generator(device=\"cuda\").manual_seed(seed)\n",
    "    with torch.inference_mode():\n",
    "        img = pipe(\n",
    "            prompt              = prompt,\n",
    "            guidance_scale      = guidance_scale,\n",
    "            num_inference_steps = num_steps,\n",
    "            generator           = g,\n",
    "        ).images[0]\n",
    "    for h in hook_handles:\n",
    "        h.remove()\n",
    "    return img\n",
    "\n",
    "# ------------------------------------------------------------------\n",
    "# 4)  baseline (no ablation) into every dir\n",
    "# ------------------------------------------------------------------\n",
    "baseline = run_with_hooks([])\n",
    "for d in [*ROOT_STEP.values(), *ROOT_BLOCK.values()]:\n",
    "    baseline.save(os.path.join(d, \"baseline.png\"))\n",
    "\n",
    "# ------------------------------------------------------------------\n",
    "# 5)  STEP‑WISE experiment\n",
    "# ------------------------------------------------------------------\n",
    "def make_step_hook(abl_type, target_step):\n",
    "    def hook(_m, _inp, out):\n",
    "        if step_counter[\"t\"] != target_step:\n",
    "            return out\n",
    "        if abl_type == \"zero\":\n",
    "            return torch.zeros_like(out)\n",
    "        mean = out.mean(dim=1, keepdim=True) if out.ndim == 3 \\\n",
    "             else out.mean(dim=(2,3), keepdim=True)\n",
    "        return mean.expand_as(out)\n",
    "    return hook\n",
    "\n",
    "for abl_type, root in ROOT_STEP.items():\n",
    "    print(f\"\\n== STEP‑WISE  {abl_type.upper()} ==\")\n",
    "    for j in range(num_steps):\n",
    "        # register hook on **every** block\n",
    "        handles = [\n",
    "            blk.ff.register_forward_hook(make_step_hook(abl_type, j))\n",
    "            for blk in pipe.transformer.transformer_blocks\n",
    "        ]\n",
    "        img = run_with_hooks(handles)\n",
    "        img.save(os.path.join(root, f\"step_{j:02d}.png\"))\n",
    "        print(f\"{abl_type} step {j:02d}\", end=\"\\r\")\n",
    "\n",
    "# ------------------------------------------------------------------\n",
    "# 6)  BLOCK‑WISE experiment\n",
    "# ------------------------------------------------------------------\n",
    "def make_block_hook(abl_type):\n",
    "    def hook(_m, _inp, out):\n",
    "        if abl_type == \"zero\":\n",
    "            return torch.zeros_like(out)\n",
    "        mean = out.mean(dim=1, keepdim=True) if out.ndim == 3 \\\n",
    "             else out.mean(dim=(2,3), keepdim=True)\n",
    "        return mean.expand_as(out)\n",
    "    return hook\n",
    "\n",
    "for abl_type, root in ROOT_BLOCK.items():\n",
    "    print(f\"\\n== BLOCK‑WISE {abl_type.upper()} ==\")\n",
    "    for i, blk in enumerate(pipe.transformer.transformer_blocks):\n",
    "        handle = blk.ff.register_forward_hook(make_block_hook(abl_type))\n",
    "        img = run_with_hooks([handle])\n",
    "        img.save(os.path.join(root, f\"block_{i:02d}.png\"))\n",
    "        print(f\"{abl_type} block {i:02d}\", end=\"\\r\")\n",
    "\n",
    "print(\"\\n✔ Done – results in sana_step_* / sana_block_*\")\n"
   ]
  },
  {
   "cell_type": "code",
   "execution_count": null,
   "id": "3fa26b62-f0eb-41de-8e16-e21af2699f86",
   "metadata": {},
   "outputs": [],
   "source": []
  }
 ],
 "metadata": {
  "kernelspec": {
   "display_name": "Python 3 (ipykernel)",
   "language": "python",
   "name": "python3"
  },
  "language_info": {
   "codemirror_mode": {
    "name": "ipython",
    "version": 3
   },
   "file_extension": ".py",
   "mimetype": "text/x-python",
   "name": "python",
   "nbconvert_exporter": "python",
   "pygments_lexer": "ipython3",
   "version": "3.10.0"
  }
 },
 "nbformat": 4,
 "nbformat_minor": 5
}
