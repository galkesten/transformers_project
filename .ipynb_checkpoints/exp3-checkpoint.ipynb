{
 "cells": [
  {
   "cell_type": "markdown",
   "id": "fb46a35c-3d92-4170-89f2-91998950204e",
   "metadata": {},
   "source": [
    "- Defines output directory (exp3/)\n",
    "- Sets model ID, precision (fp16), number of diffusion steps (N_STEPS), transformer levels (N_LEVELS), and random seed.\n",
    "- Loads the SANA model with weights from the Hugging Face repo.\n",
    "- Pushes the model and VAE/text encoder to GPU with the right precision."
   ]
  },
  {
   "cell_type": "code",
   "execution_count": 1,
   "id": "2c256e4b-3f5e-48c5-9600-6e26ab6bdd74",
   "metadata": {},
   "outputs": [],
   "source": [
    "# ==============================================================\n",
    "#  imports, global config, and pipeline load\n",
    "#  ─────────────────────────────────────────────────────────────\n",
    "#  • Sets basic experiment parameters (model id, #steps…)\n",
    "#  • Loads the SANA pipeline on GPU, casting weights to fp16/bf16\n",
    "# ==============================================================\n",
    "import math, itertools, pathlib\n",
    "import torch, tqdm \n",
    "from diffusers import SanaPipeline\n",
    "import re, matplotlib.pyplot as plt\n",
    "from PIL import Image"
   ]
  },
  {
   "cell_type": "code",
   "execution_count": 2,
   "id": "4c740fba-be3f-4274-8178-8d15e7abb4de",
   "metadata": {},
   "outputs": [
    {
     "data": {
      "application/vnd.jupyter.widget-view+json": {
       "model_id": "1cc6a9502856494bb75430f92bca973f",
       "version_major": 2,
       "version_minor": 0
      },
      "text/plain": [
       "Loading pipeline components...:   0%|          | 0/5 [00:00<?, ?it/s]"
      ]
     },
     "metadata": {},
     "output_type": "display_data"
    },
    {
     "data": {
      "application/vnd.jupyter.widget-view+json": {
       "model_id": "65d45b7cfe764071bc636e6ffaf1e196",
       "version_major": 2,
       "version_minor": 0
      },
      "text/plain": [
       "Loading checkpoint shards:   0%|          | 0/2 [00:00<?, ?it/s]"
      ]
     },
     "metadata": {},
     "output_type": "display_data"
    }
   ],
   "source": [
    "# ---------- directory where all outputs will be saved ----------\n",
    "OUTDIR = pathlib.Path(\"exp3\")             # folder name\n",
    "OUTDIR.mkdir(exist_ok=True)                  # create if it doesn't exist\n",
    "\n",
    "# ---------- experiment hyper‑parameters -----------------------\n",
    "MODEL_ID   = \"Efficient-Large-Model/Sana_1600M_1024px_diffusers\"\n",
    "DTYPE      = torch.float16                   # weights dtype for GPU\n",
    "DEVICE     = \"cuda\"                          # or \"mps\" / \"cpu\" if needed\n",
    "N_STEPS    = 20                              # diffusion steps  (T)\n",
    "N_LEVELS   = 20                              # transformer blocks (L)\n",
    "SEED       = 42                              # reproducible randomness\n",
    "PROMPT_TXT = \"sana_position_prompts.txt\"         # text file – one prompt / line\n",
    "\n",
    "\n",
    "# ---------- load SANA pipeline --------------------------------\n",
    "pipe = (\n",
    "    SanaPipeline           # diffusers class\n",
    "    .from_pretrained(MODEL_ID, variant=\"fp16\", torch_dtype=DTYPE)\n",
    "    .to(DEVICE)            # push entire pipeline to GPU\n",
    ")\n",
    "\n",
    "pipe.vae         .to(torch.bfloat16)\n",
    "pipe.text_encoder.to(torch.bfloat16)\n",
    "pipe.scheduler.set_timesteps(N_STEPS)"
   ]
  },
  {
   "cell_type": "markdown",
   "id": "e92321f4-d9f0-4886-b8b7-261cde524d76",
   "metadata": {},
   "source": [
    "This part prepares tools for running and tracking experiments:\n",
    "- Tracks which timestep (t) the model is currently processing via a forward_pre_hook.\n",
    "- Loads text prompts from the file sana_position_prompts.txt.\n",
    "- Defines a generate() helper function to run the pipeline and save results to disk."
   ]
  },
  {
   "cell_type": "code",
   "execution_count": 3,
   "id": "cf0dd7e8-3f8b-4aea-8f72-b94238f04a72",
   "metadata": {},
   "outputs": [
    {
     "name": "stdout",
     "output_type": "stream",
     "text": [
      "Loaded 450 prompts\n"
     ]
    }
   ],
   "source": [
    "# ==============================================================\n",
    "#  utility hooks / helpers\n",
    "#  ─────────────────────────────────────────────────────────────\n",
    "#  • step_counter: lets us know which diffusion step (t) we’re on\n",
    "#  • PROMPTS: list of prompts loaded from the text file\n",
    "#  • generate(): helper to run the pipeline and save an image\n",
    "# ==============================================================\n",
    "# -------- 1. step counter (pre‑hook on entire transformer) ----\n",
    "step_counter = {\"t\": -1}                     # wrapped in dict for mutability\n",
    "\n",
    "def _count_steps(_, __):\n",
    "    \"\"\"Executed *before* each denoising step; increments global t.\"\"\"\n",
    "    step_counter[\"t\"] += 1\n",
    "\n",
    "pipe.transformer.register_forward_pre_hook(_count_steps)\n",
    "\n",
    "# -------- 2. load prompts -------------------------------------\n",
    "with open(PROMPT_TXT) as f:\n",
    "    PROMPTS = [ln.strip() for ln in f if ln.strip()]\n",
    "print(\"Loaded\", len(PROMPTS), \"prompts\")\n",
    "\n",
    "# -------- 3. generate & save helper ---------------------------\n",
    "def generate(prompt: str,\n",
    "             seed: int,\n",
    "             filename: str,\n",
    "             ):\n",
    "    \"\"\"\n",
    "    Runs the pipeline once and writes PNG → OUTDIR/filename\n",
    "    If hooks_enabled=False the model runs normally; otherwise\n",
    "    already‑registered hooks (mean or swap) will manipulate outputs.\n",
    "    \"\"\"\n",
    "    step_counter[\"t\"] = -1                   # reset timestep counter\n",
    "\n",
    "    # Deterministic generator for reproducibility\n",
    "    gen = torch.Generator(device=DEVICE).manual_seed(seed)\n",
    "\n",
    "    # Run diffusion\n",
    "    img = pipe(\n",
    "        prompt,\n",
    "        height=1024, width=1024,\n",
    "        num_inference_steps=N_STEPS,\n",
    "        guidance_scale=5.0,                 # classifier‑free guidance weight\n",
    "        generator=gen\n",
    "    )[0][0]                                    # diffusers returns (images, …)\n",
    "    img.save(OUTDIR / filename)\n",
    "    return img                              # return PIL.Image for display\n"
   ]
  },
  {
   "cell_type": "markdown",
   "id": "1d268ea6-3638-4e03-a9ff-9e67795aae3c",
   "metadata": {},
   "source": [
    "# Phase A – Mean Activation Collection\n",
    "- This phase records the average output of every FFN block at every timestep across all prompts.\n",
    "- Hooks are registered to all FFN modules.\n",
    "- For each prompt, we run the pipeline and record FFN outputs.\n",
    "- After all prompts, the average activation per layer and timestep is computed.\n",
    "- Final means are saved as ffn_mean_maps.pt.--> exp3/ffn_mean_maps.pt"
   ]
  },
  {
   "cell_type": "code",
   "execution_count": 4,
   "id": "0c338749-b4aa-4a76-aa47-98775c39293b",
   "metadata": {},
   "outputs": [],
   "source": [
    "def print_hook_counts():\n",
    "    counts = [\n",
    "        len(mod._forward_hooks)          # PyTorch stores existing hooks here\n",
    "        for mod in pipe.transformer.transformer_blocks\n",
    "    ]\n",
    "    print(\"Hooks per block:\", counts)\n",
    "    print(\"Total hooks    :\", sum(counts))\n"
   ]
  },
  {
   "cell_type": "code",
   "execution_count": null,
   "id": "012b17a0-9818-42dc-8c2f-4a2a68d10c33",
   "metadata": {
    "scrolled": true
   },
   "outputs": [
    {
     "name": "stdout",
     "output_type": "stream",
     "text": [
      "Hooks per block: [0, 0, 0, 0, 0, 0, 0, 0, 0, 0, 0, 0, 0, 0, 0, 0, 0, 0, 0, 0]\n",
      "Total hooks    : 0\n"
     ]
    },
    {
     "name": "stderr",
     "output_type": "stream",
     "text": [
      "Collect means:   0%|                                                        | 0/450 [00:00<?, ?it/s]"
     ]
    },
    {
     "data": {
      "application/vnd.jupyter.widget-view+json": {
       "model_id": "c13bc5712a954b3ea51f424edeac3c47",
       "version_major": 2,
       "version_minor": 0
      },
      "text/plain": [
       "  0%|          | 0/20 [00:00<?, ?it/s]"
      ]
     },
     "metadata": {},
     "output_type": "display_data"
    },
    {
     "name": "stderr",
     "output_type": "stream",
     "text": [
      "Collect means:   0%|                                                | 1/450 [00:03<25:29,  3.41s/it]"
     ]
    },
    {
     "data": {
      "application/vnd.jupyter.widget-view+json": {
       "model_id": "186b9b4fa23d447d83f395de7a130f82",
       "version_major": 2,
       "version_minor": 0
      },
      "text/plain": [
       "  0%|          | 0/20 [00:00<?, ?it/s]"
      ]
     },
     "metadata": {},
     "output_type": "display_data"
    },
    {
     "name": "stderr",
     "output_type": "stream",
     "text": [
      "Collect means:   0%|▏                                               | 2/450 [00:06<24:05,  3.23s/it]"
     ]
    },
    {
     "data": {
      "application/vnd.jupyter.widget-view+json": {
       "model_id": "31dd0eabf4b84fb3876818d30b7d9cb3",
       "version_major": 2,
       "version_minor": 0
      },
      "text/plain": [
       "  0%|          | 0/20 [00:00<?, ?it/s]"
      ]
     },
     "metadata": {},
     "output_type": "display_data"
    },
    {
     "name": "stderr",
     "output_type": "stream",
     "text": [
      "Collect means:   1%|▎                                               | 3/450 [00:09<23:36,  3.17s/it]"
     ]
    },
    {
     "data": {
      "application/vnd.jupyter.widget-view+json": {
       "model_id": "7e765b4b78ef4e0d8306d264518d0642",
       "version_major": 2,
       "version_minor": 0
      },
      "text/plain": [
       "  0%|          | 0/20 [00:00<?, ?it/s]"
      ]
     },
     "metadata": {},
     "output_type": "display_data"
    },
    {
     "name": "stderr",
     "output_type": "stream",
     "text": [
      "Collect means:   1%|▍                                               | 4/450 [00:12<23:20,  3.14s/it]"
     ]
    },
    {
     "data": {
      "application/vnd.jupyter.widget-view+json": {
       "model_id": "14c2da47dbf24d19ad4f38a664a2cb35",
       "version_major": 2,
       "version_minor": 0
      },
      "text/plain": [
       "  0%|          | 0/20 [00:00<?, ?it/s]"
      ]
     },
     "metadata": {},
     "output_type": "display_data"
    },
    {
     "name": "stderr",
     "output_type": "stream",
     "text": [
      "Collect means:   1%|▌                                               | 5/450 [00:15<23:12,  3.13s/it]"
     ]
    },
    {
     "data": {
      "application/vnd.jupyter.widget-view+json": {
       "model_id": "f2738d80f97a4cca936c92a39203d63e",
       "version_major": 2,
       "version_minor": 0
      },
      "text/plain": [
       "  0%|          | 0/20 [00:00<?, ?it/s]"
      ]
     },
     "metadata": {},
     "output_type": "display_data"
    },
    {
     "name": "stderr",
     "output_type": "stream",
     "text": [
      "Collect means:   1%|▋                                               | 6/450 [00:18<23:04,  3.12s/it]"
     ]
    },
    {
     "data": {
      "application/vnd.jupyter.widget-view+json": {
       "model_id": "23d7682f0a124d50847e4417d332d789",
       "version_major": 2,
       "version_minor": 0
      },
      "text/plain": [
       "  0%|          | 0/20 [00:00<?, ?it/s]"
      ]
     },
     "metadata": {},
     "output_type": "display_data"
    },
    {
     "name": "stderr",
     "output_type": "stream",
     "text": [
      "Collect means:   2%|▋                                               | 7/450 [00:22<22:58,  3.11s/it]"
     ]
    },
    {
     "data": {
      "application/vnd.jupyter.widget-view+json": {
       "model_id": "1ea5ddc740c9438aabe9fdaa7defd19b",
       "version_major": 2,
       "version_minor": 0
      },
      "text/plain": [
       "  0%|          | 0/20 [00:00<?, ?it/s]"
      ]
     },
     "metadata": {},
     "output_type": "display_data"
    },
    {
     "name": "stderr",
     "output_type": "stream",
     "text": [
      "Collect means:   2%|▊                                               | 8/450 [00:25<22:55,  3.11s/it]"
     ]
    },
    {
     "data": {
      "application/vnd.jupyter.widget-view+json": {
       "model_id": "8424176471cb4b0d9c650ac5c659c6c1",
       "version_major": 2,
       "version_minor": 0
      },
      "text/plain": [
       "  0%|          | 0/20 [00:00<?, ?it/s]"
      ]
     },
     "metadata": {},
     "output_type": "display_data"
    },
    {
     "name": "stderr",
     "output_type": "stream",
     "text": [
      "Collect means:   2%|▉                                               | 9/450 [00:28<22:51,  3.11s/it]"
     ]
    },
    {
     "data": {
      "application/vnd.jupyter.widget-view+json": {
       "model_id": "62146dfa752246c08d06f64022c1dbf1",
       "version_major": 2,
       "version_minor": 0
      },
      "text/plain": [
       "  0%|          | 0/20 [00:00<?, ?it/s]"
      ]
     },
     "metadata": {},
     "output_type": "display_data"
    },
    {
     "name": "stderr",
     "output_type": "stream",
     "text": [
      "Collect means:   2%|█                                              | 10/450 [00:31<22:47,  3.11s/it]"
     ]
    },
    {
     "data": {
      "application/vnd.jupyter.widget-view+json": {
       "model_id": "3811141b35a64082992f9b33664a6d52",
       "version_major": 2,
       "version_minor": 0
      },
      "text/plain": [
       "  0%|          | 0/20 [00:00<?, ?it/s]"
      ]
     },
     "metadata": {},
     "output_type": "display_data"
    },
    {
     "name": "stderr",
     "output_type": "stream",
     "text": [
      "Collect means:   2%|█▏                                             | 11/450 [00:34<22:43,  3.11s/it]"
     ]
    },
    {
     "data": {
      "application/vnd.jupyter.widget-view+json": {
       "model_id": "957ff43560ba4bdda1b7f5f40e1c6d36",
       "version_major": 2,
       "version_minor": 0
      },
      "text/plain": [
       "  0%|          | 0/20 [00:00<?, ?it/s]"
      ]
     },
     "metadata": {},
     "output_type": "display_data"
    },
    {
     "name": "stderr",
     "output_type": "stream",
     "text": [
      "Collect means:   3%|█▎                                             | 12/450 [00:37<22:40,  3.11s/it]"
     ]
    },
    {
     "data": {
      "application/vnd.jupyter.widget-view+json": {
       "model_id": "81744074579c45e8887679760d7db24a",
       "version_major": 2,
       "version_minor": 0
      },
      "text/plain": [
       "  0%|          | 0/20 [00:00<?, ?it/s]"
      ]
     },
     "metadata": {},
     "output_type": "display_data"
    },
    {
     "name": "stderr",
     "output_type": "stream",
     "text": [
      "Collect means:   3%|█▎                                             | 13/450 [00:40<22:36,  3.11s/it]"
     ]
    },
    {
     "data": {
      "application/vnd.jupyter.widget-view+json": {
       "model_id": "d193c707b8204a0e81506136fda209ad",
       "version_major": 2,
       "version_minor": 0
      },
      "text/plain": [
       "  0%|          | 0/20 [00:00<?, ?it/s]"
      ]
     },
     "metadata": {},
     "output_type": "display_data"
    },
    {
     "name": "stderr",
     "output_type": "stream",
     "text": [
      "Collect means:   3%|█▍                                             | 14/450 [00:43<22:33,  3.10s/it]"
     ]
    },
    {
     "data": {
      "application/vnd.jupyter.widget-view+json": {
       "model_id": "67ef8ee3000347a6a9c78ec8a6753ccd",
       "version_major": 2,
       "version_minor": 0
      },
      "text/plain": [
       "  0%|          | 0/20 [00:00<?, ?it/s]"
      ]
     },
     "metadata": {},
     "output_type": "display_data"
    },
    {
     "name": "stderr",
     "output_type": "stream",
     "text": [
      "Collect means:   3%|█▌                                             | 15/450 [00:46<22:31,  3.11s/it]"
     ]
    },
    {
     "data": {
      "application/vnd.jupyter.widget-view+json": {
       "model_id": "662082fa14424e5382fe6a1ec1aa5443",
       "version_major": 2,
       "version_minor": 0
      },
      "text/plain": [
       "  0%|          | 0/20 [00:00<?, ?it/s]"
      ]
     },
     "metadata": {},
     "output_type": "display_data"
    },
    {
     "name": "stderr",
     "output_type": "stream",
     "text": [
      "Collect means:   4%|█▋                                             | 16/450 [00:49<22:27,  3.11s/it]"
     ]
    },
    {
     "data": {
      "application/vnd.jupyter.widget-view+json": {
       "model_id": "3ef6b211f7e145a2ab7c5bae6aba8f74",
       "version_major": 2,
       "version_minor": 0
      },
      "text/plain": [
       "  0%|          | 0/20 [00:00<?, ?it/s]"
      ]
     },
     "metadata": {},
     "output_type": "display_data"
    },
    {
     "name": "stderr",
     "output_type": "stream",
     "text": [
      "Collect means:   4%|█▊                                             | 17/450 [00:53<22:24,  3.11s/it]"
     ]
    },
    {
     "data": {
      "application/vnd.jupyter.widget-view+json": {
       "model_id": "bc02f072de274f48a88e5aec0c37c4b6",
       "version_major": 2,
       "version_minor": 0
      },
      "text/plain": [
       "  0%|          | 0/20 [00:00<?, ?it/s]"
      ]
     },
     "metadata": {},
     "output_type": "display_data"
    },
    {
     "name": "stderr",
     "output_type": "stream",
     "text": [
      "Collect means:   4%|█▉                                             | 18/450 [00:56<22:21,  3.11s/it]"
     ]
    },
    {
     "data": {
      "application/vnd.jupyter.widget-view+json": {
       "model_id": "ee727f44b3374b3384801591f863db79",
       "version_major": 2,
       "version_minor": 0
      },
      "text/plain": [
       "  0%|          | 0/20 [00:00<?, ?it/s]"
      ]
     },
     "metadata": {},
     "output_type": "display_data"
    },
    {
     "name": "stderr",
     "output_type": "stream",
     "text": [
      "Collect means:   4%|█▉                                             | 19/450 [00:59<22:18,  3.11s/it]"
     ]
    },
    {
     "data": {
      "application/vnd.jupyter.widget-view+json": {
       "model_id": "b052cb1d5eff4242ba3cbf39cf42194a",
       "version_major": 2,
       "version_minor": 0
      },
      "text/plain": [
       "  0%|          | 0/20 [00:00<?, ?it/s]"
      ]
     },
     "metadata": {},
     "output_type": "display_data"
    },
    {
     "name": "stderr",
     "output_type": "stream",
     "text": [
      "Collect means:   4%|██                                             | 20/450 [01:02<22:16,  3.11s/it]"
     ]
    },
    {
     "data": {
      "application/vnd.jupyter.widget-view+json": {
       "model_id": "d73a5bbe0ca14065933611df5141d5a1",
       "version_major": 2,
       "version_minor": 0
      },
      "text/plain": [
       "  0%|          | 0/20 [00:00<?, ?it/s]"
      ]
     },
     "metadata": {},
     "output_type": "display_data"
    },
    {
     "name": "stderr",
     "output_type": "stream",
     "text": [
      "Collect means:   5%|██▏                                            | 21/450 [01:05<22:13,  3.11s/it]"
     ]
    },
    {
     "data": {
      "application/vnd.jupyter.widget-view+json": {
       "model_id": "8a92363ecd1d4b94a67a223c61acd055",
       "version_major": 2,
       "version_minor": 0
      },
      "text/plain": [
       "  0%|          | 0/20 [00:00<?, ?it/s]"
      ]
     },
     "metadata": {},
     "output_type": "display_data"
    },
    {
     "name": "stderr",
     "output_type": "stream",
     "text": [
      "Collect means:   5%|██▎                                            | 22/450 [01:08<22:10,  3.11s/it]"
     ]
    },
    {
     "data": {
      "application/vnd.jupyter.widget-view+json": {
       "model_id": "de2d7bf1827e485f9aefb399f3a38cea",
       "version_major": 2,
       "version_minor": 0
      },
      "text/plain": [
       "  0%|          | 0/20 [00:00<?, ?it/s]"
      ]
     },
     "metadata": {},
     "output_type": "display_data"
    },
    {
     "name": "stderr",
     "output_type": "stream",
     "text": [
      "Collect means:   5%|██▍                                            | 23/450 [01:11<22:06,  3.11s/it]"
     ]
    },
    {
     "data": {
      "application/vnd.jupyter.widget-view+json": {
       "model_id": "a817d656ec0f40b79c760f7153f724b4",
       "version_major": 2,
       "version_minor": 0
      },
      "text/plain": [
       "  0%|          | 0/20 [00:00<?, ?it/s]"
      ]
     },
     "metadata": {},
     "output_type": "display_data"
    },
    {
     "name": "stderr",
     "output_type": "stream",
     "text": [
      "Collect means:   5%|██▌                                            | 24/450 [01:14<22:04,  3.11s/it]"
     ]
    },
    {
     "data": {
      "application/vnd.jupyter.widget-view+json": {
       "model_id": "9300b34907c74b428a3e6a880443a250",
       "version_major": 2,
       "version_minor": 0
      },
      "text/plain": [
       "  0%|          | 0/20 [00:00<?, ?it/s]"
      ]
     },
     "metadata": {},
     "output_type": "display_data"
    },
    {
     "name": "stderr",
     "output_type": "stream",
     "text": [
      "Collect means:   6%|██▌                                            | 25/450 [01:17<22:00,  3.11s/it]"
     ]
    },
    {
     "data": {
      "application/vnd.jupyter.widget-view+json": {
       "model_id": "b7196ee7f5a54b92b6e398c4b9eba1b4",
       "version_major": 2,
       "version_minor": 0
      },
      "text/plain": [
       "  0%|          | 0/20 [00:00<?, ?it/s]"
      ]
     },
     "metadata": {},
     "output_type": "display_data"
    },
    {
     "name": "stderr",
     "output_type": "stream",
     "text": [
      "Collect means:   6%|██▋                                            | 26/450 [01:21<21:57,  3.11s/it]"
     ]
    },
    {
     "data": {
      "application/vnd.jupyter.widget-view+json": {
       "model_id": "7d5c22e2886140a6a79ab9e2468eff9f",
       "version_major": 2,
       "version_minor": 0
      },
      "text/plain": [
       "  0%|          | 0/20 [00:00<?, ?it/s]"
      ]
     },
     "metadata": {},
     "output_type": "display_data"
    },
    {
     "name": "stderr",
     "output_type": "stream",
     "text": [
      "Collect means:   6%|██▊                                            | 27/450 [01:24<21:54,  3.11s/it]"
     ]
    },
    {
     "data": {
      "application/vnd.jupyter.widget-view+json": {
       "model_id": "6dd2561a57a24f9c929b57c62351a84d",
       "version_major": 2,
       "version_minor": 0
      },
      "text/plain": [
       "  0%|          | 0/20 [00:00<?, ?it/s]"
      ]
     },
     "metadata": {},
     "output_type": "display_data"
    },
    {
     "name": "stderr",
     "output_type": "stream",
     "text": [
      "Collect means:   6%|██▉                                            | 28/450 [01:27<21:51,  3.11s/it]"
     ]
    },
    {
     "data": {
      "application/vnd.jupyter.widget-view+json": {
       "model_id": "dae80c685d584f9583a305d5322c2135",
       "version_major": 2,
       "version_minor": 0
      },
      "text/plain": [
       "  0%|          | 0/20 [00:00<?, ?it/s]"
      ]
     },
     "metadata": {},
     "output_type": "display_data"
    },
    {
     "name": "stderr",
     "output_type": "stream",
     "text": [
      "Collect means:   6%|███                                            | 29/450 [01:30<21:48,  3.11s/it]"
     ]
    },
    {
     "data": {
      "application/vnd.jupyter.widget-view+json": {
       "model_id": "9c81b58af8e348609e4dbd9a052e98e9",
       "version_major": 2,
       "version_minor": 0
      },
      "text/plain": [
       "  0%|          | 0/20 [00:00<?, ?it/s]"
      ]
     },
     "metadata": {},
     "output_type": "display_data"
    },
    {
     "name": "stderr",
     "output_type": "stream",
     "text": [
      "Collect means:   7%|███▏                                           | 30/450 [01:33<21:44,  3.11s/it]"
     ]
    },
    {
     "data": {
      "application/vnd.jupyter.widget-view+json": {
       "model_id": "6cf1073de4e74eecac21c31416872189",
       "version_major": 2,
       "version_minor": 0
      },
      "text/plain": [
       "  0%|          | 0/20 [00:00<?, ?it/s]"
      ]
     },
     "metadata": {},
     "output_type": "display_data"
    },
    {
     "name": "stderr",
     "output_type": "stream",
     "text": [
      "Collect means:   7%|███▏                                           | 31/450 [01:36<21:42,  3.11s/it]"
     ]
    },
    {
     "data": {
      "application/vnd.jupyter.widget-view+json": {
       "model_id": "5d9ec94ba76443318fce62a2f1c87ae8",
       "version_major": 2,
       "version_minor": 0
      },
      "text/plain": [
       "  0%|          | 0/20 [00:00<?, ?it/s]"
      ]
     },
     "metadata": {},
     "output_type": "display_data"
    },
    {
     "name": "stderr",
     "output_type": "stream",
     "text": [
      "Collect means:   7%|███▎                                           | 32/450 [01:39<21:39,  3.11s/it]"
     ]
    },
    {
     "data": {
      "application/vnd.jupyter.widget-view+json": {
       "model_id": "67627e546d8a49a0ad8f296c8a36896d",
       "version_major": 2,
       "version_minor": 0
      },
      "text/plain": [
       "  0%|          | 0/20 [00:00<?, ?it/s]"
      ]
     },
     "metadata": {},
     "output_type": "display_data"
    },
    {
     "name": "stderr",
     "output_type": "stream",
     "text": [
      "Collect means:   7%|███▍                                           | 33/450 [01:42<21:35,  3.11s/it]"
     ]
    },
    {
     "data": {
      "application/vnd.jupyter.widget-view+json": {
       "model_id": "d157a9f70b46470b90de67c1388d23e6",
       "version_major": 2,
       "version_minor": 0
      },
      "text/plain": [
       "  0%|          | 0/20 [00:00<?, ?it/s]"
      ]
     },
     "metadata": {},
     "output_type": "display_data"
    },
    {
     "name": "stderr",
     "output_type": "stream",
     "text": [
      "Collect means:   8%|███▌                                           | 34/450 [01:45<21:32,  3.11s/it]"
     ]
    },
    {
     "data": {
      "application/vnd.jupyter.widget-view+json": {
       "model_id": "c1c457b7eb254a18bd62dfe1c18b07b1",
       "version_major": 2,
       "version_minor": 0
      },
      "text/plain": [
       "  0%|          | 0/20 [00:00<?, ?it/s]"
      ]
     },
     "metadata": {},
     "output_type": "display_data"
    },
    {
     "name": "stderr",
     "output_type": "stream",
     "text": [
      "Collect means:   8%|███▋                                           | 35/450 [01:49<21:29,  3.11s/it]"
     ]
    },
    {
     "data": {
      "application/vnd.jupyter.widget-view+json": {
       "model_id": "65de673f8e1247caad5f55532e80e90b",
       "version_major": 2,
       "version_minor": 0
      },
      "text/plain": [
       "  0%|          | 0/20 [00:00<?, ?it/s]"
      ]
     },
     "metadata": {},
     "output_type": "display_data"
    },
    {
     "name": "stderr",
     "output_type": "stream",
     "text": [
      "Collect means:   8%|███▊                                           | 36/450 [01:52<21:26,  3.11s/it]"
     ]
    },
    {
     "data": {
      "application/vnd.jupyter.widget-view+json": {
       "model_id": "99e7c926d0144e6b897938635d6ceef9",
       "version_major": 2,
       "version_minor": 0
      },
      "text/plain": [
       "  0%|          | 0/20 [00:00<?, ?it/s]"
      ]
     },
     "metadata": {},
     "output_type": "display_data"
    },
    {
     "name": "stderr",
     "output_type": "stream",
     "text": [
      "Collect means:   8%|███▊                                           | 37/450 [01:55<21:23,  3.11s/it]"
     ]
    },
    {
     "data": {
      "application/vnd.jupyter.widget-view+json": {
       "model_id": "da7f39fdaec24051905b38a8955acae4",
       "version_major": 2,
       "version_minor": 0
      },
      "text/plain": [
       "  0%|          | 0/20 [00:00<?, ?it/s]"
      ]
     },
     "metadata": {},
     "output_type": "display_data"
    },
    {
     "name": "stderr",
     "output_type": "stream",
     "text": [
      "Collect means:   8%|███▉                                           | 38/450 [01:58<21:20,  3.11s/it]"
     ]
    },
    {
     "data": {
      "application/vnd.jupyter.widget-view+json": {
       "model_id": "d21c8d9592bc408b966da8b06a547497",
       "version_major": 2,
       "version_minor": 0
      },
      "text/plain": [
       "  0%|          | 0/20 [00:00<?, ?it/s]"
      ]
     },
     "metadata": {},
     "output_type": "display_data"
    },
    {
     "name": "stderr",
     "output_type": "stream",
     "text": [
      "Collect means:   9%|████                                           | 39/450 [02:01<21:16,  3.11s/it]"
     ]
    },
    {
     "data": {
      "application/vnd.jupyter.widget-view+json": {
       "model_id": "08980940177e4a1da33d63a7f80412ca",
       "version_major": 2,
       "version_minor": 0
      },
      "text/plain": [
       "  0%|          | 0/20 [00:00<?, ?it/s]"
      ]
     },
     "metadata": {},
     "output_type": "display_data"
    },
    {
     "name": "stderr",
     "output_type": "stream",
     "text": [
      "Collect means:   9%|████▏                                          | 40/450 [02:04<21:13,  3.11s/it]"
     ]
    },
    {
     "data": {
      "application/vnd.jupyter.widget-view+json": {
       "model_id": "8c0c0744b02b4495a011db57ca420bb4",
       "version_major": 2,
       "version_minor": 0
      },
      "text/plain": [
       "  0%|          | 0/20 [00:00<?, ?it/s]"
      ]
     },
     "metadata": {},
     "output_type": "display_data"
    },
    {
     "name": "stderr",
     "output_type": "stream",
     "text": [
      "Collect means:   9%|████▎                                          | 41/450 [02:07<21:11,  3.11s/it]"
     ]
    },
    {
     "data": {
      "application/vnd.jupyter.widget-view+json": {
       "model_id": "247d82ba9043443c8645aa25fd0a785d",
       "version_major": 2,
       "version_minor": 0
      },
      "text/plain": [
       "  0%|          | 0/20 [00:00<?, ?it/s]"
      ]
     },
     "metadata": {},
     "output_type": "display_data"
    },
    {
     "name": "stderr",
     "output_type": "stream",
     "text": [
      "Collect means:   9%|████▍                                          | 42/450 [02:10<21:08,  3.11s/it]"
     ]
    },
    {
     "data": {
      "application/vnd.jupyter.widget-view+json": {
       "model_id": "97d4f9b95986475b83d3de14c2fff9a3",
       "version_major": 2,
       "version_minor": 0
      },
      "text/plain": [
       "  0%|          | 0/20 [00:00<?, ?it/s]"
      ]
     },
     "metadata": {},
     "output_type": "display_data"
    },
    {
     "name": "stderr",
     "output_type": "stream",
     "text": [
      "Collect means:  10%|████▍                                          | 43/450 [02:13<21:04,  3.11s/it]"
     ]
    },
    {
     "data": {
      "application/vnd.jupyter.widget-view+json": {
       "model_id": "e3bbbe9abd994837bbf8b1a7117aa11b",
       "version_major": 2,
       "version_minor": 0
      },
      "text/plain": [
       "  0%|          | 0/20 [00:00<?, ?it/s]"
      ]
     },
     "metadata": {},
     "output_type": "display_data"
    },
    {
     "name": "stderr",
     "output_type": "stream",
     "text": [
      "Collect means:  10%|████▌                                          | 44/450 [02:16<21:01,  3.11s/it]"
     ]
    },
    {
     "data": {
      "application/vnd.jupyter.widget-view+json": {
       "model_id": "b5a943a6d2b2448695b9b402c111c9a6",
       "version_major": 2,
       "version_minor": 0
      },
      "text/plain": [
       "  0%|          | 0/20 [00:00<?, ?it/s]"
      ]
     },
     "metadata": {},
     "output_type": "display_data"
    },
    {
     "name": "stderr",
     "output_type": "stream",
     "text": [
      "Collect means:  10%|████▋                                          | 45/450 [02:20<20:58,  3.11s/it]"
     ]
    },
    {
     "data": {
      "application/vnd.jupyter.widget-view+json": {
       "model_id": "ad8d26a8166a4358846ecd2c8862a601",
       "version_major": 2,
       "version_minor": 0
      },
      "text/plain": [
       "  0%|          | 0/20 [00:00<?, ?it/s]"
      ]
     },
     "metadata": {},
     "output_type": "display_data"
    },
    {
     "name": "stderr",
     "output_type": "stream",
     "text": [
      "Collect means:  10%|████▊                                          | 46/450 [02:23<20:55,  3.11s/it]"
     ]
    },
    {
     "data": {
      "application/vnd.jupyter.widget-view+json": {
       "model_id": "6c11cc3a77074070aeda64806d15bbd8",
       "version_major": 2,
       "version_minor": 0
      },
      "text/plain": [
       "  0%|          | 0/20 [00:00<?, ?it/s]"
      ]
     },
     "metadata": {},
     "output_type": "display_data"
    },
    {
     "name": "stderr",
     "output_type": "stream",
     "text": [
      "Collect means:  10%|████▉                                          | 47/450 [02:26<20:52,  3.11s/it]"
     ]
    },
    {
     "data": {
      "application/vnd.jupyter.widget-view+json": {
       "model_id": "33d93874fdd340edbf98a4e77038d133",
       "version_major": 2,
       "version_minor": 0
      },
      "text/plain": [
       "  0%|          | 0/20 [00:00<?, ?it/s]"
      ]
     },
     "metadata": {},
     "output_type": "display_data"
    },
    {
     "name": "stderr",
     "output_type": "stream",
     "text": [
      "Collect means:  11%|█████                                          | 48/450 [02:29<20:49,  3.11s/it]"
     ]
    },
    {
     "data": {
      "application/vnd.jupyter.widget-view+json": {
       "model_id": "a11be6aee1f741c19900aef3f79e70be",
       "version_major": 2,
       "version_minor": 0
      },
      "text/plain": [
       "  0%|          | 0/20 [00:00<?, ?it/s]"
      ]
     },
     "metadata": {},
     "output_type": "display_data"
    },
    {
     "name": "stderr",
     "output_type": "stream",
     "text": [
      "Collect means:  11%|█████                                          | 49/450 [02:32<20:46,  3.11s/it]"
     ]
    },
    {
     "data": {
      "application/vnd.jupyter.widget-view+json": {
       "model_id": "b0265ff21c7848f09635dffdb8e50ea1",
       "version_major": 2,
       "version_minor": 0
      },
      "text/plain": [
       "  0%|          | 0/20 [00:00<?, ?it/s]"
      ]
     },
     "metadata": {},
     "output_type": "display_data"
    },
    {
     "name": "stderr",
     "output_type": "stream",
     "text": [
      "Collect means:  11%|█████▏                                         | 50/450 [02:35<20:42,  3.11s/it]"
     ]
    },
    {
     "data": {
      "application/vnd.jupyter.widget-view+json": {
       "model_id": "7f2f216d708943a4a1f174a5912e1da1",
       "version_major": 2,
       "version_minor": 0
      },
      "text/plain": [
       "  0%|          | 0/20 [00:00<?, ?it/s]"
      ]
     },
     "metadata": {},
     "output_type": "display_data"
    },
    {
     "name": "stderr",
     "output_type": "stream",
     "text": [
      "Collect means:  11%|█████▎                                         | 51/450 [02:38<20:39,  3.11s/it]"
     ]
    },
    {
     "data": {
      "application/vnd.jupyter.widget-view+json": {
       "model_id": "09a7eaf0afa448288a735506a33d987c",
       "version_major": 2,
       "version_minor": 0
      },
      "text/plain": [
       "  0%|          | 0/20 [00:00<?, ?it/s]"
      ]
     },
     "metadata": {},
     "output_type": "display_data"
    },
    {
     "name": "stderr",
     "output_type": "stream",
     "text": [
      "Collect means:  12%|█████▍                                         | 52/450 [02:41<20:35,  3.11s/it]"
     ]
    },
    {
     "data": {
      "application/vnd.jupyter.widget-view+json": {
       "model_id": "8eb782ac9c2e40aabf134594c1e667d0",
       "version_major": 2,
       "version_minor": 0
      },
      "text/plain": [
       "  0%|          | 0/20 [00:00<?, ?it/s]"
      ]
     },
     "metadata": {},
     "output_type": "display_data"
    },
    {
     "name": "stderr",
     "output_type": "stream",
     "text": [
      "Collect means:  12%|█████▌                                         | 53/450 [02:44<20:33,  3.11s/it]"
     ]
    },
    {
     "data": {
      "application/vnd.jupyter.widget-view+json": {
       "model_id": "e63f113d4abd4c69a7361b4dbb6dcda8",
       "version_major": 2,
       "version_minor": 0
      },
      "text/plain": [
       "  0%|          | 0/20 [00:00<?, ?it/s]"
      ]
     },
     "metadata": {},
     "output_type": "display_data"
    },
    {
     "name": "stderr",
     "output_type": "stream",
     "text": [
      "Collect means:  12%|█████▋                                         | 54/450 [02:48<20:29,  3.11s/it]"
     ]
    },
    {
     "data": {
      "application/vnd.jupyter.widget-view+json": {
       "model_id": "9f24562aed984b86bff5285e1e0a1624",
       "version_major": 2,
       "version_minor": 0
      },
      "text/plain": [
       "  0%|          | 0/20 [00:00<?, ?it/s]"
      ]
     },
     "metadata": {},
     "output_type": "display_data"
    },
    {
     "name": "stderr",
     "output_type": "stream",
     "text": [
      "Collect means:  12%|█████▋                                         | 55/450 [02:51<20:26,  3.11s/it]"
     ]
    },
    {
     "data": {
      "application/vnd.jupyter.widget-view+json": {
       "model_id": "9bcc6f7c4ca643f0bbdbc0de3cf697ad",
       "version_major": 2,
       "version_minor": 0
      },
      "text/plain": [
       "  0%|          | 0/20 [00:00<?, ?it/s]"
      ]
     },
     "metadata": {},
     "output_type": "display_data"
    },
    {
     "name": "stderr",
     "output_type": "stream",
     "text": [
      "Collect means:  12%|█████▊                                         | 56/450 [02:54<20:23,  3.10s/it]"
     ]
    },
    {
     "data": {
      "application/vnd.jupyter.widget-view+json": {
       "model_id": "7a65375825d443f68803d3e82c222add",
       "version_major": 2,
       "version_minor": 0
      },
      "text/plain": [
       "  0%|          | 0/20 [00:00<?, ?it/s]"
      ]
     },
     "metadata": {},
     "output_type": "display_data"
    },
    {
     "name": "stderr",
     "output_type": "stream",
     "text": [
      "Collect means:  13%|█████▉                                         | 57/450 [02:57<20:20,  3.11s/it]"
     ]
    },
    {
     "data": {
      "application/vnd.jupyter.widget-view+json": {
       "model_id": "2e5a8d5564b54252b9a41479e14a0838",
       "version_major": 2,
       "version_minor": 0
      },
      "text/plain": [
       "  0%|          | 0/20 [00:00<?, ?it/s]"
      ]
     },
     "metadata": {},
     "output_type": "display_data"
    },
    {
     "name": "stderr",
     "output_type": "stream",
     "text": [
      "Collect means:  13%|██████                                         | 58/450 [03:00<20:17,  3.10s/it]"
     ]
    },
    {
     "data": {
      "application/vnd.jupyter.widget-view+json": {
       "model_id": "e9bb03334b42485bb824fcf914ff93f3",
       "version_major": 2,
       "version_minor": 0
      },
      "text/plain": [
       "  0%|          | 0/20 [00:00<?, ?it/s]"
      ]
     },
     "metadata": {},
     "output_type": "display_data"
    },
    {
     "name": "stderr",
     "output_type": "stream",
     "text": [
      "Collect means:  13%|██████▏                                        | 59/450 [03:03<20:13,  3.10s/it]"
     ]
    },
    {
     "data": {
      "application/vnd.jupyter.widget-view+json": {
       "model_id": "c3758382d5c1488688b19c7c27ac775e",
       "version_major": 2,
       "version_minor": 0
      },
      "text/plain": [
       "  0%|          | 0/20 [00:00<?, ?it/s]"
      ]
     },
     "metadata": {},
     "output_type": "display_data"
    },
    {
     "name": "stderr",
     "output_type": "stream",
     "text": [
      "Collect means:  13%|██████▎                                        | 60/450 [03:06<20:10,  3.10s/it]"
     ]
    },
    {
     "data": {
      "application/vnd.jupyter.widget-view+json": {
       "model_id": "e410960b8cbe496a83a02fdbc0a3368e",
       "version_major": 2,
       "version_minor": 0
      },
      "text/plain": [
       "  0%|          | 0/20 [00:00<?, ?it/s]"
      ]
     },
     "metadata": {},
     "output_type": "display_data"
    },
    {
     "name": "stderr",
     "output_type": "stream",
     "text": [
      "Collect means:  14%|██████▎                                        | 61/450 [03:09<20:07,  3.11s/it]"
     ]
    },
    {
     "data": {
      "application/vnd.jupyter.widget-view+json": {
       "model_id": "a2c5579cd46b4d998de78feb8453c14a",
       "version_major": 2,
       "version_minor": 0
      },
      "text/plain": [
       "  0%|          | 0/20 [00:00<?, ?it/s]"
      ]
     },
     "metadata": {},
     "output_type": "display_data"
    },
    {
     "name": "stderr",
     "output_type": "stream",
     "text": [
      "Collect means:  14%|██████▍                                        | 62/450 [03:12<20:05,  3.11s/it]"
     ]
    },
    {
     "data": {
      "application/vnd.jupyter.widget-view+json": {
       "model_id": "3b67509bb98b4938b99653353542b148",
       "version_major": 2,
       "version_minor": 0
      },
      "text/plain": [
       "  0%|          | 0/20 [00:00<?, ?it/s]"
      ]
     },
     "metadata": {},
     "output_type": "display_data"
    },
    {
     "name": "stderr",
     "output_type": "stream",
     "text": [
      "Collect means:  14%|██████▌                                        | 63/450 [03:15<20:02,  3.11s/it]"
     ]
    },
    {
     "data": {
      "application/vnd.jupyter.widget-view+json": {
       "model_id": "1b68d2504f26424fa405266f95a63642",
       "version_major": 2,
       "version_minor": 0
      },
      "text/plain": [
       "  0%|          | 0/20 [00:00<?, ?it/s]"
      ]
     },
     "metadata": {},
     "output_type": "display_data"
    },
    {
     "name": "stderr",
     "output_type": "stream",
     "text": [
      "Collect means:  14%|██████▋                                        | 64/450 [03:19<19:59,  3.11s/it]"
     ]
    },
    {
     "data": {
      "application/vnd.jupyter.widget-view+json": {
       "model_id": "14b01ca6e0a94921bb5608fbd5fe219f",
       "version_major": 2,
       "version_minor": 0
      },
      "text/plain": [
       "  0%|          | 0/20 [00:00<?, ?it/s]"
      ]
     },
     "metadata": {},
     "output_type": "display_data"
    },
    {
     "name": "stderr",
     "output_type": "stream",
     "text": [
      "Collect means:  14%|██████▊                                        | 65/450 [03:22<19:55,  3.11s/it]"
     ]
    },
    {
     "data": {
      "application/vnd.jupyter.widget-view+json": {
       "model_id": "2ceab01528654dfcae474b77951bf4e7",
       "version_major": 2,
       "version_minor": 0
      },
      "text/plain": [
       "  0%|          | 0/20 [00:00<?, ?it/s]"
      ]
     },
     "metadata": {},
     "output_type": "display_data"
    },
    {
     "name": "stderr",
     "output_type": "stream",
     "text": [
      "Collect means:  15%|██████▉                                        | 66/450 [03:25<19:52,  3.10s/it]"
     ]
    },
    {
     "data": {
      "application/vnd.jupyter.widget-view+json": {
       "model_id": "3ba9d0ddedc840c49c98852d432e3f2b",
       "version_major": 2,
       "version_minor": 0
      },
      "text/plain": [
       "  0%|          | 0/20 [00:00<?, ?it/s]"
      ]
     },
     "metadata": {},
     "output_type": "display_data"
    },
    {
     "name": "stderr",
     "output_type": "stream",
     "text": [
      "Collect means:  15%|██████▉                                        | 67/450 [03:28<19:49,  3.10s/it]"
     ]
    },
    {
     "data": {
      "application/vnd.jupyter.widget-view+json": {
       "model_id": "4f1767b59fb2463c85b2664ce47615c9",
       "version_major": 2,
       "version_minor": 0
      },
      "text/plain": [
       "  0%|          | 0/20 [00:00<?, ?it/s]"
      ]
     },
     "metadata": {},
     "output_type": "display_data"
    },
    {
     "name": "stderr",
     "output_type": "stream",
     "text": [
      "Collect means:  15%|███████                                        | 68/450 [03:31<19:45,  3.10s/it]"
     ]
    },
    {
     "data": {
      "application/vnd.jupyter.widget-view+json": {
       "model_id": "99b8f09559c8431ea024b653b8ad1587",
       "version_major": 2,
       "version_minor": 0
      },
      "text/plain": [
       "  0%|          | 0/20 [00:00<?, ?it/s]"
      ]
     },
     "metadata": {},
     "output_type": "display_data"
    },
    {
     "name": "stderr",
     "output_type": "stream",
     "text": [
      "Collect means:  15%|███████▏                                       | 69/450 [03:34<19:42,  3.10s/it]"
     ]
    },
    {
     "data": {
      "application/vnd.jupyter.widget-view+json": {
       "model_id": "349b7f58be9f4ad381fea6a5c0072a02",
       "version_major": 2,
       "version_minor": 0
      },
      "text/plain": [
       "  0%|          | 0/20 [00:00<?, ?it/s]"
      ]
     },
     "metadata": {},
     "output_type": "display_data"
    },
    {
     "name": "stderr",
     "output_type": "stream",
     "text": [
      "Collect means:  16%|███████▎                                       | 70/450 [03:37<19:39,  3.10s/it]"
     ]
    },
    {
     "data": {
      "application/vnd.jupyter.widget-view+json": {
       "model_id": "bd61815317dd4a2f9efbe91aedecb21c",
       "version_major": 2,
       "version_minor": 0
      },
      "text/plain": [
       "  0%|          | 0/20 [00:00<?, ?it/s]"
      ]
     },
     "metadata": {},
     "output_type": "display_data"
    },
    {
     "name": "stderr",
     "output_type": "stream",
     "text": [
      "Collect means:  16%|███████▍                                       | 71/450 [03:40<19:36,  3.10s/it]"
     ]
    },
    {
     "data": {
      "application/vnd.jupyter.widget-view+json": {
       "model_id": "81a4814efe7946ff8719678ef8c48739",
       "version_major": 2,
       "version_minor": 0
      },
      "text/plain": [
       "  0%|          | 0/20 [00:00<?, ?it/s]"
      ]
     },
     "metadata": {},
     "output_type": "display_data"
    },
    {
     "name": "stderr",
     "output_type": "stream",
     "text": [
      "Collect means:  16%|███████▌                                       | 72/450 [03:43<19:33,  3.10s/it]"
     ]
    },
    {
     "data": {
      "application/vnd.jupyter.widget-view+json": {
       "model_id": "09e4b74bb26d43399c93cf71881908e2",
       "version_major": 2,
       "version_minor": 0
      },
      "text/plain": [
       "  0%|          | 0/20 [00:00<?, ?it/s]"
      ]
     },
     "metadata": {},
     "output_type": "display_data"
    },
    {
     "name": "stderr",
     "output_type": "stream",
     "text": [
      "Collect means:  16%|███████▌                                       | 73/450 [03:47<19:30,  3.10s/it]"
     ]
    },
    {
     "data": {
      "application/vnd.jupyter.widget-view+json": {
       "model_id": "5e5e7eb960dc4e099250a5c32d9f4252",
       "version_major": 2,
       "version_minor": 0
      },
      "text/plain": [
       "  0%|          | 0/20 [00:00<?, ?it/s]"
      ]
     },
     "metadata": {},
     "output_type": "display_data"
    },
    {
     "name": "stderr",
     "output_type": "stream",
     "text": [
      "Collect means:  16%|███████▋                                       | 74/450 [03:50<19:27,  3.11s/it]"
     ]
    },
    {
     "data": {
      "application/vnd.jupyter.widget-view+json": {
       "model_id": "51f41ad4eaee46d192eedc1b98b4b35b",
       "version_major": 2,
       "version_minor": 0
      },
      "text/plain": [
       "  0%|          | 0/20 [00:00<?, ?it/s]"
      ]
     },
     "metadata": {},
     "output_type": "display_data"
    },
    {
     "name": "stderr",
     "output_type": "stream",
     "text": [
      "Collect means:  17%|███████▊                                       | 75/450 [03:53<19:24,  3.11s/it]"
     ]
    },
    {
     "data": {
      "application/vnd.jupyter.widget-view+json": {
       "model_id": "8ca63655c51c440f9828a4760c619511",
       "version_major": 2,
       "version_minor": 0
      },
      "text/plain": [
       "  0%|          | 0/20 [00:00<?, ?it/s]"
      ]
     },
     "metadata": {},
     "output_type": "display_data"
    },
    {
     "name": "stderr",
     "output_type": "stream",
     "text": [
      "Collect means:  17%|███████▉                                       | 76/450 [03:56<19:21,  3.10s/it]"
     ]
    },
    {
     "data": {
      "application/vnd.jupyter.widget-view+json": {
       "model_id": "d019be208e0c438e8782e5ccc21b0d83",
       "version_major": 2,
       "version_minor": 0
      },
      "text/plain": [
       "  0%|          | 0/20 [00:00<?, ?it/s]"
      ]
     },
     "metadata": {},
     "output_type": "display_data"
    },
    {
     "name": "stderr",
     "output_type": "stream",
     "text": [
      "Collect means:  17%|████████                                       | 77/450 [03:59<19:18,  3.10s/it]"
     ]
    },
    {
     "data": {
      "application/vnd.jupyter.widget-view+json": {
       "model_id": "5485df2003fb497d9e7184b9dceeece7",
       "version_major": 2,
       "version_minor": 0
      },
      "text/plain": [
       "  0%|          | 0/20 [00:00<?, ?it/s]"
      ]
     },
     "metadata": {},
     "output_type": "display_data"
    },
    {
     "name": "stderr",
     "output_type": "stream",
     "text": [
      "Collect means:  17%|████████▏                                      | 78/450 [04:02<19:14,  3.10s/it]"
     ]
    },
    {
     "data": {
      "application/vnd.jupyter.widget-view+json": {
       "model_id": "6135d122ac04435b893bb97290d37cbc",
       "version_major": 2,
       "version_minor": 0
      },
      "text/plain": [
       "  0%|          | 0/20 [00:00<?, ?it/s]"
      ]
     },
     "metadata": {},
     "output_type": "display_data"
    },
    {
     "name": "stderr",
     "output_type": "stream",
     "text": [
      "Collect means:  18%|████████▎                                      | 79/450 [04:05<19:11,  3.10s/it]"
     ]
    },
    {
     "data": {
      "application/vnd.jupyter.widget-view+json": {
       "model_id": "466160cfd873494b998d3345966ad0be",
       "version_major": 2,
       "version_minor": 0
      },
      "text/plain": [
       "  0%|          | 0/20 [00:00<?, ?it/s]"
      ]
     },
     "metadata": {},
     "output_type": "display_data"
    },
    {
     "name": "stderr",
     "output_type": "stream",
     "text": [
      "Collect means:  18%|████████▎                                      | 80/450 [04:08<19:08,  3.10s/it]"
     ]
    },
    {
     "data": {
      "application/vnd.jupyter.widget-view+json": {
       "model_id": "f32fba9216d0478cbfb6275ed7949680",
       "version_major": 2,
       "version_minor": 0
      },
      "text/plain": [
       "  0%|          | 0/20 [00:00<?, ?it/s]"
      ]
     },
     "metadata": {},
     "output_type": "display_data"
    },
    {
     "name": "stderr",
     "output_type": "stream",
     "text": [
      "Collect means:  18%|████████▍                                      | 81/450 [04:11<19:05,  3.10s/it]"
     ]
    },
    {
     "data": {
      "application/vnd.jupyter.widget-view+json": {
       "model_id": "67c752cdcc124ebf86c63e2fc1f7dcd3",
       "version_major": 2,
       "version_minor": 0
      },
      "text/plain": [
       "  0%|          | 0/20 [00:00<?, ?it/s]"
      ]
     },
     "metadata": {},
     "output_type": "display_data"
    },
    {
     "name": "stderr",
     "output_type": "stream",
     "text": [
      "Collect means:  18%|████████▌                                      | 82/450 [04:14<19:01,  3.10s/it]"
     ]
    },
    {
     "data": {
      "application/vnd.jupyter.widget-view+json": {
       "model_id": "fab517cbb4054883b7a67d2811fbe9d1",
       "version_major": 2,
       "version_minor": 0
      },
      "text/plain": [
       "  0%|          | 0/20 [00:00<?, ?it/s]"
      ]
     },
     "metadata": {},
     "output_type": "display_data"
    },
    {
     "name": "stderr",
     "output_type": "stream",
     "text": [
      "Collect means:  18%|████████▋                                      | 83/450 [04:18<18:58,  3.10s/it]"
     ]
    },
    {
     "data": {
      "application/vnd.jupyter.widget-view+json": {
       "model_id": "543272ad3bb146178dd775417b1f783a",
       "version_major": 2,
       "version_minor": 0
      },
      "text/plain": [
       "  0%|          | 0/20 [00:00<?, ?it/s]"
      ]
     },
     "metadata": {},
     "output_type": "display_data"
    },
    {
     "name": "stderr",
     "output_type": "stream",
     "text": [
      "Collect means:  19%|████████▊                                      | 84/450 [04:21<18:55,  3.10s/it]"
     ]
    },
    {
     "data": {
      "application/vnd.jupyter.widget-view+json": {
       "model_id": "ddf0867942064bb284721f0a9d986b9b",
       "version_major": 2,
       "version_minor": 0
      },
      "text/plain": [
       "  0%|          | 0/20 [00:00<?, ?it/s]"
      ]
     },
     "metadata": {},
     "output_type": "display_data"
    },
    {
     "name": "stderr",
     "output_type": "stream",
     "text": [
      "Collect means:  19%|████████▉                                      | 85/450 [04:24<18:52,  3.10s/it]"
     ]
    },
    {
     "data": {
      "application/vnd.jupyter.widget-view+json": {
       "model_id": "dc1529159a0648d7a214d1bc1605d6b1",
       "version_major": 2,
       "version_minor": 0
      },
      "text/plain": [
       "  0%|          | 0/20 [00:00<?, ?it/s]"
      ]
     },
     "metadata": {},
     "output_type": "display_data"
    },
    {
     "name": "stderr",
     "output_type": "stream",
     "text": [
      "Collect means:  19%|████████▉                                      | 86/450 [04:27<18:49,  3.10s/it]"
     ]
    },
    {
     "data": {
      "application/vnd.jupyter.widget-view+json": {
       "model_id": "cbb21df82b7242409550545110f5ffb8",
       "version_major": 2,
       "version_minor": 0
      },
      "text/plain": [
       "  0%|          | 0/20 [00:00<?, ?it/s]"
      ]
     },
     "metadata": {},
     "output_type": "display_data"
    },
    {
     "name": "stderr",
     "output_type": "stream",
     "text": [
      "Collect means:  19%|█████████                                      | 87/450 [04:30<18:47,  3.11s/it]"
     ]
    },
    {
     "data": {
      "application/vnd.jupyter.widget-view+json": {
       "model_id": "e50ea642332a45ec99e4307cb2b07591",
       "version_major": 2,
       "version_minor": 0
      },
      "text/plain": [
       "  0%|          | 0/20 [00:00<?, ?it/s]"
      ]
     },
     "metadata": {},
     "output_type": "display_data"
    },
    {
     "name": "stderr",
     "output_type": "stream",
     "text": [
      "Collect means:  20%|█████████▏                                     | 88/450 [04:33<18:44,  3.11s/it]"
     ]
    },
    {
     "data": {
      "application/vnd.jupyter.widget-view+json": {
       "model_id": "e8aad8fac6064d6a8fa3287a7780dd70",
       "version_major": 2,
       "version_minor": 0
      },
      "text/plain": [
       "  0%|          | 0/20 [00:00<?, ?it/s]"
      ]
     },
     "metadata": {},
     "output_type": "display_data"
    },
    {
     "name": "stderr",
     "output_type": "stream",
     "text": [
      "Collect means:  20%|█████████▎                                     | 89/450 [04:36<18:41,  3.11s/it]"
     ]
    },
    {
     "data": {
      "application/vnd.jupyter.widget-view+json": {
       "model_id": "9478896d79c24a9d8439c0e0fa6271f1",
       "version_major": 2,
       "version_minor": 0
      },
      "text/plain": [
       "  0%|          | 0/20 [00:00<?, ?it/s]"
      ]
     },
     "metadata": {},
     "output_type": "display_data"
    },
    {
     "name": "stderr",
     "output_type": "stream",
     "text": [
      "Collect means:  20%|█████████▍                                     | 90/450 [04:39<18:37,  3.10s/it]"
     ]
    },
    {
     "data": {
      "application/vnd.jupyter.widget-view+json": {
       "model_id": "fd27834a2d714f88b64b741c92ebea9d",
       "version_major": 2,
       "version_minor": 0
      },
      "text/plain": [
       "  0%|          | 0/20 [00:00<?, ?it/s]"
      ]
     },
     "metadata": {},
     "output_type": "display_data"
    },
    {
     "name": "stderr",
     "output_type": "stream",
     "text": [
      "Collect means:  20%|█████████▌                                     | 91/450 [04:42<18:34,  3.10s/it]"
     ]
    },
    {
     "data": {
      "application/vnd.jupyter.widget-view+json": {
       "model_id": "d47281a4f08f46e39374b57ca351056d",
       "version_major": 2,
       "version_minor": 0
      },
      "text/plain": [
       "  0%|          | 0/20 [00:00<?, ?it/s]"
      ]
     },
     "metadata": {},
     "output_type": "display_data"
    },
    {
     "name": "stderr",
     "output_type": "stream",
     "text": [
      "Collect means:  20%|█████████▌                                     | 92/450 [04:46<18:31,  3.10s/it]"
     ]
    },
    {
     "data": {
      "application/vnd.jupyter.widget-view+json": {
       "model_id": "56a9dd2dab154168b4b8dbd9cf34fbe4",
       "version_major": 2,
       "version_minor": 0
      },
      "text/plain": [
       "  0%|          | 0/20 [00:00<?, ?it/s]"
      ]
     },
     "metadata": {},
     "output_type": "display_data"
    },
    {
     "name": "stderr",
     "output_type": "stream",
     "text": [
      "Collect means:  21%|█████████▋                                     | 93/450 [04:49<18:28,  3.10s/it]"
     ]
    },
    {
     "data": {
      "application/vnd.jupyter.widget-view+json": {
       "model_id": "b98fe5a62df9498bbffb285cd25c7dfb",
       "version_major": 2,
       "version_minor": 0
      },
      "text/plain": [
       "  0%|          | 0/20 [00:00<?, ?it/s]"
      ]
     },
     "metadata": {},
     "output_type": "display_data"
    },
    {
     "name": "stderr",
     "output_type": "stream",
     "text": [
      "Collect means:  21%|█████████▊                                     | 94/450 [04:52<18:25,  3.10s/it]"
     ]
    },
    {
     "data": {
      "application/vnd.jupyter.widget-view+json": {
       "model_id": "1be7448b0c404da09056681597707874",
       "version_major": 2,
       "version_minor": 0
      },
      "text/plain": [
       "  0%|          | 0/20 [00:00<?, ?it/s]"
      ]
     },
     "metadata": {},
     "output_type": "display_data"
    },
    {
     "name": "stderr",
     "output_type": "stream",
     "text": [
      "Collect means:  21%|█████████▉                                     | 95/450 [04:55<18:21,  3.10s/it]"
     ]
    },
    {
     "data": {
      "application/vnd.jupyter.widget-view+json": {
       "model_id": "46ce52c1d7b54aa59fb8c733b274be8d",
       "version_major": 2,
       "version_minor": 0
      },
      "text/plain": [
       "  0%|          | 0/20 [00:00<?, ?it/s]"
      ]
     },
     "metadata": {},
     "output_type": "display_data"
    },
    {
     "name": "stderr",
     "output_type": "stream",
     "text": [
      "Collect means:  21%|██████████                                     | 96/450 [04:58<18:18,  3.10s/it]"
     ]
    },
    {
     "data": {
      "application/vnd.jupyter.widget-view+json": {
       "model_id": "ba4e1230173d4cdd9f0dab596bd9f26d",
       "version_major": 2,
       "version_minor": 0
      },
      "text/plain": [
       "  0%|          | 0/20 [00:00<?, ?it/s]"
      ]
     },
     "metadata": {},
     "output_type": "display_data"
    },
    {
     "name": "stderr",
     "output_type": "stream",
     "text": [
      "Collect means:  22%|██████████▏                                    | 97/450 [05:01<18:15,  3.10s/it]"
     ]
    },
    {
     "data": {
      "application/vnd.jupyter.widget-view+json": {
       "model_id": "3c4b803a83b8415997c01e92e0d8bbd3",
       "version_major": 2,
       "version_minor": 0
      },
      "text/plain": [
       "  0%|          | 0/20 [00:00<?, ?it/s]"
      ]
     },
     "metadata": {},
     "output_type": "display_data"
    },
    {
     "name": "stderr",
     "output_type": "stream",
     "text": [
      "Collect means:  22%|██████████▏                                    | 98/450 [05:04<18:12,  3.10s/it]"
     ]
    },
    {
     "data": {
      "application/vnd.jupyter.widget-view+json": {
       "model_id": "53b785dd49c34adc906915f00b57fa12",
       "version_major": 2,
       "version_minor": 0
      },
      "text/plain": [
       "  0%|          | 0/20 [00:00<?, ?it/s]"
      ]
     },
     "metadata": {},
     "output_type": "display_data"
    },
    {
     "name": "stderr",
     "output_type": "stream",
     "text": [
      "Collect means:  22%|██████████▎                                    | 99/450 [05:07<18:09,  3.10s/it]"
     ]
    },
    {
     "data": {
      "application/vnd.jupyter.widget-view+json": {
       "model_id": "ef6b39365e2143d3a049b9c9a24dfd54",
       "version_major": 2,
       "version_minor": 0
      },
      "text/plain": [
       "  0%|          | 0/20 [00:00<?, ?it/s]"
      ]
     },
     "metadata": {},
     "output_type": "display_data"
    },
    {
     "name": "stderr",
     "output_type": "stream",
     "text": [
      "Collect means:  22%|██████████▏                                   | 100/450 [05:10<18:05,  3.10s/it]"
     ]
    },
    {
     "data": {
      "application/vnd.jupyter.widget-view+json": {
       "model_id": "16be7b59c3924a6d9041fb08b1ed1bfb",
       "version_major": 2,
       "version_minor": 0
      },
      "text/plain": [
       "  0%|          | 0/20 [00:00<?, ?it/s]"
      ]
     },
     "metadata": {},
     "output_type": "display_data"
    },
    {
     "name": "stderr",
     "output_type": "stream",
     "text": [
      "Collect means:  22%|██████████▎                                   | 101/450 [05:13<18:02,  3.10s/it]"
     ]
    },
    {
     "data": {
      "application/vnd.jupyter.widget-view+json": {
       "model_id": "86544a1c408d4eecb8d0330cc85a0ff5",
       "version_major": 2,
       "version_minor": 0
      },
      "text/plain": [
       "  0%|          | 0/20 [00:00<?, ?it/s]"
      ]
     },
     "metadata": {},
     "output_type": "display_data"
    },
    {
     "name": "stderr",
     "output_type": "stream",
     "text": [
      "Collect means:  23%|██████████▍                                   | 102/450 [05:17<17:59,  3.10s/it]"
     ]
    },
    {
     "data": {
      "application/vnd.jupyter.widget-view+json": {
       "model_id": "991835c3aaba4b6984d72e51de17226d",
       "version_major": 2,
       "version_minor": 0
      },
      "text/plain": [
       "  0%|          | 0/20 [00:00<?, ?it/s]"
      ]
     },
     "metadata": {},
     "output_type": "display_data"
    },
    {
     "name": "stderr",
     "output_type": "stream",
     "text": [
      "Collect means:  23%|██████████▌                                   | 103/450 [05:20<17:56,  3.10s/it]"
     ]
    },
    {
     "data": {
      "application/vnd.jupyter.widget-view+json": {
       "model_id": "83559cb1baad4309a953ec4360f0dc84",
       "version_major": 2,
       "version_minor": 0
      },
      "text/plain": [
       "  0%|          | 0/20 [00:00<?, ?it/s]"
      ]
     },
     "metadata": {},
     "output_type": "display_data"
    },
    {
     "name": "stderr",
     "output_type": "stream",
     "text": [
      "Collect means:  23%|██████████▋                                   | 104/450 [05:23<17:53,  3.10s/it]"
     ]
    },
    {
     "data": {
      "application/vnd.jupyter.widget-view+json": {
       "model_id": "25320a3f593d4b3fa75e8ee4f2d0a139",
       "version_major": 2,
       "version_minor": 0
      },
      "text/plain": [
       "  0%|          | 0/20 [00:00<?, ?it/s]"
      ]
     },
     "metadata": {},
     "output_type": "display_data"
    },
    {
     "name": "stderr",
     "output_type": "stream",
     "text": [
      "Collect means:  23%|██████████▋                                   | 105/450 [05:26<17:50,  3.10s/it]"
     ]
    },
    {
     "data": {
      "application/vnd.jupyter.widget-view+json": {
       "model_id": "ee5aaf1ff81642a193237d9379104107",
       "version_major": 2,
       "version_minor": 0
      },
      "text/plain": [
       "  0%|          | 0/20 [00:00<?, ?it/s]"
      ]
     },
     "metadata": {},
     "output_type": "display_data"
    },
    {
     "name": "stderr",
     "output_type": "stream",
     "text": [
      "Collect means:  24%|██████████▊                                   | 106/450 [05:29<17:47,  3.10s/it]"
     ]
    },
    {
     "data": {
      "application/vnd.jupyter.widget-view+json": {
       "model_id": "10ceee8ed46a4d23b5ccd10db87d5748",
       "version_major": 2,
       "version_minor": 0
      },
      "text/plain": [
       "  0%|          | 0/20 [00:00<?, ?it/s]"
      ]
     },
     "metadata": {},
     "output_type": "display_data"
    },
    {
     "name": "stderr",
     "output_type": "stream",
     "text": [
      "Collect means:  24%|██████████▉                                   | 107/450 [05:32<17:44,  3.10s/it]"
     ]
    },
    {
     "data": {
      "application/vnd.jupyter.widget-view+json": {
       "model_id": "1d2a996a33f446588217aa0925721590",
       "version_major": 2,
       "version_minor": 0
      },
      "text/plain": [
       "  0%|          | 0/20 [00:00<?, ?it/s]"
      ]
     },
     "metadata": {},
     "output_type": "display_data"
    },
    {
     "name": "stderr",
     "output_type": "stream",
     "text": [
      "Collect means:  24%|███████████                                   | 108/450 [05:35<17:41,  3.10s/it]"
     ]
    },
    {
     "data": {
      "application/vnd.jupyter.widget-view+json": {
       "model_id": "edd836136deb43b08117d23cc1b988bc",
       "version_major": 2,
       "version_minor": 0
      },
      "text/plain": [
       "  0%|          | 0/20 [00:00<?, ?it/s]"
      ]
     },
     "metadata": {},
     "output_type": "display_data"
    },
    {
     "name": "stderr",
     "output_type": "stream",
     "text": [
      "Collect means:  24%|███████████▏                                  | 109/450 [05:38<17:38,  3.10s/it]"
     ]
    },
    {
     "data": {
      "application/vnd.jupyter.widget-view+json": {
       "model_id": "89db397ae042446d870f9a4058989cbe",
       "version_major": 2,
       "version_minor": 0
      },
      "text/plain": [
       "  0%|          | 0/20 [00:00<?, ?it/s]"
      ]
     },
     "metadata": {},
     "output_type": "display_data"
    },
    {
     "name": "stderr",
     "output_type": "stream",
     "text": [
      "Collect means:  24%|███████████▏                                  | 110/450 [05:41<17:35,  3.10s/it]"
     ]
    },
    {
     "data": {
      "application/vnd.jupyter.widget-view+json": {
       "model_id": "5945b39c8c594cf3a405e32eb3bdf22d",
       "version_major": 2,
       "version_minor": 0
      },
      "text/plain": [
       "  0%|          | 0/20 [00:00<?, ?it/s]"
      ]
     },
     "metadata": {},
     "output_type": "display_data"
    },
    {
     "name": "stderr",
     "output_type": "stream",
     "text": [
      "Collect means:  25%|███████████▎                                  | 111/450 [05:44<17:31,  3.10s/it]"
     ]
    },
    {
     "data": {
      "application/vnd.jupyter.widget-view+json": {
       "model_id": "af8f55ab808b4a07ae127b8dadf950ea",
       "version_major": 2,
       "version_minor": 0
      },
      "text/plain": [
       "  0%|          | 0/20 [00:00<?, ?it/s]"
      ]
     },
     "metadata": {},
     "output_type": "display_data"
    },
    {
     "name": "stderr",
     "output_type": "stream",
     "text": [
      "Collect means:  25%|███████████▍                                  | 112/450 [05:48<17:28,  3.10s/it]"
     ]
    },
    {
     "data": {
      "application/vnd.jupyter.widget-view+json": {
       "model_id": "49c50658f7fa4dbc8cc471ebc60c9a27",
       "version_major": 2,
       "version_minor": 0
      },
      "text/plain": [
       "  0%|          | 0/20 [00:00<?, ?it/s]"
      ]
     },
     "metadata": {},
     "output_type": "display_data"
    },
    {
     "name": "stderr",
     "output_type": "stream",
     "text": [
      "Collect means:  25%|███████████▌                                  | 113/450 [05:51<17:25,  3.10s/it]"
     ]
    },
    {
     "data": {
      "application/vnd.jupyter.widget-view+json": {
       "model_id": "5993059682f94c449c40365d51f7c51b",
       "version_major": 2,
       "version_minor": 0
      },
      "text/plain": [
       "  0%|          | 0/20 [00:00<?, ?it/s]"
      ]
     },
     "metadata": {},
     "output_type": "display_data"
    },
    {
     "name": "stderr",
     "output_type": "stream",
     "text": [
      "Collect means:  25%|███████████▋                                  | 114/450 [05:54<17:23,  3.10s/it]"
     ]
    },
    {
     "data": {
      "application/vnd.jupyter.widget-view+json": {
       "model_id": "13532242f4f94adc82cfd0146a18ef31",
       "version_major": 2,
       "version_minor": 0
      },
      "text/plain": [
       "  0%|          | 0/20 [00:00<?, ?it/s]"
      ]
     },
     "metadata": {},
     "output_type": "display_data"
    },
    {
     "name": "stderr",
     "output_type": "stream",
     "text": [
      "Collect means:  26%|███████████▊                                  | 115/450 [05:57<17:19,  3.10s/it]"
     ]
    },
    {
     "data": {
      "application/vnd.jupyter.widget-view+json": {
       "model_id": "4f596f66374f4d8eb267662bfc2393a0",
       "version_major": 2,
       "version_minor": 0
      },
      "text/plain": [
       "  0%|          | 0/20 [00:00<?, ?it/s]"
      ]
     },
     "metadata": {},
     "output_type": "display_data"
    },
    {
     "name": "stderr",
     "output_type": "stream",
     "text": [
      "Collect means:  26%|███████████▊                                  | 116/450 [06:00<17:16,  3.10s/it]"
     ]
    },
    {
     "data": {
      "application/vnd.jupyter.widget-view+json": {
       "model_id": "ca5ecc28b0544a55a97b83cec7ad2779",
       "version_major": 2,
       "version_minor": 0
      },
      "text/plain": [
       "  0%|          | 0/20 [00:00<?, ?it/s]"
      ]
     },
     "metadata": {},
     "output_type": "display_data"
    },
    {
     "name": "stderr",
     "output_type": "stream",
     "text": [
      "Collect means:  26%|███████████▉                                  | 117/450 [06:03<17:13,  3.10s/it]"
     ]
    },
    {
     "data": {
      "application/vnd.jupyter.widget-view+json": {
       "model_id": "64780f684b1c4efe9ef65760f7296107",
       "version_major": 2,
       "version_minor": 0
      },
      "text/plain": [
       "  0%|          | 0/20 [00:00<?, ?it/s]"
      ]
     },
     "metadata": {},
     "output_type": "display_data"
    },
    {
     "name": "stderr",
     "output_type": "stream",
     "text": [
      "Collect means:  26%|████████████                                  | 118/450 [06:06<17:10,  3.10s/it]"
     ]
    },
    {
     "data": {
      "application/vnd.jupyter.widget-view+json": {
       "model_id": "8e443487989447fda5106c9adc007ba1",
       "version_major": 2,
       "version_minor": 0
      },
      "text/plain": [
       "  0%|          | 0/20 [00:00<?, ?it/s]"
      ]
     },
     "metadata": {},
     "output_type": "display_data"
    },
    {
     "name": "stderr",
     "output_type": "stream",
     "text": [
      "Collect means:  26%|████████████▏                                 | 119/450 [06:09<17:07,  3.10s/it]"
     ]
    },
    {
     "data": {
      "application/vnd.jupyter.widget-view+json": {
       "model_id": "177789b2a6d2432389a6787395f3a7a8",
       "version_major": 2,
       "version_minor": 0
      },
      "text/plain": [
       "  0%|          | 0/20 [00:00<?, ?it/s]"
      ]
     },
     "metadata": {},
     "output_type": "display_data"
    },
    {
     "name": "stderr",
     "output_type": "stream",
     "text": [
      "Collect means:  27%|████████████▎                                 | 120/450 [06:12<17:04,  3.10s/it]"
     ]
    },
    {
     "data": {
      "application/vnd.jupyter.widget-view+json": {
       "model_id": "bf774c6a664040fca76a30af962f8166",
       "version_major": 2,
       "version_minor": 0
      },
      "text/plain": [
       "  0%|          | 0/20 [00:00<?, ?it/s]"
      ]
     },
     "metadata": {},
     "output_type": "display_data"
    },
    {
     "name": "stderr",
     "output_type": "stream",
     "text": [
      "Collect means:  27%|████████████▎                                 | 121/450 [06:16<17:01,  3.10s/it]"
     ]
    },
    {
     "data": {
      "application/vnd.jupyter.widget-view+json": {
       "model_id": "4a1a856451c7429a81bfae61d8ce5774",
       "version_major": 2,
       "version_minor": 0
      },
      "text/plain": [
       "  0%|          | 0/20 [00:00<?, ?it/s]"
      ]
     },
     "metadata": {},
     "output_type": "display_data"
    },
    {
     "name": "stderr",
     "output_type": "stream",
     "text": [
      "Collect means:  27%|████████████▍                                 | 122/450 [06:19<16:58,  3.11s/it]"
     ]
    },
    {
     "data": {
      "application/vnd.jupyter.widget-view+json": {
       "model_id": "7c680763238e45f19d422abce318c350",
       "version_major": 2,
       "version_minor": 0
      },
      "text/plain": [
       "  0%|          | 0/20 [00:00<?, ?it/s]"
      ]
     },
     "metadata": {},
     "output_type": "display_data"
    },
    {
     "name": "stderr",
     "output_type": "stream",
     "text": [
      "Collect means:  27%|████████████▌                                 | 123/450 [06:22<16:55,  3.11s/it]"
     ]
    },
    {
     "data": {
      "application/vnd.jupyter.widget-view+json": {
       "model_id": "75b6edcdc2414ca4a3f2d7e417e52aad",
       "version_major": 2,
       "version_minor": 0
      },
      "text/plain": [
       "  0%|          | 0/20 [00:00<?, ?it/s]"
      ]
     },
     "metadata": {},
     "output_type": "display_data"
    },
    {
     "name": "stderr",
     "output_type": "stream",
     "text": [
      "Collect means:  28%|████████████▋                                 | 124/450 [06:25<16:52,  3.10s/it]"
     ]
    },
    {
     "data": {
      "application/vnd.jupyter.widget-view+json": {
       "model_id": "63c0d5f4ecbd4c4a84baa92d9b20dbac",
       "version_major": 2,
       "version_minor": 0
      },
      "text/plain": [
       "  0%|          | 0/20 [00:00<?, ?it/s]"
      ]
     },
     "metadata": {},
     "output_type": "display_data"
    },
    {
     "name": "stderr",
     "output_type": "stream",
     "text": [
      "Collect means:  28%|████████████▊                                 | 125/450 [06:28<16:48,  3.10s/it]"
     ]
    },
    {
     "data": {
      "application/vnd.jupyter.widget-view+json": {
       "model_id": "7342748da5284fbcabaf94e64b932725",
       "version_major": 2,
       "version_minor": 0
      },
      "text/plain": [
       "  0%|          | 0/20 [00:00<?, ?it/s]"
      ]
     },
     "metadata": {},
     "output_type": "display_data"
    },
    {
     "name": "stderr",
     "output_type": "stream",
     "text": [
      "Collect means:  28%|████████████▉                                 | 126/450 [06:31<16:45,  3.10s/it]"
     ]
    },
    {
     "data": {
      "application/vnd.jupyter.widget-view+json": {
       "model_id": "2a1830f5c37245d1a5f3d797cceb631c",
       "version_major": 2,
       "version_minor": 0
      },
      "text/plain": [
       "  0%|          | 0/20 [00:00<?, ?it/s]"
      ]
     },
     "metadata": {},
     "output_type": "display_data"
    },
    {
     "name": "stderr",
     "output_type": "stream",
     "text": [
      "Collect means:  28%|████████████▉                                 | 127/450 [06:34<16:42,  3.10s/it]"
     ]
    },
    {
     "data": {
      "application/vnd.jupyter.widget-view+json": {
       "model_id": "8923dce272f0423c9118f6d4fbd5676f",
       "version_major": 2,
       "version_minor": 0
      },
      "text/plain": [
       "  0%|          | 0/20 [00:00<?, ?it/s]"
      ]
     },
     "metadata": {},
     "output_type": "display_data"
    },
    {
     "name": "stderr",
     "output_type": "stream",
     "text": [
      "Collect means:  28%|█████████████                                 | 128/450 [06:37<16:39,  3.10s/it]"
     ]
    },
    {
     "data": {
      "application/vnd.jupyter.widget-view+json": {
       "model_id": "1acf68c3a62e4fa4b0ecf39c22257747",
       "version_major": 2,
       "version_minor": 0
      },
      "text/plain": [
       "  0%|          | 0/20 [00:00<?, ?it/s]"
      ]
     },
     "metadata": {},
     "output_type": "display_data"
    },
    {
     "name": "stderr",
     "output_type": "stream",
     "text": [
      "Collect means:  29%|█████████████▏                                | 129/450 [06:40<16:35,  3.10s/it]"
     ]
    },
    {
     "data": {
      "application/vnd.jupyter.widget-view+json": {
       "model_id": "7d599fe8f0fa440e8eb14be72b11d0dc",
       "version_major": 2,
       "version_minor": 0
      },
      "text/plain": [
       "  0%|          | 0/20 [00:00<?, ?it/s]"
      ]
     },
     "metadata": {},
     "output_type": "display_data"
    },
    {
     "name": "stderr",
     "output_type": "stream",
     "text": [
      "Collect means:  29%|█████████████▎                                | 130/450 [06:43<16:32,  3.10s/it]"
     ]
    },
    {
     "data": {
      "application/vnd.jupyter.widget-view+json": {
       "model_id": "8ba9700e8899475abc473230661638ef",
       "version_major": 2,
       "version_minor": 0
      },
      "text/plain": [
       "  0%|          | 0/20 [00:00<?, ?it/s]"
      ]
     },
     "metadata": {},
     "output_type": "display_data"
    },
    {
     "name": "stderr",
     "output_type": "stream",
     "text": [
      "Collect means:  29%|█████████████▍                                | 131/450 [06:47<16:29,  3.10s/it]"
     ]
    },
    {
     "data": {
      "application/vnd.jupyter.widget-view+json": {
       "model_id": "bf2bbeced6cc47bcbeaa316a09df2a1b",
       "version_major": 2,
       "version_minor": 0
      },
      "text/plain": [
       "  0%|          | 0/20 [00:00<?, ?it/s]"
      ]
     },
     "metadata": {},
     "output_type": "display_data"
    },
    {
     "name": "stderr",
     "output_type": "stream",
     "text": [
      "Collect means:  29%|█████████████▍                                | 132/450 [06:50<16:26,  3.10s/it]"
     ]
    },
    {
     "data": {
      "application/vnd.jupyter.widget-view+json": {
       "model_id": "84a847902e1a4a8780d960dff8df87be",
       "version_major": 2,
       "version_minor": 0
      },
      "text/plain": [
       "  0%|          | 0/20 [00:00<?, ?it/s]"
      ]
     },
     "metadata": {},
     "output_type": "display_data"
    },
    {
     "name": "stderr",
     "output_type": "stream",
     "text": [
      "Collect means:  30%|█████████████▌                                | 133/450 [06:53<16:23,  3.10s/it]"
     ]
    },
    {
     "data": {
      "application/vnd.jupyter.widget-view+json": {
       "model_id": "9dc1be4f3b944190bbdded935998fb84",
       "version_major": 2,
       "version_minor": 0
      },
      "text/plain": [
       "  0%|          | 0/20 [00:00<?, ?it/s]"
      ]
     },
     "metadata": {},
     "output_type": "display_data"
    },
    {
     "name": "stderr",
     "output_type": "stream",
     "text": [
      "Collect means:  30%|█████████████▋                                | 134/450 [06:56<16:20,  3.10s/it]"
     ]
    },
    {
     "data": {
      "application/vnd.jupyter.widget-view+json": {
       "model_id": "0bafdda1fbd44f3aa1546ff02d2c9f6f",
       "version_major": 2,
       "version_minor": 0
      },
      "text/plain": [
       "  0%|          | 0/20 [00:00<?, ?it/s]"
      ]
     },
     "metadata": {},
     "output_type": "display_data"
    },
    {
     "name": "stderr",
     "output_type": "stream",
     "text": [
      "Collect means:  30%|█████████████▊                                | 135/450 [06:59<16:17,  3.10s/it]"
     ]
    },
    {
     "data": {
      "application/vnd.jupyter.widget-view+json": {
       "model_id": "0e8ed611415c4f839a814c626cd64db7",
       "version_major": 2,
       "version_minor": 0
      },
      "text/plain": [
       "  0%|          | 0/20 [00:00<?, ?it/s]"
      ]
     },
     "metadata": {},
     "output_type": "display_data"
    },
    {
     "name": "stderr",
     "output_type": "stream",
     "text": [
      "Collect means:  30%|█████████████▉                                | 136/450 [07:02<16:14,  3.10s/it]"
     ]
    },
    {
     "data": {
      "application/vnd.jupyter.widget-view+json": {
       "model_id": "39501d8799b0408ea40e666e19bb6edb",
       "version_major": 2,
       "version_minor": 0
      },
      "text/plain": [
       "  0%|          | 0/20 [00:00<?, ?it/s]"
      ]
     },
     "metadata": {},
     "output_type": "display_data"
    },
    {
     "name": "stderr",
     "output_type": "stream",
     "text": [
      "Collect means:  30%|██████████████                                | 137/450 [07:05<16:11,  3.10s/it]"
     ]
    },
    {
     "data": {
      "application/vnd.jupyter.widget-view+json": {
       "model_id": "8082228eb0b34d12bdf4a561ea339efb",
       "version_major": 2,
       "version_minor": 0
      },
      "text/plain": [
       "  0%|          | 0/20 [00:00<?, ?it/s]"
      ]
     },
     "metadata": {},
     "output_type": "display_data"
    },
    {
     "name": "stderr",
     "output_type": "stream",
     "text": [
      "Collect means:  31%|██████████████                                | 138/450 [07:08<16:08,  3.11s/it]"
     ]
    },
    {
     "data": {
      "application/vnd.jupyter.widget-view+json": {
       "model_id": "0803cbb40698450792f03eedc55e6218",
       "version_major": 2,
       "version_minor": 0
      },
      "text/plain": [
       "  0%|          | 0/20 [00:00<?, ?it/s]"
      ]
     },
     "metadata": {},
     "output_type": "display_data"
    },
    {
     "name": "stderr",
     "output_type": "stream",
     "text": [
      "Collect means:  31%|██████████████▏                               | 139/450 [07:11<16:05,  3.11s/it]"
     ]
    },
    {
     "data": {
      "application/vnd.jupyter.widget-view+json": {
       "model_id": "9b3f8a1918f8401297ec60b12f52719b",
       "version_major": 2,
       "version_minor": 0
      },
      "text/plain": [
       "  0%|          | 0/20 [00:00<?, ?it/s]"
      ]
     },
     "metadata": {},
     "output_type": "display_data"
    },
    {
     "name": "stderr",
     "output_type": "stream",
     "text": [
      "Collect means:  31%|██████████████▎                               | 140/450 [07:14<16:02,  3.10s/it]"
     ]
    },
    {
     "data": {
      "application/vnd.jupyter.widget-view+json": {
       "model_id": "04314dc26dce4dd888974dbd7e7e23b1",
       "version_major": 2,
       "version_minor": 0
      },
      "text/plain": [
       "  0%|          | 0/20 [00:00<?, ?it/s]"
      ]
     },
     "metadata": {},
     "output_type": "display_data"
    },
    {
     "name": "stderr",
     "output_type": "stream",
     "text": [
      "Collect means:  31%|██████████████▍                               | 141/450 [07:18<15:59,  3.10s/it]"
     ]
    },
    {
     "data": {
      "application/vnd.jupyter.widget-view+json": {
       "model_id": "7d6c86647cf840299867c65108857916",
       "version_major": 2,
       "version_minor": 0
      },
      "text/plain": [
       "  0%|          | 0/20 [00:00<?, ?it/s]"
      ]
     },
     "metadata": {},
     "output_type": "display_data"
    },
    {
     "name": "stderr",
     "output_type": "stream",
     "text": [
      "Collect means:  32%|██████████████▌                               | 142/450 [07:21<15:55,  3.10s/it]"
     ]
    },
    {
     "data": {
      "application/vnd.jupyter.widget-view+json": {
       "model_id": "0e55d600107646878727eea81d3c1284",
       "version_major": 2,
       "version_minor": 0
      },
      "text/plain": [
       "  0%|          | 0/20 [00:00<?, ?it/s]"
      ]
     },
     "metadata": {},
     "output_type": "display_data"
    },
    {
     "name": "stderr",
     "output_type": "stream",
     "text": [
      "Collect means:  32%|██████████████▌                               | 143/450 [07:24<15:52,  3.10s/it]"
     ]
    },
    {
     "data": {
      "application/vnd.jupyter.widget-view+json": {
       "model_id": "dda1088430854c9f81d1fdcee8197971",
       "version_major": 2,
       "version_minor": 0
      },
      "text/plain": [
       "  0%|          | 0/20 [00:00<?, ?it/s]"
      ]
     },
     "metadata": {},
     "output_type": "display_data"
    },
    {
     "name": "stderr",
     "output_type": "stream",
     "text": [
      "Collect means:  32%|██████████████▋                               | 144/450 [07:27<15:49,  3.10s/it]"
     ]
    },
    {
     "data": {
      "application/vnd.jupyter.widget-view+json": {
       "model_id": "e18f3d7292564c6fa3c052229117eda5",
       "version_major": 2,
       "version_minor": 0
      },
      "text/plain": [
       "  0%|          | 0/20 [00:00<?, ?it/s]"
      ]
     },
     "metadata": {},
     "output_type": "display_data"
    },
    {
     "name": "stderr",
     "output_type": "stream",
     "text": [
      "Collect means:  32%|██████████████▊                               | 145/450 [07:30<15:46,  3.10s/it]"
     ]
    },
    {
     "data": {
      "application/vnd.jupyter.widget-view+json": {
       "model_id": "7ef9ba1a6f774d2893c3eaf260fc1886",
       "version_major": 2,
       "version_minor": 0
      },
      "text/plain": [
       "  0%|          | 0/20 [00:00<?, ?it/s]"
      ]
     },
     "metadata": {},
     "output_type": "display_data"
    },
    {
     "name": "stderr",
     "output_type": "stream",
     "text": [
      "Collect means:  32%|██████████████▉                               | 146/450 [07:33<15:43,  3.10s/it]"
     ]
    },
    {
     "data": {
      "application/vnd.jupyter.widget-view+json": {
       "model_id": "dfc57cd7a1f041dbb958dd4eda2cad91",
       "version_major": 2,
       "version_minor": 0
      },
      "text/plain": [
       "  0%|          | 0/20 [00:00<?, ?it/s]"
      ]
     },
     "metadata": {},
     "output_type": "display_data"
    },
    {
     "name": "stderr",
     "output_type": "stream",
     "text": [
      "Collect means:  33%|███████████████                               | 147/450 [07:36<15:40,  3.10s/it]"
     ]
    },
    {
     "data": {
      "application/vnd.jupyter.widget-view+json": {
       "model_id": "d424a48fd30141f3b9e3400054fcc8e7",
       "version_major": 2,
       "version_minor": 0
      },
      "text/plain": [
       "  0%|          | 0/20 [00:00<?, ?it/s]"
      ]
     },
     "metadata": {},
     "output_type": "display_data"
    },
    {
     "name": "stderr",
     "output_type": "stream",
     "text": [
      "Collect means:  33%|███████████████▏                              | 148/450 [07:39<15:37,  3.10s/it]"
     ]
    },
    {
     "data": {
      "application/vnd.jupyter.widget-view+json": {
       "model_id": "3c4684d6d3034044837bef750e20e5f6",
       "version_major": 2,
       "version_minor": 0
      },
      "text/plain": [
       "  0%|          | 0/20 [00:00<?, ?it/s]"
      ]
     },
     "metadata": {},
     "output_type": "display_data"
    },
    {
     "name": "stderr",
     "output_type": "stream",
     "text": [
      "Collect means:  33%|███████████████▏                              | 149/450 [07:42<15:34,  3.11s/it]"
     ]
    },
    {
     "data": {
      "application/vnd.jupyter.widget-view+json": {
       "model_id": "8fb0e4d30321490ca2076870c34e7761",
       "version_major": 2,
       "version_minor": 0
      },
      "text/plain": [
       "  0%|          | 0/20 [00:00<?, ?it/s]"
      ]
     },
     "metadata": {},
     "output_type": "display_data"
    },
    {
     "name": "stderr",
     "output_type": "stream",
     "text": [
      "Collect means:  33%|███████████████▎                              | 150/450 [07:46<15:31,  3.10s/it]"
     ]
    },
    {
     "data": {
      "application/vnd.jupyter.widget-view+json": {
       "model_id": "fbf8bc37872d446195c80b576292f3d0",
       "version_major": 2,
       "version_minor": 0
      },
      "text/plain": [
       "  0%|          | 0/20 [00:00<?, ?it/s]"
      ]
     },
     "metadata": {},
     "output_type": "display_data"
    },
    {
     "name": "stderr",
     "output_type": "stream",
     "text": [
      "Collect means:  34%|███████████████▍                              | 151/450 [07:49<15:28,  3.10s/it]"
     ]
    },
    {
     "data": {
      "application/vnd.jupyter.widget-view+json": {
       "model_id": "69fae4e7de7d42aeb5390e0163904471",
       "version_major": 2,
       "version_minor": 0
      },
      "text/plain": [
       "  0%|          | 0/20 [00:00<?, ?it/s]"
      ]
     },
     "metadata": {},
     "output_type": "display_data"
    },
    {
     "name": "stderr",
     "output_type": "stream",
     "text": [
      "Collect means:  34%|███████████████▌                              | 152/450 [07:52<15:24,  3.10s/it]"
     ]
    },
    {
     "data": {
      "application/vnd.jupyter.widget-view+json": {
       "model_id": "68f37aa9eb15419eb35f85b45cdca65a",
       "version_major": 2,
       "version_minor": 0
      },
      "text/plain": [
       "  0%|          | 0/20 [00:00<?, ?it/s]"
      ]
     },
     "metadata": {},
     "output_type": "display_data"
    },
    {
     "name": "stderr",
     "output_type": "stream",
     "text": [
      "Collect means:  34%|███████████████▋                              | 153/450 [07:55<15:21,  3.10s/it]"
     ]
    },
    {
     "data": {
      "application/vnd.jupyter.widget-view+json": {
       "model_id": "7ba63affeb1a47169c12afda901c7b1f",
       "version_major": 2,
       "version_minor": 0
      },
      "text/plain": [
       "  0%|          | 0/20 [00:00<?, ?it/s]"
      ]
     },
     "metadata": {},
     "output_type": "display_data"
    },
    {
     "name": "stderr",
     "output_type": "stream",
     "text": [
      "Collect means:  34%|███████████████▋                              | 154/450 [07:58<15:18,  3.10s/it]"
     ]
    },
    {
     "data": {
      "application/vnd.jupyter.widget-view+json": {
       "model_id": "01c3fdf98625426cb9c2c345087560cb",
       "version_major": 2,
       "version_minor": 0
      },
      "text/plain": [
       "  0%|          | 0/20 [00:00<?, ?it/s]"
      ]
     },
     "metadata": {},
     "output_type": "display_data"
    },
    {
     "name": "stderr",
     "output_type": "stream",
     "text": [
      "Collect means:  34%|███████████████▊                              | 155/450 [08:01<15:15,  3.10s/it]"
     ]
    },
    {
     "data": {
      "application/vnd.jupyter.widget-view+json": {
       "model_id": "0ede68b9a02b47a1a90a227df16745ab",
       "version_major": 2,
       "version_minor": 0
      },
      "text/plain": [
       "  0%|          | 0/20 [00:00<?, ?it/s]"
      ]
     },
     "metadata": {},
     "output_type": "display_data"
    },
    {
     "name": "stderr",
     "output_type": "stream",
     "text": [
      "Collect means:  35%|███████████████▉                              | 156/450 [08:04<15:12,  3.10s/it]"
     ]
    },
    {
     "data": {
      "application/vnd.jupyter.widget-view+json": {
       "model_id": "b132c3baa6c346178aafc61d17d8f1d9",
       "version_major": 2,
       "version_minor": 0
      },
      "text/plain": [
       "  0%|          | 0/20 [00:00<?, ?it/s]"
      ]
     },
     "metadata": {},
     "output_type": "display_data"
    },
    {
     "name": "stderr",
     "output_type": "stream",
     "text": [
      "Collect means:  35%|████████████████                              | 157/450 [08:07<15:09,  3.10s/it]"
     ]
    },
    {
     "data": {
      "application/vnd.jupyter.widget-view+json": {
       "model_id": "ed2c44f2f86b47b7a30cc5fd80578c79",
       "version_major": 2,
       "version_minor": 0
      },
      "text/plain": [
       "  0%|          | 0/20 [00:00<?, ?it/s]"
      ]
     },
     "metadata": {},
     "output_type": "display_data"
    },
    {
     "name": "stderr",
     "output_type": "stream",
     "text": [
      "Collect means:  35%|████████████████▏                             | 158/450 [08:10<15:05,  3.10s/it]"
     ]
    },
    {
     "data": {
      "application/vnd.jupyter.widget-view+json": {
       "model_id": "9bb124d0c6c0431886fe132d5232aaa4",
       "version_major": 2,
       "version_minor": 0
      },
      "text/plain": [
       "  0%|          | 0/20 [00:00<?, ?it/s]"
      ]
     },
     "metadata": {},
     "output_type": "display_data"
    },
    {
     "name": "stderr",
     "output_type": "stream",
     "text": [
      "Collect means:  35%|████████████████▎                             | 159/450 [08:13<15:03,  3.10s/it]"
     ]
    },
    {
     "data": {
      "application/vnd.jupyter.widget-view+json": {
       "model_id": "1679510c4e82445a8cd155ebfff8ffe1",
       "version_major": 2,
       "version_minor": 0
      },
      "text/plain": [
       "  0%|          | 0/20 [00:00<?, ?it/s]"
      ]
     },
     "metadata": {},
     "output_type": "display_data"
    },
    {
     "name": "stderr",
     "output_type": "stream",
     "text": [
      "Collect means:  36%|████████████████▎                             | 160/450 [08:17<14:59,  3.10s/it]"
     ]
    },
    {
     "data": {
      "application/vnd.jupyter.widget-view+json": {
       "model_id": "b4650207ea694d968bc680a9fe8964d6",
       "version_major": 2,
       "version_minor": 0
      },
      "text/plain": [
       "  0%|          | 0/20 [00:00<?, ?it/s]"
      ]
     },
     "metadata": {},
     "output_type": "display_data"
    },
    {
     "name": "stderr",
     "output_type": "stream",
     "text": [
      "Collect means:  36%|████████████████▍                             | 161/450 [08:20<14:56,  3.10s/it]"
     ]
    },
    {
     "data": {
      "application/vnd.jupyter.widget-view+json": {
       "model_id": "047272bf7f4847f780a052c3021c9b9f",
       "version_major": 2,
       "version_minor": 0
      },
      "text/plain": [
       "  0%|          | 0/20 [00:00<?, ?it/s]"
      ]
     },
     "metadata": {},
     "output_type": "display_data"
    },
    {
     "name": "stderr",
     "output_type": "stream",
     "text": [
      "Collect means:  36%|████████████████▌                             | 162/450 [08:23<14:53,  3.10s/it]"
     ]
    },
    {
     "data": {
      "application/vnd.jupyter.widget-view+json": {
       "model_id": "7425196fab6a46a1889264e3a7251394",
       "version_major": 2,
       "version_minor": 0
      },
      "text/plain": [
       "  0%|          | 0/20 [00:00<?, ?it/s]"
      ]
     },
     "metadata": {},
     "output_type": "display_data"
    },
    {
     "name": "stderr",
     "output_type": "stream",
     "text": [
      "Collect means:  36%|████████████████▋                             | 163/450 [08:26<14:50,  3.10s/it]"
     ]
    },
    {
     "data": {
      "application/vnd.jupyter.widget-view+json": {
       "model_id": "4fdaf2da5b7849cba8afb2feccb4f050",
       "version_major": 2,
       "version_minor": 0
      },
      "text/plain": [
       "  0%|          | 0/20 [00:00<?, ?it/s]"
      ]
     },
     "metadata": {},
     "output_type": "display_data"
    },
    {
     "name": "stderr",
     "output_type": "stream",
     "text": [
      "Collect means:  36%|████████████████▊                             | 164/450 [08:29<14:47,  3.10s/it]"
     ]
    },
    {
     "data": {
      "application/vnd.jupyter.widget-view+json": {
       "model_id": "a8570e2a174d4481b8c44a1f4c18f145",
       "version_major": 2,
       "version_minor": 0
      },
      "text/plain": [
       "  0%|          | 0/20 [00:00<?, ?it/s]"
      ]
     },
     "metadata": {},
     "output_type": "display_data"
    },
    {
     "name": "stderr",
     "output_type": "stream",
     "text": [
      "Collect means:  37%|████████████████▊                             | 165/450 [08:32<14:43,  3.10s/it]"
     ]
    },
    {
     "data": {
      "application/vnd.jupyter.widget-view+json": {
       "model_id": "a021e95c5c384cdd8f9795ea3ac5e9ae",
       "version_major": 2,
       "version_minor": 0
      },
      "text/plain": [
       "  0%|          | 0/20 [00:00<?, ?it/s]"
      ]
     },
     "metadata": {},
     "output_type": "display_data"
    },
    {
     "name": "stderr",
     "output_type": "stream",
     "text": [
      "Collect means:  37%|████████████████▉                             | 166/450 [08:35<14:41,  3.10s/it]"
     ]
    },
    {
     "data": {
      "application/vnd.jupyter.widget-view+json": {
       "model_id": "c34b289bd0a94a16abfcd519c11cf041",
       "version_major": 2,
       "version_minor": 0
      },
      "text/plain": [
       "  0%|          | 0/20 [00:00<?, ?it/s]"
      ]
     },
     "metadata": {},
     "output_type": "display_data"
    },
    {
     "name": "stderr",
     "output_type": "stream",
     "text": [
      "Collect means:  37%|█████████████████                             | 167/450 [08:38<14:37,  3.10s/it]"
     ]
    },
    {
     "data": {
      "application/vnd.jupyter.widget-view+json": {
       "model_id": "c747a61f8b0c4b3b949420fc9eab9b32",
       "version_major": 2,
       "version_minor": 0
      },
      "text/plain": [
       "  0%|          | 0/20 [00:00<?, ?it/s]"
      ]
     },
     "metadata": {},
     "output_type": "display_data"
    },
    {
     "name": "stderr",
     "output_type": "stream",
     "text": [
      "Collect means:  37%|█████████████████▏                            | 168/450 [08:41<14:34,  3.10s/it]"
     ]
    },
    {
     "data": {
      "application/vnd.jupyter.widget-view+json": {
       "model_id": "f57ec4664f9b4a0f9e6c217a4e7a4898",
       "version_major": 2,
       "version_minor": 0
      },
      "text/plain": [
       "  0%|          | 0/20 [00:00<?, ?it/s]"
      ]
     },
     "metadata": {},
     "output_type": "display_data"
    },
    {
     "name": "stderr",
     "output_type": "stream",
     "text": [
      "Collect means:  38%|█████████████████▎                            | 169/450 [08:44<14:31,  3.10s/it]"
     ]
    },
    {
     "data": {
      "application/vnd.jupyter.widget-view+json": {
       "model_id": "2fdb4b8399ab4209bb55e9eaad1e4f9e",
       "version_major": 2,
       "version_minor": 0
      },
      "text/plain": [
       "  0%|          | 0/20 [00:00<?, ?it/s]"
      ]
     },
     "metadata": {},
     "output_type": "display_data"
    },
    {
     "name": "stderr",
     "output_type": "stream",
     "text": [
      "Collect means:  38%|█████████████████▍                            | 170/450 [08:48<14:28,  3.10s/it]"
     ]
    },
    {
     "data": {
      "application/vnd.jupyter.widget-view+json": {
       "model_id": "61c5c8052c414d65b599c992b4e35dfb",
       "version_major": 2,
       "version_minor": 0
      },
      "text/plain": [
       "  0%|          | 0/20 [00:00<?, ?it/s]"
      ]
     },
     "metadata": {},
     "output_type": "display_data"
    },
    {
     "name": "stderr",
     "output_type": "stream",
     "text": [
      "Collect means:  38%|█████████████████▍                            | 171/450 [08:51<14:25,  3.10s/it]"
     ]
    },
    {
     "data": {
      "application/vnd.jupyter.widget-view+json": {
       "model_id": "74748439a5cd49258c9a46e96014abcb",
       "version_major": 2,
       "version_minor": 0
      },
      "text/plain": [
       "  0%|          | 0/20 [00:00<?, ?it/s]"
      ]
     },
     "metadata": {},
     "output_type": "display_data"
    },
    {
     "name": "stderr",
     "output_type": "stream",
     "text": [
      "Collect means:  38%|█████████████████▌                            | 172/450 [08:54<14:22,  3.10s/it]"
     ]
    },
    {
     "data": {
      "application/vnd.jupyter.widget-view+json": {
       "model_id": "bdcb1c02eab04e6c8e99e365bd7dcd09",
       "version_major": 2,
       "version_minor": 0
      },
      "text/plain": [
       "  0%|          | 0/20 [00:00<?, ?it/s]"
      ]
     },
     "metadata": {},
     "output_type": "display_data"
    },
    {
     "name": "stderr",
     "output_type": "stream",
     "text": [
      "Collect means:  38%|█████████████████▋                            | 173/450 [08:57<14:19,  3.10s/it]"
     ]
    },
    {
     "data": {
      "application/vnd.jupyter.widget-view+json": {
       "model_id": "e25835abe6e34787ab8c0e4889d2bf3f",
       "version_major": 2,
       "version_minor": 0
      },
      "text/plain": [
       "  0%|          | 0/20 [00:00<?, ?it/s]"
      ]
     },
     "metadata": {},
     "output_type": "display_data"
    },
    {
     "name": "stderr",
     "output_type": "stream",
     "text": [
      "Collect means:  39%|█████████████████▊                            | 174/450 [09:00<14:16,  3.10s/it]"
     ]
    },
    {
     "data": {
      "application/vnd.jupyter.widget-view+json": {
       "model_id": "b2c0b7d3c24e427e9dbdbb091ee0281d",
       "version_major": 2,
       "version_minor": 0
      },
      "text/plain": [
       "  0%|          | 0/20 [00:00<?, ?it/s]"
      ]
     },
     "metadata": {},
     "output_type": "display_data"
    },
    {
     "name": "stderr",
     "output_type": "stream",
     "text": [
      "Collect means:  39%|█████████████████▉                            | 175/450 [09:03<14:13,  3.10s/it]"
     ]
    },
    {
     "data": {
      "application/vnd.jupyter.widget-view+json": {
       "model_id": "7dc91db1fee24fad9888aa6680ef71e3",
       "version_major": 2,
       "version_minor": 0
      },
      "text/plain": [
       "  0%|          | 0/20 [00:00<?, ?it/s]"
      ]
     },
     "metadata": {},
     "output_type": "display_data"
    },
    {
     "name": "stderr",
     "output_type": "stream",
     "text": [
      "Collect means:  39%|█████████████████▉                            | 176/450 [09:06<14:10,  3.10s/it]"
     ]
    },
    {
     "data": {
      "application/vnd.jupyter.widget-view+json": {
       "model_id": "4c714782ae9b4da8830d11abf215b9af",
       "version_major": 2,
       "version_minor": 0
      },
      "text/plain": [
       "  0%|          | 0/20 [00:00<?, ?it/s]"
      ]
     },
     "metadata": {},
     "output_type": "display_data"
    },
    {
     "name": "stderr",
     "output_type": "stream",
     "text": [
      "Collect means:  39%|██████████████████                            | 177/450 [09:09<14:07,  3.10s/it]"
     ]
    },
    {
     "data": {
      "application/vnd.jupyter.widget-view+json": {
       "model_id": "69850e3ac37d4abca081e7269cb20d57",
       "version_major": 2,
       "version_minor": 0
      },
      "text/plain": [
       "  0%|          | 0/20 [00:00<?, ?it/s]"
      ]
     },
     "metadata": {},
     "output_type": "display_data"
    },
    {
     "name": "stderr",
     "output_type": "stream",
     "text": [
      "Collect means:  40%|██████████████████▏                           | 178/450 [09:12<14:04,  3.10s/it]"
     ]
    },
    {
     "data": {
      "application/vnd.jupyter.widget-view+json": {
       "model_id": "aabc05108fa743919f2f06443c38cf2a",
       "version_major": 2,
       "version_minor": 0
      },
      "text/plain": [
       "  0%|          | 0/20 [00:00<?, ?it/s]"
      ]
     },
     "metadata": {},
     "output_type": "display_data"
    },
    {
     "name": "stderr",
     "output_type": "stream",
     "text": [
      "Collect means:  40%|██████████████████▎                           | 179/450 [09:15<14:01,  3.10s/it]"
     ]
    },
    {
     "data": {
      "application/vnd.jupyter.widget-view+json": {
       "model_id": "fdd5703a43f7466296eeba92027559b0",
       "version_major": 2,
       "version_minor": 0
      },
      "text/plain": [
       "  0%|          | 0/20 [00:00<?, ?it/s]"
      ]
     },
     "metadata": {},
     "output_type": "display_data"
    },
    {
     "name": "stderr",
     "output_type": "stream",
     "text": [
      "Collect means:  40%|██████████████████▍                           | 180/450 [09:19<13:57,  3.10s/it]"
     ]
    },
    {
     "data": {
      "application/vnd.jupyter.widget-view+json": {
       "model_id": "bc16cf1b75174fb8938e39486bbb443f",
       "version_major": 2,
       "version_minor": 0
      },
      "text/plain": [
       "  0%|          | 0/20 [00:00<?, ?it/s]"
      ]
     },
     "metadata": {},
     "output_type": "display_data"
    },
    {
     "name": "stderr",
     "output_type": "stream",
     "text": [
      "Collect means:  40%|██████████████████▌                           | 181/450 [09:22<13:54,  3.10s/it]"
     ]
    },
    {
     "data": {
      "application/vnd.jupyter.widget-view+json": {
       "model_id": "b60a2ebfd3ee49c898d83760dca22f53",
       "version_major": 2,
       "version_minor": 0
      },
      "text/plain": [
       "  0%|          | 0/20 [00:00<?, ?it/s]"
      ]
     },
     "metadata": {},
     "output_type": "display_data"
    },
    {
     "name": "stderr",
     "output_type": "stream",
     "text": [
      "Collect means:  40%|██████████████████▌                           | 182/450 [09:25<13:51,  3.10s/it]"
     ]
    },
    {
     "data": {
      "application/vnd.jupyter.widget-view+json": {
       "model_id": "e774d81b66e7497f934279ee9a219906",
       "version_major": 2,
       "version_minor": 0
      },
      "text/plain": [
       "  0%|          | 0/20 [00:00<?, ?it/s]"
      ]
     },
     "metadata": {},
     "output_type": "display_data"
    },
    {
     "name": "stderr",
     "output_type": "stream",
     "text": [
      "Collect means:  41%|██████████████████▋                           | 183/450 [09:28<13:48,  3.10s/it]"
     ]
    },
    {
     "data": {
      "application/vnd.jupyter.widget-view+json": {
       "model_id": "5b228e0cab2645f5b0223f5bb6eafa71",
       "version_major": 2,
       "version_minor": 0
      },
      "text/plain": [
       "  0%|          | 0/20 [00:00<?, ?it/s]"
      ]
     },
     "metadata": {},
     "output_type": "display_data"
    },
    {
     "name": "stderr",
     "output_type": "stream",
     "text": [
      "Collect means:  41%|██████████████████▊                           | 184/450 [09:31<13:45,  3.10s/it]"
     ]
    },
    {
     "data": {
      "application/vnd.jupyter.widget-view+json": {
       "model_id": "456f8deff9a54534b013afca10e23ad8",
       "version_major": 2,
       "version_minor": 0
      },
      "text/plain": [
       "  0%|          | 0/20 [00:00<?, ?it/s]"
      ]
     },
     "metadata": {},
     "output_type": "display_data"
    },
    {
     "name": "stderr",
     "output_type": "stream",
     "text": [
      "Collect means:  41%|██████████████████▉                           | 185/450 [09:34<13:42,  3.10s/it]"
     ]
    },
    {
     "data": {
      "application/vnd.jupyter.widget-view+json": {
       "model_id": "c71d8b0f24844c5cb3137c8803edb489",
       "version_major": 2,
       "version_minor": 0
      },
      "text/plain": [
       "  0%|          | 0/20 [00:00<?, ?it/s]"
      ]
     },
     "metadata": {},
     "output_type": "display_data"
    },
    {
     "name": "stderr",
     "output_type": "stream",
     "text": [
      "Collect means:  41%|███████████████████                           | 186/450 [09:37<13:39,  3.10s/it]"
     ]
    },
    {
     "data": {
      "application/vnd.jupyter.widget-view+json": {
       "model_id": "db3e64cacd3b407f8457f3cad8e8cae0",
       "version_major": 2,
       "version_minor": 0
      },
      "text/plain": [
       "  0%|          | 0/20 [00:00<?, ?it/s]"
      ]
     },
     "metadata": {},
     "output_type": "display_data"
    },
    {
     "name": "stderr",
     "output_type": "stream",
     "text": [
      "Collect means:  42%|███████████████████                           | 187/450 [09:40<13:36,  3.10s/it]"
     ]
    },
    {
     "data": {
      "application/vnd.jupyter.widget-view+json": {
       "model_id": "2adc23ef3f1443e3934f57f6b7abd11e",
       "version_major": 2,
       "version_minor": 0
      },
      "text/plain": [
       "  0%|          | 0/20 [00:00<?, ?it/s]"
      ]
     },
     "metadata": {},
     "output_type": "display_data"
    },
    {
     "name": "stderr",
     "output_type": "stream",
     "text": [
      "Collect means:  42%|███████████████████▏                          | 188/450 [09:43<13:33,  3.10s/it]"
     ]
    },
    {
     "data": {
      "application/vnd.jupyter.widget-view+json": {
       "model_id": "9660eb524cf549c7bd3cd7685c01fbe2",
       "version_major": 2,
       "version_minor": 0
      },
      "text/plain": [
       "  0%|          | 0/20 [00:00<?, ?it/s]"
      ]
     },
     "metadata": {},
     "output_type": "display_data"
    },
    {
     "name": "stderr",
     "output_type": "stream",
     "text": [
      "Collect means:  42%|███████████████████▎                          | 189/450 [09:47<13:29,  3.10s/it]"
     ]
    },
    {
     "data": {
      "application/vnd.jupyter.widget-view+json": {
       "model_id": "c6a58567bba344168a6d4397d5aa9a7d",
       "version_major": 2,
       "version_minor": 0
      },
      "text/plain": [
       "  0%|          | 0/20 [00:00<?, ?it/s]"
      ]
     },
     "metadata": {},
     "output_type": "display_data"
    },
    {
     "name": "stderr",
     "output_type": "stream",
     "text": [
      "Collect means:  42%|███████████████████▍                          | 190/450 [09:50<13:26,  3.10s/it]"
     ]
    },
    {
     "data": {
      "application/vnd.jupyter.widget-view+json": {
       "model_id": "c9b6ec31db38411dad516a6ee6e29ae2",
       "version_major": 2,
       "version_minor": 0
      },
      "text/plain": [
       "  0%|          | 0/20 [00:00<?, ?it/s]"
      ]
     },
     "metadata": {},
     "output_type": "display_data"
    },
    {
     "name": "stderr",
     "output_type": "stream",
     "text": [
      "Collect means:  42%|███████████████████▌                          | 191/450 [09:53<13:23,  3.10s/it]"
     ]
    },
    {
     "data": {
      "application/vnd.jupyter.widget-view+json": {
       "model_id": "53962ab972644cba81b2788352a7a947",
       "version_major": 2,
       "version_minor": 0
      },
      "text/plain": [
       "  0%|          | 0/20 [00:00<?, ?it/s]"
      ]
     },
     "metadata": {},
     "output_type": "display_data"
    },
    {
     "name": "stderr",
     "output_type": "stream",
     "text": [
      "Collect means:  43%|███████████████████▋                          | 192/450 [09:56<13:20,  3.10s/it]"
     ]
    },
    {
     "data": {
      "application/vnd.jupyter.widget-view+json": {
       "model_id": "f8b212a1207f408494c051958d327946",
       "version_major": 2,
       "version_minor": 0
      },
      "text/plain": [
       "  0%|          | 0/20 [00:00<?, ?it/s]"
      ]
     },
     "metadata": {},
     "output_type": "display_data"
    },
    {
     "name": "stderr",
     "output_type": "stream",
     "text": [
      "Collect means:  43%|███████████████████▋                          | 193/450 [09:59<13:17,  3.10s/it]"
     ]
    },
    {
     "data": {
      "application/vnd.jupyter.widget-view+json": {
       "model_id": "1b71fea44baf455abd1bf25822cfae97",
       "version_major": 2,
       "version_minor": 0
      },
      "text/plain": [
       "  0%|          | 0/20 [00:00<?, ?it/s]"
      ]
     },
     "metadata": {},
     "output_type": "display_data"
    },
    {
     "name": "stderr",
     "output_type": "stream",
     "text": [
      "Collect means:  43%|███████████████████▊                          | 194/450 [10:02<13:14,  3.10s/it]"
     ]
    },
    {
     "data": {
      "application/vnd.jupyter.widget-view+json": {
       "model_id": "cdc042e7ff99497d924775e016813937",
       "version_major": 2,
       "version_minor": 0
      },
      "text/plain": [
       "  0%|          | 0/20 [00:00<?, ?it/s]"
      ]
     },
     "metadata": {},
     "output_type": "display_data"
    },
    {
     "name": "stderr",
     "output_type": "stream",
     "text": [
      "Collect means:  43%|███████████████████▉                          | 195/450 [10:05<13:11,  3.10s/it]"
     ]
    },
    {
     "data": {
      "application/vnd.jupyter.widget-view+json": {
       "model_id": "1b6e82a697e34583888b462dc761d08b",
       "version_major": 2,
       "version_minor": 0
      },
      "text/plain": [
       "  0%|          | 0/20 [00:00<?, ?it/s]"
      ]
     },
     "metadata": {},
     "output_type": "display_data"
    },
    {
     "name": "stderr",
     "output_type": "stream",
     "text": [
      "Collect means:  44%|████████████████████                          | 196/450 [10:08<13:08,  3.10s/it]"
     ]
    },
    {
     "data": {
      "application/vnd.jupyter.widget-view+json": {
       "model_id": "11cf9d96c532470faa87dd2f00c9a37a",
       "version_major": 2,
       "version_minor": 0
      },
      "text/plain": [
       "  0%|          | 0/20 [00:00<?, ?it/s]"
      ]
     },
     "metadata": {},
     "output_type": "display_data"
    },
    {
     "name": "stderr",
     "output_type": "stream",
     "text": [
      "Collect means:  44%|████████████████████▏                         | 197/450 [10:11<13:05,  3.10s/it]"
     ]
    },
    {
     "data": {
      "application/vnd.jupyter.widget-view+json": {
       "model_id": "1e90deb3918b4f2eadc5acf5c643bee2",
       "version_major": 2,
       "version_minor": 0
      },
      "text/plain": [
       "  0%|          | 0/20 [00:00<?, ?it/s]"
      ]
     },
     "metadata": {},
     "output_type": "display_data"
    },
    {
     "name": "stderr",
     "output_type": "stream",
     "text": [
      "Collect means:  44%|████████████████████▏                         | 198/450 [10:14<13:01,  3.10s/it]"
     ]
    },
    {
     "data": {
      "application/vnd.jupyter.widget-view+json": {
       "model_id": "3f4736ab0f9843ada8e4cfd5c6fae0d5",
       "version_major": 2,
       "version_minor": 0
      },
      "text/plain": [
       "  0%|          | 0/20 [00:00<?, ?it/s]"
      ]
     },
     "metadata": {},
     "output_type": "display_data"
    },
    {
     "name": "stderr",
     "output_type": "stream",
     "text": [
      "Collect means:  44%|████████████████████▎                         | 199/450 [10:18<12:58,  3.10s/it]"
     ]
    },
    {
     "data": {
      "application/vnd.jupyter.widget-view+json": {
       "model_id": "abb9fffa9f0e4a0caeedca2f466c9956",
       "version_major": 2,
       "version_minor": 0
      },
      "text/plain": [
       "  0%|          | 0/20 [00:00<?, ?it/s]"
      ]
     },
     "metadata": {},
     "output_type": "display_data"
    },
    {
     "name": "stderr",
     "output_type": "stream",
     "text": [
      "Collect means:  44%|████████████████████▍                         | 200/450 [10:21<12:55,  3.10s/it]"
     ]
    },
    {
     "data": {
      "application/vnd.jupyter.widget-view+json": {
       "model_id": "34cf5e038955407595cb8a8b078f619e",
       "version_major": 2,
       "version_minor": 0
      },
      "text/plain": [
       "  0%|          | 0/20 [00:00<?, ?it/s]"
      ]
     },
     "metadata": {},
     "output_type": "display_data"
    },
    {
     "name": "stderr",
     "output_type": "stream",
     "text": [
      "Collect means:  45%|████████████████████▌                         | 201/450 [10:24<12:52,  3.10s/it]"
     ]
    },
    {
     "data": {
      "application/vnd.jupyter.widget-view+json": {
       "model_id": "43ee47cb1277407ebb62cf86bc490916",
       "version_major": 2,
       "version_minor": 0
      },
      "text/plain": [
       "  0%|          | 0/20 [00:00<?, ?it/s]"
      ]
     },
     "metadata": {},
     "output_type": "display_data"
    },
    {
     "name": "stderr",
     "output_type": "stream",
     "text": [
      "Collect means:  45%|████████████████████▋                         | 202/450 [10:27<12:49,  3.10s/it]"
     ]
    },
    {
     "data": {
      "application/vnd.jupyter.widget-view+json": {
       "model_id": "1468bd60821b4de8abdf89a64200ffe1",
       "version_major": 2,
       "version_minor": 0
      },
      "text/plain": [
       "  0%|          | 0/20 [00:00<?, ?it/s]"
      ]
     },
     "metadata": {},
     "output_type": "display_data"
    },
    {
     "name": "stderr",
     "output_type": "stream",
     "text": [
      "Collect means:  45%|████████████████████▊                         | 203/450 [10:30<12:46,  3.10s/it]"
     ]
    },
    {
     "data": {
      "application/vnd.jupyter.widget-view+json": {
       "model_id": "96335a4f40834e9a90ae043a0ca135fb",
       "version_major": 2,
       "version_minor": 0
      },
      "text/plain": [
       "  0%|          | 0/20 [00:00<?, ?it/s]"
      ]
     },
     "metadata": {},
     "output_type": "display_data"
    },
    {
     "name": "stderr",
     "output_type": "stream",
     "text": [
      "Collect means:  45%|████████████████████▊                         | 204/450 [10:33<12:43,  3.10s/it]"
     ]
    },
    {
     "data": {
      "application/vnd.jupyter.widget-view+json": {
       "model_id": "5164b695f3f54d26a3dcdfb1571df8d8",
       "version_major": 2,
       "version_minor": 0
      },
      "text/plain": [
       "  0%|          | 0/20 [00:00<?, ?it/s]"
      ]
     },
     "metadata": {},
     "output_type": "display_data"
    },
    {
     "name": "stderr",
     "output_type": "stream",
     "text": [
      "Collect means:  46%|████████████████████▉                         | 205/450 [10:36<12:40,  3.10s/it]"
     ]
    },
    {
     "data": {
      "application/vnd.jupyter.widget-view+json": {
       "model_id": "313b673d6c1040829879eed3e162f012",
       "version_major": 2,
       "version_minor": 0
      },
      "text/plain": [
       "  0%|          | 0/20 [00:00<?, ?it/s]"
      ]
     },
     "metadata": {},
     "output_type": "display_data"
    },
    {
     "name": "stderr",
     "output_type": "stream",
     "text": [
      "Collect means:  46%|█████████████████████                         | 206/450 [10:39<12:37,  3.10s/it]"
     ]
    },
    {
     "data": {
      "application/vnd.jupyter.widget-view+json": {
       "model_id": "9f50f96e551c44a0b6ecbca13ae0a4ea",
       "version_major": 2,
       "version_minor": 0
      },
      "text/plain": [
       "  0%|          | 0/20 [00:00<?, ?it/s]"
      ]
     },
     "metadata": {},
     "output_type": "display_data"
    },
    {
     "name": "stderr",
     "output_type": "stream",
     "text": [
      "Collect means:  46%|█████████████████████▏                        | 207/450 [10:42<12:34,  3.10s/it]"
     ]
    },
    {
     "data": {
      "application/vnd.jupyter.widget-view+json": {
       "model_id": "a86790fa229340ae8c7b55912e8121dc",
       "version_major": 2,
       "version_minor": 0
      },
      "text/plain": [
       "  0%|          | 0/20 [00:00<?, ?it/s]"
      ]
     },
     "metadata": {},
     "output_type": "display_data"
    },
    {
     "name": "stderr",
     "output_type": "stream",
     "text": [
      "Collect means:  46%|█████████████████████▎                        | 208/450 [10:45<12:30,  3.10s/it]"
     ]
    },
    {
     "data": {
      "application/vnd.jupyter.widget-view+json": {
       "model_id": "9436fac17bec474fb965ca80272b30e8",
       "version_major": 2,
       "version_minor": 0
      },
      "text/plain": [
       "  0%|          | 0/20 [00:00<?, ?it/s]"
      ]
     },
     "metadata": {},
     "output_type": "display_data"
    },
    {
     "name": "stderr",
     "output_type": "stream",
     "text": [
      "Collect means:  46%|█████████████████████▎                        | 209/450 [10:49<12:27,  3.10s/it]"
     ]
    },
    {
     "data": {
      "application/vnd.jupyter.widget-view+json": {
       "model_id": "43d82718cfc8470f8cd529f8552bf7e8",
       "version_major": 2,
       "version_minor": 0
      },
      "text/plain": [
       "  0%|          | 0/20 [00:00<?, ?it/s]"
      ]
     },
     "metadata": {},
     "output_type": "display_data"
    },
    {
     "name": "stderr",
     "output_type": "stream",
     "text": [
      "Collect means:  47%|█████████████████████▍                        | 210/450 [10:52<12:24,  3.10s/it]"
     ]
    },
    {
     "data": {
      "application/vnd.jupyter.widget-view+json": {
       "model_id": "0dfdff8040a3436a9c2e9b7a5c60e0bc",
       "version_major": 2,
       "version_minor": 0
      },
      "text/plain": [
       "  0%|          | 0/20 [00:00<?, ?it/s]"
      ]
     },
     "metadata": {},
     "output_type": "display_data"
    },
    {
     "name": "stderr",
     "output_type": "stream",
     "text": [
      "Collect means:  47%|█████████████████████▌                        | 211/450 [10:55<12:21,  3.10s/it]"
     ]
    },
    {
     "data": {
      "application/vnd.jupyter.widget-view+json": {
       "model_id": "2a403e113bf24337bae0fce7d152cdcd",
       "version_major": 2,
       "version_minor": 0
      },
      "text/plain": [
       "  0%|          | 0/20 [00:00<?, ?it/s]"
      ]
     },
     "metadata": {},
     "output_type": "display_data"
    },
    {
     "name": "stderr",
     "output_type": "stream",
     "text": [
      "Collect means:  47%|█████████████████████▋                        | 212/450 [10:58<12:18,  3.10s/it]"
     ]
    },
    {
     "data": {
      "application/vnd.jupyter.widget-view+json": {
       "model_id": "5f3f8f9b9bce4a968374ff1aa0cdc15d",
       "version_major": 2,
       "version_minor": 0
      },
      "text/plain": [
       "  0%|          | 0/20 [00:00<?, ?it/s]"
      ]
     },
     "metadata": {},
     "output_type": "display_data"
    },
    {
     "name": "stderr",
     "output_type": "stream",
     "text": [
      "Collect means:  47%|█████████████████████▊                        | 213/450 [11:01<12:15,  3.10s/it]"
     ]
    },
    {
     "data": {
      "application/vnd.jupyter.widget-view+json": {
       "model_id": "f1b0c89fab234d7abb79f6f95b934b34",
       "version_major": 2,
       "version_minor": 0
      },
      "text/plain": [
       "  0%|          | 0/20 [00:00<?, ?it/s]"
      ]
     },
     "metadata": {},
     "output_type": "display_data"
    },
    {
     "name": "stderr",
     "output_type": "stream",
     "text": [
      "Collect means:  48%|█████████████████████▉                        | 214/450 [11:04<12:12,  3.10s/it]"
     ]
    },
    {
     "data": {
      "application/vnd.jupyter.widget-view+json": {
       "model_id": "0ffd6396cf7c46c194c7d90cf2b8113a",
       "version_major": 2,
       "version_minor": 0
      },
      "text/plain": [
       "  0%|          | 0/20 [00:00<?, ?it/s]"
      ]
     },
     "metadata": {},
     "output_type": "display_data"
    },
    {
     "name": "stderr",
     "output_type": "stream",
     "text": [
      "Collect means:  48%|█████████████████████▉                        | 215/450 [11:07<12:09,  3.10s/it]"
     ]
    },
    {
     "data": {
      "application/vnd.jupyter.widget-view+json": {
       "model_id": "272903ab66c1434b9bf4afa65d221697",
       "version_major": 2,
       "version_minor": 0
      },
      "text/plain": [
       "  0%|          | 0/20 [00:00<?, ?it/s]"
      ]
     },
     "metadata": {},
     "output_type": "display_data"
    },
    {
     "name": "stderr",
     "output_type": "stream",
     "text": [
      "Collect means:  48%|██████████████████████                        | 216/450 [11:10<12:06,  3.10s/it]"
     ]
    },
    {
     "data": {
      "application/vnd.jupyter.widget-view+json": {
       "model_id": "70a4445dc5234c22bf85a296be623609",
       "version_major": 2,
       "version_minor": 0
      },
      "text/plain": [
       "  0%|          | 0/20 [00:00<?, ?it/s]"
      ]
     },
     "metadata": {},
     "output_type": "display_data"
    },
    {
     "name": "stderr",
     "output_type": "stream",
     "text": [
      "Collect means:  48%|██████████████████████▏                       | 217/450 [11:13<12:02,  3.10s/it]"
     ]
    },
    {
     "data": {
      "application/vnd.jupyter.widget-view+json": {
       "model_id": "5511d224ad34476aad7927da242b52ac",
       "version_major": 2,
       "version_minor": 0
      },
      "text/plain": [
       "  0%|          | 0/20 [00:00<?, ?it/s]"
      ]
     },
     "metadata": {},
     "output_type": "display_data"
    },
    {
     "name": "stderr",
     "output_type": "stream",
     "text": [
      "Collect means:  48%|██████████████████████▎                       | 218/450 [11:17<11:59,  3.10s/it]"
     ]
    },
    {
     "data": {
      "application/vnd.jupyter.widget-view+json": {
       "model_id": "ecacabe0eefe4906bc3958a2d9ebb34f",
       "version_major": 2,
       "version_minor": 0
      },
      "text/plain": [
       "  0%|          | 0/20 [00:00<?, ?it/s]"
      ]
     },
     "metadata": {},
     "output_type": "display_data"
    },
    {
     "name": "stderr",
     "output_type": "stream",
     "text": [
      "Collect means:  49%|██████████████████████▍                       | 219/450 [11:20<11:56,  3.10s/it]"
     ]
    },
    {
     "data": {
      "application/vnd.jupyter.widget-view+json": {
       "model_id": "566d276fb352422cb1b1dcc49462cf69",
       "version_major": 2,
       "version_minor": 0
      },
      "text/plain": [
       "  0%|          | 0/20 [00:00<?, ?it/s]"
      ]
     },
     "metadata": {},
     "output_type": "display_data"
    },
    {
     "name": "stderr",
     "output_type": "stream",
     "text": [
      "Collect means:  49%|██████████████████████▍                       | 220/450 [11:23<11:53,  3.10s/it]"
     ]
    },
    {
     "data": {
      "application/vnd.jupyter.widget-view+json": {
       "model_id": "34381ca7ca424fdc8e3e81d3392e3d8b",
       "version_major": 2,
       "version_minor": 0
      },
      "text/plain": [
       "  0%|          | 0/20 [00:00<?, ?it/s]"
      ]
     },
     "metadata": {},
     "output_type": "display_data"
    },
    {
     "name": "stderr",
     "output_type": "stream",
     "text": [
      "Collect means:  49%|██████████████████████▌                       | 221/450 [11:26<11:50,  3.10s/it]"
     ]
    },
    {
     "data": {
      "application/vnd.jupyter.widget-view+json": {
       "model_id": "7cfa4febfb1c4c82899f7053404b3c99",
       "version_major": 2,
       "version_minor": 0
      },
      "text/plain": [
       "  0%|          | 0/20 [00:00<?, ?it/s]"
      ]
     },
     "metadata": {},
     "output_type": "display_data"
    },
    {
     "name": "stderr",
     "output_type": "stream",
     "text": [
      "Collect means:  49%|██████████████████████▋                       | 222/450 [11:29<11:47,  3.10s/it]"
     ]
    },
    {
     "data": {
      "application/vnd.jupyter.widget-view+json": {
       "model_id": "ac60c1d3d4d34113860d9128f04859c0",
       "version_major": 2,
       "version_minor": 0
      },
      "text/plain": [
       "  0%|          | 0/20 [00:00<?, ?it/s]"
      ]
     },
     "metadata": {},
     "output_type": "display_data"
    },
    {
     "name": "stderr",
     "output_type": "stream",
     "text": [
      "Collect means:  50%|██████████████████████▊                       | 223/450 [11:32<11:44,  3.10s/it]"
     ]
    },
    {
     "data": {
      "application/vnd.jupyter.widget-view+json": {
       "model_id": "45730f7e0807499c926aa023288106df",
       "version_major": 2,
       "version_minor": 0
      },
      "text/plain": [
       "  0%|          | 0/20 [00:00<?, ?it/s]"
      ]
     },
     "metadata": {},
     "output_type": "display_data"
    },
    {
     "name": "stderr",
     "output_type": "stream",
     "text": [
      "Collect means:  50%|██████████████████████▉                       | 224/450 [11:35<11:41,  3.10s/it]"
     ]
    },
    {
     "data": {
      "application/vnd.jupyter.widget-view+json": {
       "model_id": "c466efc386df4a0b8a2dfdc5fb113b07",
       "version_major": 2,
       "version_minor": 0
      },
      "text/plain": [
       "  0%|          | 0/20 [00:00<?, ?it/s]"
      ]
     },
     "metadata": {},
     "output_type": "display_data"
    },
    {
     "name": "stderr",
     "output_type": "stream",
     "text": [
      "Collect means:  50%|███████████████████████                       | 225/450 [11:38<11:38,  3.10s/it]"
     ]
    },
    {
     "data": {
      "application/vnd.jupyter.widget-view+json": {
       "model_id": "b4c2c7038c4b4f18a976f5fb99a1facf",
       "version_major": 2,
       "version_minor": 0
      },
      "text/plain": [
       "  0%|          | 0/20 [00:00<?, ?it/s]"
      ]
     },
     "metadata": {},
     "output_type": "display_data"
    },
    {
     "name": "stderr",
     "output_type": "stream",
     "text": [
      "Collect means:  50%|███████████████████████                       | 226/450 [11:41<11:34,  3.10s/it]"
     ]
    },
    {
     "data": {
      "application/vnd.jupyter.widget-view+json": {
       "model_id": "4e75c831b6104f26bba750d01cc3a1a5",
       "version_major": 2,
       "version_minor": 0
      },
      "text/plain": [
       "  0%|          | 0/20 [00:00<?, ?it/s]"
      ]
     },
     "metadata": {},
     "output_type": "display_data"
    },
    {
     "name": "stderr",
     "output_type": "stream",
     "text": [
      "Collect means:  50%|███████████████████████▏                      | 227/450 [11:44<11:31,  3.10s/it]"
     ]
    },
    {
     "data": {
      "application/vnd.jupyter.widget-view+json": {
       "model_id": "ea5ceb3b126246bfab582ac2def7acb9",
       "version_major": 2,
       "version_minor": 0
      },
      "text/plain": [
       "  0%|          | 0/20 [00:00<?, ?it/s]"
      ]
     },
     "metadata": {},
     "output_type": "display_data"
    },
    {
     "name": "stderr",
     "output_type": "stream",
     "text": [
      "Collect means:  51%|███████████████████████▎                      | 228/450 [11:48<11:28,  3.10s/it]"
     ]
    },
    {
     "data": {
      "application/vnd.jupyter.widget-view+json": {
       "model_id": "cf6559cc3e16417fa25f3e74c5a53a5c",
       "version_major": 2,
       "version_minor": 0
      },
      "text/plain": [
       "  0%|          | 0/20 [00:00<?, ?it/s]"
      ]
     },
     "metadata": {},
     "output_type": "display_data"
    },
    {
     "name": "stderr",
     "output_type": "stream",
     "text": [
      "Collect means:  51%|███████████████████████▍                      | 229/450 [11:51<11:25,  3.10s/it]"
     ]
    },
    {
     "data": {
      "application/vnd.jupyter.widget-view+json": {
       "model_id": "354091a7c2d54cd2930c1e29a1b92ebf",
       "version_major": 2,
       "version_minor": 0
      },
      "text/plain": [
       "  0%|          | 0/20 [00:00<?, ?it/s]"
      ]
     },
     "metadata": {},
     "output_type": "display_data"
    },
    {
     "name": "stderr",
     "output_type": "stream",
     "text": [
      "Collect means:  51%|███████████████████████▌                      | 230/450 [11:54<11:22,  3.10s/it]"
     ]
    },
    {
     "data": {
      "application/vnd.jupyter.widget-view+json": {
       "model_id": "81c14dbcd8b343069552fce70730fb9e",
       "version_major": 2,
       "version_minor": 0
      },
      "text/plain": [
       "  0%|          | 0/20 [00:00<?, ?it/s]"
      ]
     },
     "metadata": {},
     "output_type": "display_data"
    },
    {
     "name": "stderr",
     "output_type": "stream",
     "text": [
      "Collect means:  51%|███████████████████████▌                      | 231/450 [11:57<11:19,  3.10s/it]"
     ]
    },
    {
     "data": {
      "application/vnd.jupyter.widget-view+json": {
       "model_id": "e9ff48c9bb974913a5cf736f940ec4a2",
       "version_major": 2,
       "version_minor": 0
      },
      "text/plain": [
       "  0%|          | 0/20 [00:00<?, ?it/s]"
      ]
     },
     "metadata": {},
     "output_type": "display_data"
    },
    {
     "name": "stderr",
     "output_type": "stream",
     "text": [
      "Collect means:  52%|███████████████████████▋                      | 232/450 [12:00<11:16,  3.10s/it]"
     ]
    },
    {
     "data": {
      "application/vnd.jupyter.widget-view+json": {
       "model_id": "7f738fd730d7462480452accd8af991f",
       "version_major": 2,
       "version_minor": 0
      },
      "text/plain": [
       "  0%|          | 0/20 [00:00<?, ?it/s]"
      ]
     },
     "metadata": {},
     "output_type": "display_data"
    },
    {
     "name": "stderr",
     "output_type": "stream",
     "text": [
      "Collect means:  52%|███████████████████████▊                      | 233/450 [12:03<11:13,  3.10s/it]"
     ]
    },
    {
     "data": {
      "application/vnd.jupyter.widget-view+json": {
       "model_id": "a9f4621b76d547cfb4b02e85268aa866",
       "version_major": 2,
       "version_minor": 0
      },
      "text/plain": [
       "  0%|          | 0/20 [00:00<?, ?it/s]"
      ]
     },
     "metadata": {},
     "output_type": "display_data"
    },
    {
     "name": "stderr",
     "output_type": "stream",
     "text": [
      "Collect means:  52%|███████████████████████▉                      | 234/450 [12:06<11:10,  3.10s/it]"
     ]
    },
    {
     "data": {
      "application/vnd.jupyter.widget-view+json": {
       "model_id": "4876aeae668641d296defac9250eccf2",
       "version_major": 2,
       "version_minor": 0
      },
      "text/plain": [
       "  0%|          | 0/20 [00:00<?, ?it/s]"
      ]
     },
     "metadata": {},
     "output_type": "display_data"
    },
    {
     "name": "stderr",
     "output_type": "stream",
     "text": [
      "Collect means:  52%|████████████████████████                      | 235/450 [12:09<11:07,  3.10s/it]"
     ]
    },
    {
     "data": {
      "application/vnd.jupyter.widget-view+json": {
       "model_id": "b52fe20ce2b04cdcbeb15231dd0c45e2",
       "version_major": 2,
       "version_minor": 0
      },
      "text/plain": [
       "  0%|          | 0/20 [00:00<?, ?it/s]"
      ]
     },
     "metadata": {},
     "output_type": "display_data"
    },
    {
     "name": "stderr",
     "output_type": "stream",
     "text": [
      "Collect means:  52%|████████████████████████                      | 236/450 [12:12<11:03,  3.10s/it]"
     ]
    },
    {
     "data": {
      "application/vnd.jupyter.widget-view+json": {
       "model_id": "9a13c480db4a41e9a6ed3158de9994f2",
       "version_major": 2,
       "version_minor": 0
      },
      "text/plain": [
       "  0%|          | 0/20 [00:00<?, ?it/s]"
      ]
     },
     "metadata": {},
     "output_type": "display_data"
    },
    {
     "name": "stderr",
     "output_type": "stream",
     "text": [
      "Collect means:  53%|████████████████████████▏                     | 237/450 [12:15<11:00,  3.10s/it]"
     ]
    },
    {
     "data": {
      "application/vnd.jupyter.widget-view+json": {
       "model_id": "db957d9e92e0477c9b1caaf242fa3533",
       "version_major": 2,
       "version_minor": 0
      },
      "text/plain": [
       "  0%|          | 0/20 [00:00<?, ?it/s]"
      ]
     },
     "metadata": {},
     "output_type": "display_data"
    },
    {
     "name": "stderr",
     "output_type": "stream",
     "text": [
      "Collect means:  53%|████████████████████████▎                     | 238/450 [12:19<10:57,  3.10s/it]"
     ]
    },
    {
     "data": {
      "application/vnd.jupyter.widget-view+json": {
       "model_id": "c53d7b18b59e45ada84b971987bda22a",
       "version_major": 2,
       "version_minor": 0
      },
      "text/plain": [
       "  0%|          | 0/20 [00:00<?, ?it/s]"
      ]
     },
     "metadata": {},
     "output_type": "display_data"
    },
    {
     "name": "stderr",
     "output_type": "stream",
     "text": [
      "Collect means:  53%|████████████████████████▍                     | 239/450 [12:22<10:54,  3.10s/it]"
     ]
    },
    {
     "data": {
      "application/vnd.jupyter.widget-view+json": {
       "model_id": "868f65fc81be40ceb2c5f838e4806339",
       "version_major": 2,
       "version_minor": 0
      },
      "text/plain": [
       "  0%|          | 0/20 [00:00<?, ?it/s]"
      ]
     },
     "metadata": {},
     "output_type": "display_data"
    },
    {
     "name": "stderr",
     "output_type": "stream",
     "text": [
      "Collect means:  53%|████████████████████████▌                     | 240/450 [12:25<10:52,  3.11s/it]"
     ]
    },
    {
     "data": {
      "application/vnd.jupyter.widget-view+json": {
       "model_id": "2a9649cf7fd343fe94f4a3c60944642e",
       "version_major": 2,
       "version_minor": 0
      },
      "text/plain": [
       "  0%|          | 0/20 [00:00<?, ?it/s]"
      ]
     },
     "metadata": {},
     "output_type": "display_data"
    },
    {
     "name": "stderr",
     "output_type": "stream",
     "text": [
      "Collect means:  54%|████████████████████████▋                     | 241/450 [12:28<10:49,  3.11s/it]"
     ]
    },
    {
     "data": {
      "application/vnd.jupyter.widget-view+json": {
       "model_id": "894539d0dd33420f9392d6b1ebc720af",
       "version_major": 2,
       "version_minor": 0
      },
      "text/plain": [
       "  0%|          | 0/20 [00:00<?, ?it/s]"
      ]
     },
     "metadata": {},
     "output_type": "display_data"
    },
    {
     "name": "stderr",
     "output_type": "stream",
     "text": [
      "Collect means:  54%|████████████████████████▋                     | 242/450 [12:31<10:45,  3.11s/it]"
     ]
    },
    {
     "data": {
      "application/vnd.jupyter.widget-view+json": {
       "model_id": "d00231a07e4e4e88a7763d93825d959b",
       "version_major": 2,
       "version_minor": 0
      },
      "text/plain": [
       "  0%|          | 0/20 [00:00<?, ?it/s]"
      ]
     },
     "metadata": {},
     "output_type": "display_data"
    },
    {
     "name": "stderr",
     "output_type": "stream",
     "text": [
      "Collect means:  54%|████████████████████████▊                     | 243/450 [12:34<10:42,  3.10s/it]"
     ]
    },
    {
     "data": {
      "application/vnd.jupyter.widget-view+json": {
       "model_id": "5ad457b955c34eeaac82d49dea7df0b9",
       "version_major": 2,
       "version_minor": 0
      },
      "text/plain": [
       "  0%|          | 0/20 [00:00<?, ?it/s]"
      ]
     },
     "metadata": {},
     "output_type": "display_data"
    },
    {
     "name": "stderr",
     "output_type": "stream",
     "text": [
      "Collect means:  54%|████████████████████████▉                     | 244/450 [12:37<10:39,  3.10s/it]"
     ]
    },
    {
     "data": {
      "application/vnd.jupyter.widget-view+json": {
       "model_id": "e19802c547a648bf903c009a423ff1d8",
       "version_major": 2,
       "version_minor": 0
      },
      "text/plain": [
       "  0%|          | 0/20 [00:00<?, ?it/s]"
      ]
     },
     "metadata": {},
     "output_type": "display_data"
    },
    {
     "name": "stderr",
     "output_type": "stream",
     "text": [
      "Collect means:  54%|█████████████████████████                     | 245/450 [12:40<10:36,  3.10s/it]"
     ]
    },
    {
     "data": {
      "application/vnd.jupyter.widget-view+json": {
       "model_id": "c8d7e6e361294244961f8605575fd4d1",
       "version_major": 2,
       "version_minor": 0
      },
      "text/plain": [
       "  0%|          | 0/20 [00:00<?, ?it/s]"
      ]
     },
     "metadata": {},
     "output_type": "display_data"
    },
    {
     "name": "stderr",
     "output_type": "stream",
     "text": [
      "Collect means:  55%|█████████████████████████▏                    | 246/450 [12:43<10:33,  3.10s/it]"
     ]
    },
    {
     "data": {
      "application/vnd.jupyter.widget-view+json": {
       "model_id": "6a94f73214ec411a8d529607ebfcd8bf",
       "version_major": 2,
       "version_minor": 0
      },
      "text/plain": [
       "  0%|          | 0/20 [00:00<?, ?it/s]"
      ]
     },
     "metadata": {},
     "output_type": "display_data"
    },
    {
     "name": "stderr",
     "output_type": "stream",
     "text": [
      "Collect means:  55%|█████████████████████████▏                    | 247/450 [12:47<10:30,  3.10s/it]"
     ]
    },
    {
     "data": {
      "application/vnd.jupyter.widget-view+json": {
       "model_id": "302609381e1449f8861b46717e92ecc3",
       "version_major": 2,
       "version_minor": 0
      },
      "text/plain": [
       "  0%|          | 0/20 [00:00<?, ?it/s]"
      ]
     },
     "metadata": {},
     "output_type": "display_data"
    },
    {
     "name": "stderr",
     "output_type": "stream",
     "text": [
      "Collect means:  55%|█████████████████████████▎                    | 248/450 [12:50<10:27,  3.11s/it]"
     ]
    },
    {
     "data": {
      "application/vnd.jupyter.widget-view+json": {
       "model_id": "1b2e35cfc40d4856ba84946df958e24b",
       "version_major": 2,
       "version_minor": 0
      },
      "text/plain": [
       "  0%|          | 0/20 [00:00<?, ?it/s]"
      ]
     },
     "metadata": {},
     "output_type": "display_data"
    },
    {
     "name": "stderr",
     "output_type": "stream",
     "text": [
      "Collect means:  55%|█████████████████████████▍                    | 249/450 [12:53<10:24,  3.11s/it]"
     ]
    },
    {
     "data": {
      "application/vnd.jupyter.widget-view+json": {
       "model_id": "b3207940a73547738eab3cb7abda892b",
       "version_major": 2,
       "version_minor": 0
      },
      "text/plain": [
       "  0%|          | 0/20 [00:00<?, ?it/s]"
      ]
     },
     "metadata": {},
     "output_type": "display_data"
    },
    {
     "name": "stderr",
     "output_type": "stream",
     "text": [
      "Collect means:  56%|█████████████████████████▌                    | 250/450 [12:56<10:20,  3.10s/it]"
     ]
    },
    {
     "data": {
      "application/vnd.jupyter.widget-view+json": {
       "model_id": "3dc9b2dc8f3742f88151d5ad6f582142",
       "version_major": 2,
       "version_minor": 0
      },
      "text/plain": [
       "  0%|          | 0/20 [00:00<?, ?it/s]"
      ]
     },
     "metadata": {},
     "output_type": "display_data"
    },
    {
     "name": "stderr",
     "output_type": "stream",
     "text": [
      "Collect means:  56%|█████████████████████████▋                    | 251/450 [12:59<10:17,  3.10s/it]"
     ]
    },
    {
     "data": {
      "application/vnd.jupyter.widget-view+json": {
       "model_id": "35b586b1475c4c31869d4b3dc4027137",
       "version_major": 2,
       "version_minor": 0
      },
      "text/plain": [
       "  0%|          | 0/20 [00:00<?, ?it/s]"
      ]
     },
     "metadata": {},
     "output_type": "display_data"
    },
    {
     "name": "stderr",
     "output_type": "stream",
     "text": [
      "Collect means:  56%|█████████████████████████▊                    | 252/450 [13:02<10:14,  3.10s/it]"
     ]
    },
    {
     "data": {
      "application/vnd.jupyter.widget-view+json": {
       "model_id": "02c468fdb7984a909f93eafd8b69a6c3",
       "version_major": 2,
       "version_minor": 0
      },
      "text/plain": [
       "  0%|          | 0/20 [00:00<?, ?it/s]"
      ]
     },
     "metadata": {},
     "output_type": "display_data"
    },
    {
     "name": "stderr",
     "output_type": "stream",
     "text": [
      "Collect means:  56%|█████████████████████████▊                    | 253/450 [13:05<10:11,  3.10s/it]"
     ]
    },
    {
     "data": {
      "application/vnd.jupyter.widget-view+json": {
       "model_id": "57ca604bcb124f11ab7a76c31f656e34",
       "version_major": 2,
       "version_minor": 0
      },
      "text/plain": [
       "  0%|          | 0/20 [00:00<?, ?it/s]"
      ]
     },
     "metadata": {},
     "output_type": "display_data"
    },
    {
     "name": "stderr",
     "output_type": "stream",
     "text": [
      "Collect means:  56%|█████████████████████████▉                    | 254/450 [13:08<10:08,  3.10s/it]"
     ]
    },
    {
     "data": {
      "application/vnd.jupyter.widget-view+json": {
       "model_id": "b8749d4800a74cd6ba50dc9f84e19fd8",
       "version_major": 2,
       "version_minor": 0
      },
      "text/plain": [
       "  0%|          | 0/20 [00:00<?, ?it/s]"
      ]
     },
     "metadata": {},
     "output_type": "display_data"
    },
    {
     "name": "stderr",
     "output_type": "stream",
     "text": [
      "Collect means:  57%|██████████████████████████                    | 255/450 [13:11<10:05,  3.10s/it]"
     ]
    },
    {
     "data": {
      "application/vnd.jupyter.widget-view+json": {
       "model_id": "af1c81bfe26c44239eb302bcbaa415ec",
       "version_major": 2,
       "version_minor": 0
      },
      "text/plain": [
       "  0%|          | 0/20 [00:00<?, ?it/s]"
      ]
     },
     "metadata": {},
     "output_type": "display_data"
    },
    {
     "name": "stderr",
     "output_type": "stream",
     "text": [
      "Collect means:  57%|██████████████████████████▏                   | 256/450 [13:14<10:01,  3.10s/it]"
     ]
    },
    {
     "data": {
      "application/vnd.jupyter.widget-view+json": {
       "model_id": "84d10a5f390842db85e096cda97a9db5",
       "version_major": 2,
       "version_minor": 0
      },
      "text/plain": [
       "  0%|          | 0/20 [00:00<?, ?it/s]"
      ]
     },
     "metadata": {},
     "output_type": "display_data"
    },
    {
     "name": "stderr",
     "output_type": "stream",
     "text": [
      "Collect means:  57%|██████████████████████████▎                   | 257/450 [13:18<09:58,  3.10s/it]"
     ]
    },
    {
     "data": {
      "application/vnd.jupyter.widget-view+json": {
       "model_id": "8083df3daa4d4576a182b96e048c930a",
       "version_major": 2,
       "version_minor": 0
      },
      "text/plain": [
       "  0%|          | 0/20 [00:00<?, ?it/s]"
      ]
     },
     "metadata": {},
     "output_type": "display_data"
    },
    {
     "name": "stderr",
     "output_type": "stream",
     "text": [
      "Collect means:  57%|██████████████████████████▎                   | 258/450 [13:21<09:55,  3.10s/it]"
     ]
    },
    {
     "data": {
      "application/vnd.jupyter.widget-view+json": {
       "model_id": "bf1ca229ca08480da0b93bb415351920",
       "version_major": 2,
       "version_minor": 0
      },
      "text/plain": [
       "  0%|          | 0/20 [00:00<?, ?it/s]"
      ]
     },
     "metadata": {},
     "output_type": "display_data"
    },
    {
     "name": "stderr",
     "output_type": "stream",
     "text": [
      "Collect means:  58%|██████████████████████████▍                   | 259/450 [13:24<09:52,  3.10s/it]"
     ]
    },
    {
     "data": {
      "application/vnd.jupyter.widget-view+json": {
       "model_id": "6479e6dff8f74d1c922c88a46857d3d1",
       "version_major": 2,
       "version_minor": 0
      },
      "text/plain": [
       "  0%|          | 0/20 [00:00<?, ?it/s]"
      ]
     },
     "metadata": {},
     "output_type": "display_data"
    },
    {
     "name": "stderr",
     "output_type": "stream",
     "text": [
      "Collect means:  58%|██████████████████████████▌                   | 260/450 [13:27<09:49,  3.10s/it]"
     ]
    },
    {
     "data": {
      "application/vnd.jupyter.widget-view+json": {
       "model_id": "5d461c1e92734c93871a969d3fea2227",
       "version_major": 2,
       "version_minor": 0
      },
      "text/plain": [
       "  0%|          | 0/20 [00:00<?, ?it/s]"
      ]
     },
     "metadata": {},
     "output_type": "display_data"
    },
    {
     "name": "stderr",
     "output_type": "stream",
     "text": [
      "Collect means:  58%|██████████████████████████▋                   | 261/450 [13:30<09:46,  3.10s/it]"
     ]
    },
    {
     "data": {
      "application/vnd.jupyter.widget-view+json": {
       "model_id": "b6b46e631bcd4b8c8d45075e0bac47a7",
       "version_major": 2,
       "version_minor": 0
      },
      "text/plain": [
       "  0%|          | 0/20 [00:00<?, ?it/s]"
      ]
     },
     "metadata": {},
     "output_type": "display_data"
    },
    {
     "name": "stderr",
     "output_type": "stream",
     "text": [
      "Collect means:  58%|██████████████████████████▊                   | 262/450 [13:33<09:43,  3.10s/it]"
     ]
    },
    {
     "data": {
      "application/vnd.jupyter.widget-view+json": {
       "model_id": "bfaa68ebe00a4bdab947005485149cd4",
       "version_major": 2,
       "version_minor": 0
      },
      "text/plain": [
       "  0%|          | 0/20 [00:00<?, ?it/s]"
      ]
     },
     "metadata": {},
     "output_type": "display_data"
    },
    {
     "name": "stderr",
     "output_type": "stream",
     "text": [
      "Collect means:  58%|██████████████████████████▉                   | 263/450 [13:36<09:40,  3.10s/it]"
     ]
    },
    {
     "data": {
      "application/vnd.jupyter.widget-view+json": {
       "model_id": "a180b6fc128d4754953d8b9b76239988",
       "version_major": 2,
       "version_minor": 0
      },
      "text/plain": [
       "  0%|          | 0/20 [00:00<?, ?it/s]"
      ]
     },
     "metadata": {},
     "output_type": "display_data"
    },
    {
     "name": "stderr",
     "output_type": "stream",
     "text": [
      "Collect means:  59%|██████████████████████████▉                   | 264/450 [13:39<09:37,  3.10s/it]"
     ]
    },
    {
     "data": {
      "application/vnd.jupyter.widget-view+json": {
       "model_id": "110b0fd6181a40c7b7aa1d78f06101cd",
       "version_major": 2,
       "version_minor": 0
      },
      "text/plain": [
       "  0%|          | 0/20 [00:00<?, ?it/s]"
      ]
     },
     "metadata": {},
     "output_type": "display_data"
    },
    {
     "name": "stderr",
     "output_type": "stream",
     "text": [
      "Collect means:  59%|███████████████████████████                   | 265/450 [13:42<09:34,  3.10s/it]"
     ]
    },
    {
     "data": {
      "application/vnd.jupyter.widget-view+json": {
       "model_id": "430bd7a8045c4e1fac33880075f555bc",
       "version_major": 2,
       "version_minor": 0
      },
      "text/plain": [
       "  0%|          | 0/20 [00:00<?, ?it/s]"
      ]
     },
     "metadata": {},
     "output_type": "display_data"
    },
    {
     "name": "stderr",
     "output_type": "stream",
     "text": [
      "Collect means:  59%|███████████████████████████▏                  | 266/450 [13:45<09:31,  3.10s/it]"
     ]
    },
    {
     "data": {
      "application/vnd.jupyter.widget-view+json": {
       "model_id": "3a54742254c3405fa2f410d505fb486d",
       "version_major": 2,
       "version_minor": 0
      },
      "text/plain": [
       "  0%|          | 0/20 [00:00<?, ?it/s]"
      ]
     },
     "metadata": {},
     "output_type": "display_data"
    },
    {
     "name": "stderr",
     "output_type": "stream",
     "text": [
      "Collect means:  59%|███████████████████████████▎                  | 267/450 [13:49<09:27,  3.10s/it]"
     ]
    },
    {
     "data": {
      "application/vnd.jupyter.widget-view+json": {
       "model_id": "1af8ad57ed464855a7802adfa0ce0ad3",
       "version_major": 2,
       "version_minor": 0
      },
      "text/plain": [
       "  0%|          | 0/20 [00:00<?, ?it/s]"
      ]
     },
     "metadata": {},
     "output_type": "display_data"
    },
    {
     "name": "stderr",
     "output_type": "stream",
     "text": [
      "Collect means:  60%|███████████████████████████▍                  | 268/450 [13:52<09:24,  3.10s/it]"
     ]
    },
    {
     "data": {
      "application/vnd.jupyter.widget-view+json": {
       "model_id": "6dd1562c0a0c42e482bdbd85ee84fe7b",
       "version_major": 2,
       "version_minor": 0
      },
      "text/plain": [
       "  0%|          | 0/20 [00:00<?, ?it/s]"
      ]
     },
     "metadata": {},
     "output_type": "display_data"
    },
    {
     "name": "stderr",
     "output_type": "stream",
     "text": [
      "Collect means:  60%|███████████████████████████▍                  | 269/450 [13:55<09:21,  3.10s/it]"
     ]
    },
    {
     "data": {
      "application/vnd.jupyter.widget-view+json": {
       "model_id": "973675303fdc44cd937fe790997b6a2a",
       "version_major": 2,
       "version_minor": 0
      },
      "text/plain": [
       "  0%|          | 0/20 [00:00<?, ?it/s]"
      ]
     },
     "metadata": {},
     "output_type": "display_data"
    },
    {
     "name": "stderr",
     "output_type": "stream",
     "text": [
      "Collect means:  60%|███████████████████████████▌                  | 270/450 [13:58<09:30,  3.17s/it]"
     ]
    },
    {
     "data": {
      "application/vnd.jupyter.widget-view+json": {
       "model_id": "9158b306cc0c4e418d533aeed223e751",
       "version_major": 2,
       "version_minor": 0
      },
      "text/plain": [
       "  0%|          | 0/20 [00:00<?, ?it/s]"
      ]
     },
     "metadata": {},
     "output_type": "display_data"
    },
    {
     "name": "stderr",
     "output_type": "stream",
     "text": [
      "Collect means:  60%|███████████████████████████▋                  | 271/450 [14:01<09:23,  3.15s/it]"
     ]
    },
    {
     "data": {
      "application/vnd.jupyter.widget-view+json": {
       "model_id": "f605328512454aad9fcbaa1b95e0c9c3",
       "version_major": 2,
       "version_minor": 0
      },
      "text/plain": [
       "  0%|          | 0/20 [00:00<?, ?it/s]"
      ]
     },
     "metadata": {},
     "output_type": "display_data"
    },
    {
     "name": "stderr",
     "output_type": "stream",
     "text": [
      "Collect means:  60%|███████████████████████████▊                  | 272/450 [14:04<09:18,  3.13s/it]"
     ]
    },
    {
     "data": {
      "application/vnd.jupyter.widget-view+json": {
       "model_id": "e5460c398ce245678d40a47af1e01b35",
       "version_major": 2,
       "version_minor": 0
      },
      "text/plain": [
       "  0%|          | 0/20 [00:00<?, ?it/s]"
      ]
     },
     "metadata": {},
     "output_type": "display_data"
    },
    {
     "name": "stderr",
     "output_type": "stream",
     "text": [
      "Collect means:  61%|███████████████████████████▉                  | 273/450 [14:07<09:13,  3.12s/it]"
     ]
    },
    {
     "data": {
      "application/vnd.jupyter.widget-view+json": {
       "model_id": "532e3a8da5a44ec89ea64d72094d0201",
       "version_major": 2,
       "version_minor": 0
      },
      "text/plain": [
       "  0%|          | 0/20 [00:00<?, ?it/s]"
      ]
     },
     "metadata": {},
     "output_type": "display_data"
    },
    {
     "name": "stderr",
     "output_type": "stream",
     "text": [
      "Collect means:  61%|████████████████████████████                  | 274/450 [14:11<09:08,  3.12s/it]"
     ]
    },
    {
     "data": {
      "application/vnd.jupyter.widget-view+json": {
       "model_id": "4807a0f1468648708c38fb451d81381a",
       "version_major": 2,
       "version_minor": 0
      },
      "text/plain": [
       "  0%|          | 0/20 [00:00<?, ?it/s]"
      ]
     },
     "metadata": {},
     "output_type": "display_data"
    },
    {
     "name": "stderr",
     "output_type": "stream",
     "text": [
      "Collect means:  61%|████████████████████████████                  | 275/450 [14:14<09:04,  3.11s/it]"
     ]
    },
    {
     "data": {
      "application/vnd.jupyter.widget-view+json": {
       "model_id": "4eb634566e1643e2a7505e5b94b48292",
       "version_major": 2,
       "version_minor": 0
      },
      "text/plain": [
       "  0%|          | 0/20 [00:00<?, ?it/s]"
      ]
     },
     "metadata": {},
     "output_type": "display_data"
    },
    {
     "name": "stderr",
     "output_type": "stream",
     "text": [
      "Collect means:  61%|████████████████████████████▏                 | 276/450 [14:17<09:01,  3.11s/it]"
     ]
    },
    {
     "data": {
      "application/vnd.jupyter.widget-view+json": {
       "model_id": "743a43f47ee54454aff607b81ccba20d",
       "version_major": 2,
       "version_minor": 0
      },
      "text/plain": [
       "  0%|          | 0/20 [00:00<?, ?it/s]"
      ]
     },
     "metadata": {},
     "output_type": "display_data"
    },
    {
     "name": "stderr",
     "output_type": "stream",
     "text": [
      "Collect means:  62%|████████████████████████████▎                 | 277/450 [14:20<08:57,  3.11s/it]"
     ]
    },
    {
     "data": {
      "application/vnd.jupyter.widget-view+json": {
       "model_id": "d6de5b2e766a48e0bb9c45d004986ff7",
       "version_major": 2,
       "version_minor": 0
      },
      "text/plain": [
       "  0%|          | 0/20 [00:00<?, ?it/s]"
      ]
     },
     "metadata": {},
     "output_type": "display_data"
    },
    {
     "name": "stderr",
     "output_type": "stream",
     "text": [
      "Collect means:  62%|████████████████████████████▍                 | 278/450 [14:23<08:54,  3.11s/it]"
     ]
    },
    {
     "data": {
      "application/vnd.jupyter.widget-view+json": {
       "model_id": "868ad0be3cf1480fa4a8c068fb97f32b",
       "version_major": 2,
       "version_minor": 0
      },
      "text/plain": [
       "  0%|          | 0/20 [00:00<?, ?it/s]"
      ]
     },
     "metadata": {},
     "output_type": "display_data"
    },
    {
     "name": "stderr",
     "output_type": "stream",
     "text": [
      "Collect means:  62%|████████████████████████████▌                 | 279/450 [14:26<08:50,  3.11s/it]"
     ]
    },
    {
     "data": {
      "application/vnd.jupyter.widget-view+json": {
       "model_id": "ad7705b6a2a047be89d5ab4ea7006b49",
       "version_major": 2,
       "version_minor": 0
      },
      "text/plain": [
       "  0%|          | 0/20 [00:00<?, ?it/s]"
      ]
     },
     "metadata": {},
     "output_type": "display_data"
    },
    {
     "name": "stderr",
     "output_type": "stream",
     "text": [
      "Collect means:  62%|████████████████████████████▌                 | 280/450 [14:29<08:47,  3.11s/it]"
     ]
    },
    {
     "data": {
      "application/vnd.jupyter.widget-view+json": {
       "model_id": "c965b284c2114bf393343c72484f9133",
       "version_major": 2,
       "version_minor": 0
      },
      "text/plain": [
       "  0%|          | 0/20 [00:00<?, ?it/s]"
      ]
     },
     "metadata": {},
     "output_type": "display_data"
    },
    {
     "name": "stderr",
     "output_type": "stream",
     "text": [
      "Collect means:  62%|████████████████████████████▋                 | 281/450 [14:32<08:44,  3.11s/it]"
     ]
    },
    {
     "data": {
      "application/vnd.jupyter.widget-view+json": {
       "model_id": "bd495d464bc9453d8101eeea43e8af49",
       "version_major": 2,
       "version_minor": 0
      },
      "text/plain": [
       "  0%|          | 0/20 [00:00<?, ?it/s]"
      ]
     },
     "metadata": {},
     "output_type": "display_data"
    },
    {
     "name": "stderr",
     "output_type": "stream",
     "text": [
      "Collect means:  63%|████████████████████████████▊                 | 282/450 [14:35<08:41,  3.10s/it]"
     ]
    },
    {
     "data": {
      "application/vnd.jupyter.widget-view+json": {
       "model_id": "9a9f599e0f884aa2bae597dc02889307",
       "version_major": 2,
       "version_minor": 0
      },
      "text/plain": [
       "  0%|          | 0/20 [00:00<?, ?it/s]"
      ]
     },
     "metadata": {},
     "output_type": "display_data"
    },
    {
     "name": "stderr",
     "output_type": "stream",
     "text": [
      "Collect means:  63%|████████████████████████████▉                 | 283/450 [14:38<08:38,  3.10s/it]"
     ]
    },
    {
     "data": {
      "application/vnd.jupyter.widget-view+json": {
       "model_id": "2bc5fefa528c4487ac0fdb5ce9deb10b",
       "version_major": 2,
       "version_minor": 0
      },
      "text/plain": [
       "  0%|          | 0/20 [00:00<?, ?it/s]"
      ]
     },
     "metadata": {},
     "output_type": "display_data"
    },
    {
     "name": "stderr",
     "output_type": "stream",
     "text": [
      "Collect means:  63%|█████████████████████████████                 | 284/450 [14:42<08:35,  3.10s/it]"
     ]
    },
    {
     "data": {
      "application/vnd.jupyter.widget-view+json": {
       "model_id": "54d2a5a2102d4052a86587dc9de61a95",
       "version_major": 2,
       "version_minor": 0
      },
      "text/plain": [
       "  0%|          | 0/20 [00:00<?, ?it/s]"
      ]
     },
     "metadata": {},
     "output_type": "display_data"
    },
    {
     "name": "stderr",
     "output_type": "stream",
     "text": [
      "Collect means:  63%|█████████████████████████████▏                | 285/450 [14:45<08:31,  3.10s/it]"
     ]
    },
    {
     "data": {
      "application/vnd.jupyter.widget-view+json": {
       "model_id": "18ef40db9eb7485f9d771cde8e5a222b",
       "version_major": 2,
       "version_minor": 0
      },
      "text/plain": [
       "  0%|          | 0/20 [00:00<?, ?it/s]"
      ]
     },
     "metadata": {},
     "output_type": "display_data"
    },
    {
     "name": "stderr",
     "output_type": "stream",
     "text": [
      "Collect means:  64%|█████████████████████████████▏                | 286/450 [14:48<08:28,  3.10s/it]"
     ]
    },
    {
     "data": {
      "application/vnd.jupyter.widget-view+json": {
       "model_id": "703227b366fd489590a6afb431e894f9",
       "version_major": 2,
       "version_minor": 0
      },
      "text/plain": [
       "  0%|          | 0/20 [00:00<?, ?it/s]"
      ]
     },
     "metadata": {},
     "output_type": "display_data"
    },
    {
     "name": "stderr",
     "output_type": "stream",
     "text": [
      "Collect means:  64%|█████████████████████████████▎                | 287/450 [14:51<08:25,  3.10s/it]"
     ]
    },
    {
     "data": {
      "application/vnd.jupyter.widget-view+json": {
       "model_id": "614970b223684ac68fef614fa911072b",
       "version_major": 2,
       "version_minor": 0
      },
      "text/plain": [
       "  0%|          | 0/20 [00:00<?, ?it/s]"
      ]
     },
     "metadata": {},
     "output_type": "display_data"
    },
    {
     "name": "stderr",
     "output_type": "stream",
     "text": [
      "Collect means:  64%|█████████████████████████████▍                | 288/450 [14:54<08:22,  3.10s/it]"
     ]
    },
    {
     "data": {
      "application/vnd.jupyter.widget-view+json": {
       "model_id": "a1519b2a799349de8de479da11681aea",
       "version_major": 2,
       "version_minor": 0
      },
      "text/plain": [
       "  0%|          | 0/20 [00:00<?, ?it/s]"
      ]
     },
     "metadata": {},
     "output_type": "display_data"
    },
    {
     "name": "stderr",
     "output_type": "stream",
     "text": [
      "Collect means:  64%|█████████████████████████████▌                | 289/450 [14:57<08:19,  3.10s/it]"
     ]
    },
    {
     "data": {
      "application/vnd.jupyter.widget-view+json": {
       "model_id": "72299404773446b1b1aefcec6c43a6c2",
       "version_major": 2,
       "version_minor": 0
      },
      "text/plain": [
       "  0%|          | 0/20 [00:00<?, ?it/s]"
      ]
     },
     "metadata": {},
     "output_type": "display_data"
    },
    {
     "name": "stderr",
     "output_type": "stream",
     "text": [
      "Collect means:  64%|█████████████████████████████▋                | 290/450 [15:00<08:16,  3.10s/it]"
     ]
    },
    {
     "data": {
      "application/vnd.jupyter.widget-view+json": {
       "model_id": "fb86474e6c144d5ba5cef64e0fb47840",
       "version_major": 2,
       "version_minor": 0
      },
      "text/plain": [
       "  0%|          | 0/20 [00:00<?, ?it/s]"
      ]
     },
     "metadata": {},
     "output_type": "display_data"
    },
    {
     "name": "stderr",
     "output_type": "stream",
     "text": [
      "Collect means:  65%|█████████████████████████████▋                | 291/450 [15:03<08:13,  3.10s/it]"
     ]
    },
    {
     "data": {
      "application/vnd.jupyter.widget-view+json": {
       "model_id": "31b2d7137ced4f13ab191cffae7de528",
       "version_major": 2,
       "version_minor": 0
      },
      "text/plain": [
       "  0%|          | 0/20 [00:00<?, ?it/s]"
      ]
     },
     "metadata": {},
     "output_type": "display_data"
    },
    {
     "name": "stderr",
     "output_type": "stream",
     "text": [
      "Collect means:  65%|█████████████████████████████▊                | 292/450 [15:06<08:10,  3.10s/it]"
     ]
    },
    {
     "data": {
      "application/vnd.jupyter.widget-view+json": {
       "model_id": "5318536d337a48cb99267eb51f1651f1",
       "version_major": 2,
       "version_minor": 0
      },
      "text/plain": [
       "  0%|          | 0/20 [00:00<?, ?it/s]"
      ]
     },
     "metadata": {},
     "output_type": "display_data"
    },
    {
     "name": "stderr",
     "output_type": "stream",
     "text": [
      "Collect means:  65%|█████████████████████████████▉                | 293/450 [15:09<08:07,  3.10s/it]"
     ]
    },
    {
     "data": {
      "application/vnd.jupyter.widget-view+json": {
       "model_id": "8a72ae7b682e4179a65538254722603b",
       "version_major": 2,
       "version_minor": 0
      },
      "text/plain": [
       "  0%|          | 0/20 [00:00<?, ?it/s]"
      ]
     },
     "metadata": {},
     "output_type": "display_data"
    },
    {
     "name": "stderr",
     "output_type": "stream",
     "text": [
      "Collect means:  65%|██████████████████████████████                | 294/450 [15:13<08:04,  3.10s/it]"
     ]
    },
    {
     "data": {
      "application/vnd.jupyter.widget-view+json": {
       "model_id": "b9599b23f5c9451a8c07dabdff5ac7c3",
       "version_major": 2,
       "version_minor": 0
      },
      "text/plain": [
       "  0%|          | 0/20 [00:00<?, ?it/s]"
      ]
     },
     "metadata": {},
     "output_type": "display_data"
    },
    {
     "name": "stderr",
     "output_type": "stream",
     "text": [
      "Collect means:  66%|██████████████████████████████▏               | 295/450 [15:16<08:01,  3.10s/it]"
     ]
    },
    {
     "data": {
      "application/vnd.jupyter.widget-view+json": {
       "model_id": "65b3de83fac1414c9b67fe84cc37cb6e",
       "version_major": 2,
       "version_minor": 0
      },
      "text/plain": [
       "  0%|          | 0/20 [00:00<?, ?it/s]"
      ]
     },
     "metadata": {},
     "output_type": "display_data"
    },
    {
     "name": "stderr",
     "output_type": "stream",
     "text": [
      "Collect means:  66%|██████████████████████████████▎               | 296/450 [15:19<07:57,  3.10s/it]"
     ]
    },
    {
     "data": {
      "application/vnd.jupyter.widget-view+json": {
       "model_id": "8c881cb2de3144fc9774e648641f7e71",
       "version_major": 2,
       "version_minor": 0
      },
      "text/plain": [
       "  0%|          | 0/20 [00:00<?, ?it/s]"
      ]
     },
     "metadata": {},
     "output_type": "display_data"
    },
    {
     "name": "stderr",
     "output_type": "stream",
     "text": [
      "Collect means:  66%|██████████████████████████████▎               | 297/450 [15:22<07:54,  3.10s/it]"
     ]
    },
    {
     "data": {
      "application/vnd.jupyter.widget-view+json": {
       "model_id": "b70dd092d4f74637835e7e47fddfa86e",
       "version_major": 2,
       "version_minor": 0
      },
      "text/plain": [
       "  0%|          | 0/20 [00:00<?, ?it/s]"
      ]
     },
     "metadata": {},
     "output_type": "display_data"
    },
    {
     "name": "stderr",
     "output_type": "stream",
     "text": [
      "Collect means:  66%|██████████████████████████████▍               | 298/450 [15:25<07:51,  3.10s/it]"
     ]
    },
    {
     "data": {
      "application/vnd.jupyter.widget-view+json": {
       "model_id": "8728ad699a3a41c781394e8ebdb31e85",
       "version_major": 2,
       "version_minor": 0
      },
      "text/plain": [
       "  0%|          | 0/20 [00:00<?, ?it/s]"
      ]
     },
     "metadata": {},
     "output_type": "display_data"
    },
    {
     "name": "stderr",
     "output_type": "stream",
     "text": [
      "Collect means:  66%|██████████████████████████████▌               | 299/450 [15:28<07:49,  3.11s/it]"
     ]
    },
    {
     "data": {
      "application/vnd.jupyter.widget-view+json": {
       "model_id": "7ed7868473f247f081b57dca8633da8e",
       "version_major": 2,
       "version_minor": 0
      },
      "text/plain": [
       "  0%|          | 0/20 [00:00<?, ?it/s]"
      ]
     },
     "metadata": {},
     "output_type": "display_data"
    },
    {
     "name": "stderr",
     "output_type": "stream",
     "text": [
      "Collect means:  67%|██████████████████████████████▋               | 300/450 [15:31<07:45,  3.11s/it]"
     ]
    },
    {
     "data": {
      "application/vnd.jupyter.widget-view+json": {
       "model_id": "6dc1e0e033374105951c1fc778a90693",
       "version_major": 2,
       "version_minor": 0
      },
      "text/plain": [
       "  0%|          | 0/20 [00:00<?, ?it/s]"
      ]
     },
     "metadata": {},
     "output_type": "display_data"
    },
    {
     "name": "stderr",
     "output_type": "stream",
     "text": [
      "Collect means:  67%|██████████████████████████████▊               | 301/450 [15:34<07:42,  3.10s/it]"
     ]
    },
    {
     "data": {
      "application/vnd.jupyter.widget-view+json": {
       "model_id": "d0a5b610f9d04e62892f8d01d94b746d",
       "version_major": 2,
       "version_minor": 0
      },
      "text/plain": [
       "  0%|          | 0/20 [00:00<?, ?it/s]"
      ]
     },
     "metadata": {},
     "output_type": "display_data"
    },
    {
     "name": "stderr",
     "output_type": "stream",
     "text": [
      "Collect means:  67%|██████████████████████████████▊               | 302/450 [15:37<07:39,  3.10s/it]"
     ]
    },
    {
     "data": {
      "application/vnd.jupyter.widget-view+json": {
       "model_id": "33120f265bd0454790c95da641373e88",
       "version_major": 2,
       "version_minor": 0
      },
      "text/plain": [
       "  0%|          | 0/20 [00:00<?, ?it/s]"
      ]
     },
     "metadata": {},
     "output_type": "display_data"
    },
    {
     "name": "stderr",
     "output_type": "stream",
     "text": [
      "Collect means:  67%|██████████████████████████████▉               | 303/450 [15:41<07:36,  3.10s/it]"
     ]
    },
    {
     "data": {
      "application/vnd.jupyter.widget-view+json": {
       "model_id": "85efc8ab1d964d9ebce83770db73720c",
       "version_major": 2,
       "version_minor": 0
      },
      "text/plain": [
       "  0%|          | 0/20 [00:00<?, ?it/s]"
      ]
     },
     "metadata": {},
     "output_type": "display_data"
    },
    {
     "name": "stderr",
     "output_type": "stream",
     "text": [
      "Collect means:  68%|███████████████████████████████               | 304/450 [15:44<07:33,  3.10s/it]"
     ]
    },
    {
     "data": {
      "application/vnd.jupyter.widget-view+json": {
       "model_id": "5a2e3cf75d884d9d9159902d472e2441",
       "version_major": 2,
       "version_minor": 0
      },
      "text/plain": [
       "  0%|          | 0/20 [00:00<?, ?it/s]"
      ]
     },
     "metadata": {},
     "output_type": "display_data"
    },
    {
     "name": "stderr",
     "output_type": "stream",
     "text": [
      "Collect means:  68%|███████████████████████████████▏              | 305/450 [15:47<07:30,  3.10s/it]"
     ]
    },
    {
     "data": {
      "application/vnd.jupyter.widget-view+json": {
       "model_id": "c81351f8b5fc4033bb5c82b0b7f5c5e5",
       "version_major": 2,
       "version_minor": 0
      },
      "text/plain": [
       "  0%|          | 0/20 [00:00<?, ?it/s]"
      ]
     },
     "metadata": {},
     "output_type": "display_data"
    },
    {
     "name": "stderr",
     "output_type": "stream",
     "text": [
      "Collect means:  68%|███████████████████████████████▎              | 306/450 [15:50<07:26,  3.10s/it]"
     ]
    },
    {
     "data": {
      "application/vnd.jupyter.widget-view+json": {
       "model_id": "a345fb23c02246988d53d3822c0ff5d1",
       "version_major": 2,
       "version_minor": 0
      },
      "text/plain": [
       "  0%|          | 0/20 [00:00<?, ?it/s]"
      ]
     },
     "metadata": {},
     "output_type": "display_data"
    },
    {
     "name": "stderr",
     "output_type": "stream",
     "text": [
      "Collect means:  68%|███████████████████████████████▍              | 307/450 [15:53<07:23,  3.10s/it]"
     ]
    },
    {
     "data": {
      "application/vnd.jupyter.widget-view+json": {
       "model_id": "0fc868311eca445d8b7cd438fe09b96c",
       "version_major": 2,
       "version_minor": 0
      },
      "text/plain": [
       "  0%|          | 0/20 [00:00<?, ?it/s]"
      ]
     },
     "metadata": {},
     "output_type": "display_data"
    },
    {
     "name": "stderr",
     "output_type": "stream",
     "text": [
      "Collect means:  68%|███████████████████████████████▍              | 308/450 [15:56<07:20,  3.10s/it]"
     ]
    },
    {
     "data": {
      "application/vnd.jupyter.widget-view+json": {
       "model_id": "6b002cd6187a42fb8910f82eedcf2978",
       "version_major": 2,
       "version_minor": 0
      },
      "text/plain": [
       "  0%|          | 0/20 [00:00<?, ?it/s]"
      ]
     },
     "metadata": {},
     "output_type": "display_data"
    },
    {
     "name": "stderr",
     "output_type": "stream",
     "text": [
      "Collect means:  69%|███████████████████████████████▌              | 309/450 [15:59<07:17,  3.10s/it]"
     ]
    },
    {
     "data": {
      "application/vnd.jupyter.widget-view+json": {
       "model_id": "65ea76bbcb4b4a7eb4f6a6320b4eda57",
       "version_major": 2,
       "version_minor": 0
      },
      "text/plain": [
       "  0%|          | 0/20 [00:00<?, ?it/s]"
      ]
     },
     "metadata": {},
     "output_type": "display_data"
    },
    {
     "name": "stderr",
     "output_type": "stream",
     "text": [
      "Collect means:  69%|███████████████████████████████▋              | 310/450 [16:02<07:14,  3.10s/it]"
     ]
    },
    {
     "data": {
      "application/vnd.jupyter.widget-view+json": {
       "model_id": "c88a3a23e2bc46228cebf90b16db3881",
       "version_major": 2,
       "version_minor": 0
      },
      "text/plain": [
       "  0%|          | 0/20 [00:00<?, ?it/s]"
      ]
     },
     "metadata": {},
     "output_type": "display_data"
    },
    {
     "name": "stderr",
     "output_type": "stream",
     "text": [
      "Collect means:  69%|███████████████████████████████▊              | 311/450 [16:05<07:11,  3.10s/it]"
     ]
    },
    {
     "data": {
      "application/vnd.jupyter.widget-view+json": {
       "model_id": "9f0fdd43482846219777257a893653ba",
       "version_major": 2,
       "version_minor": 0
      },
      "text/plain": [
       "  0%|          | 0/20 [00:00<?, ?it/s]"
      ]
     },
     "metadata": {},
     "output_type": "display_data"
    },
    {
     "name": "stderr",
     "output_type": "stream",
     "text": [
      "Collect means:  69%|███████████████████████████████▉              | 312/450 [16:08<07:08,  3.10s/it]"
     ]
    },
    {
     "data": {
      "application/vnd.jupyter.widget-view+json": {
       "model_id": "f6afa1cfb22a4f74900a70ee9fc5a831",
       "version_major": 2,
       "version_minor": 0
      },
      "text/plain": [
       "  0%|          | 0/20 [00:00<?, ?it/s]"
      ]
     },
     "metadata": {},
     "output_type": "display_data"
    },
    {
     "name": "stderr",
     "output_type": "stream",
     "text": [
      "Collect means:  70%|███████████████████████████████▉              | 313/450 [16:12<07:04,  3.10s/it]"
     ]
    },
    {
     "data": {
      "application/vnd.jupyter.widget-view+json": {
       "model_id": "f80eb73e5545493f9c0996050ab24fad",
       "version_major": 2,
       "version_minor": 0
      },
      "text/plain": [
       "  0%|          | 0/20 [00:00<?, ?it/s]"
      ]
     },
     "metadata": {},
     "output_type": "display_data"
    },
    {
     "name": "stderr",
     "output_type": "stream",
     "text": [
      "Collect means:  70%|████████████████████████████████              | 314/450 [16:15<07:01,  3.10s/it]"
     ]
    },
    {
     "data": {
      "application/vnd.jupyter.widget-view+json": {
       "model_id": "b509a3089e6f4f408c40119b00353964",
       "version_major": 2,
       "version_minor": 0
      },
      "text/plain": [
       "  0%|          | 0/20 [00:00<?, ?it/s]"
      ]
     },
     "metadata": {},
     "output_type": "display_data"
    },
    {
     "name": "stderr",
     "output_type": "stream",
     "text": [
      "Collect means:  70%|████████████████████████████████▏             | 315/450 [16:18<06:59,  3.10s/it]"
     ]
    },
    {
     "data": {
      "application/vnd.jupyter.widget-view+json": {
       "model_id": "0850ff29708641beab6b09d7fd3c5bff",
       "version_major": 2,
       "version_minor": 0
      },
      "text/plain": [
       "  0%|          | 0/20 [00:00<?, ?it/s]"
      ]
     },
     "metadata": {},
     "output_type": "display_data"
    },
    {
     "name": "stderr",
     "output_type": "stream",
     "text": [
      "Collect means:  70%|████████████████████████████████▎             | 316/450 [16:21<06:55,  3.10s/it]"
     ]
    },
    {
     "data": {
      "application/vnd.jupyter.widget-view+json": {
       "model_id": "00a6288c78f040f58e9ee77a40b3a8ad",
       "version_major": 2,
       "version_minor": 0
      },
      "text/plain": [
       "  0%|          | 0/20 [00:00<?, ?it/s]"
      ]
     },
     "metadata": {},
     "output_type": "display_data"
    },
    {
     "name": "stderr",
     "output_type": "stream",
     "text": [
      "Collect means:  70%|████████████████████████████████▍             | 317/450 [16:24<06:52,  3.10s/it]"
     ]
    },
    {
     "data": {
      "application/vnd.jupyter.widget-view+json": {
       "model_id": "bd3276c603604fdebeaaf3b8edcbe20d",
       "version_major": 2,
       "version_minor": 0
      },
      "text/plain": [
       "  0%|          | 0/20 [00:00<?, ?it/s]"
      ]
     },
     "metadata": {},
     "output_type": "display_data"
    },
    {
     "name": "stderr",
     "output_type": "stream",
     "text": [
      "Collect means:  71%|████████████████████████████████▌             | 318/450 [16:27<06:49,  3.10s/it]"
     ]
    },
    {
     "data": {
      "application/vnd.jupyter.widget-view+json": {
       "model_id": "e4b66bffb94f43719bba8c9480f587d0",
       "version_major": 2,
       "version_minor": 0
      },
      "text/plain": [
       "  0%|          | 0/20 [00:00<?, ?it/s]"
      ]
     },
     "metadata": {},
     "output_type": "display_data"
    },
    {
     "name": "stderr",
     "output_type": "stream",
     "text": [
      "Collect means:  71%|████████████████████████████████▌             | 319/450 [16:30<06:46,  3.10s/it]"
     ]
    },
    {
     "data": {
      "application/vnd.jupyter.widget-view+json": {
       "model_id": "23297a2b0cec4d9581ab477cf6c12945",
       "version_major": 2,
       "version_minor": 0
      },
      "text/plain": [
       "  0%|          | 0/20 [00:00<?, ?it/s]"
      ]
     },
     "metadata": {},
     "output_type": "display_data"
    },
    {
     "name": "stderr",
     "output_type": "stream",
     "text": [
      "Collect means:  71%|████████████████████████████████▋             | 320/450 [16:33<06:43,  3.10s/it]"
     ]
    },
    {
     "data": {
      "application/vnd.jupyter.widget-view+json": {
       "model_id": "e2f8ed58d3d54afca7aef2425d3f88ed",
       "version_major": 2,
       "version_minor": 0
      },
      "text/plain": [
       "  0%|          | 0/20 [00:00<?, ?it/s]"
      ]
     },
     "metadata": {},
     "output_type": "display_data"
    },
    {
     "name": "stderr",
     "output_type": "stream",
     "text": [
      "Collect means:  71%|████████████████████████████████▊             | 321/450 [16:36<06:40,  3.10s/it]"
     ]
    },
    {
     "data": {
      "application/vnd.jupyter.widget-view+json": {
       "model_id": "5e444ee1945540f3bbc4361e7b2326dc",
       "version_major": 2,
       "version_minor": 0
      },
      "text/plain": [
       "  0%|          | 0/20 [00:00<?, ?it/s]"
      ]
     },
     "metadata": {},
     "output_type": "display_data"
    },
    {
     "name": "stderr",
     "output_type": "stream",
     "text": [
      "Collect means:  72%|████████████████████████████████▉             | 322/450 [16:39<06:37,  3.10s/it]"
     ]
    },
    {
     "data": {
      "application/vnd.jupyter.widget-view+json": {
       "model_id": "1e894e2c397f4477b177228cff6f4f83",
       "version_major": 2,
       "version_minor": 0
      },
      "text/plain": [
       "  0%|          | 0/20 [00:00<?, ?it/s]"
      ]
     },
     "metadata": {},
     "output_type": "display_data"
    },
    {
     "name": "stderr",
     "output_type": "stream",
     "text": [
      "Collect means:  72%|█████████████████████████████████             | 323/450 [16:43<06:34,  3.10s/it]"
     ]
    },
    {
     "data": {
      "application/vnd.jupyter.widget-view+json": {
       "model_id": "b6328fe3468545a6b4179a5f6fbaea22",
       "version_major": 2,
       "version_minor": 0
      },
      "text/plain": [
       "  0%|          | 0/20 [00:00<?, ?it/s]"
      ]
     },
     "metadata": {},
     "output_type": "display_data"
    },
    {
     "name": "stderr",
     "output_type": "stream",
     "text": [
      "Collect means:  72%|█████████████████████████████████             | 324/450 [16:46<06:31,  3.10s/it]"
     ]
    },
    {
     "data": {
      "application/vnd.jupyter.widget-view+json": {
       "model_id": "9c1db8a9590345cca5c1a53745d826d8",
       "version_major": 2,
       "version_minor": 0
      },
      "text/plain": [
       "  0%|          | 0/20 [00:00<?, ?it/s]"
      ]
     },
     "metadata": {},
     "output_type": "display_data"
    },
    {
     "name": "stderr",
     "output_type": "stream",
     "text": [
      "Collect means:  72%|█████████████████████████████████▏            | 325/450 [16:49<06:28,  3.10s/it]"
     ]
    },
    {
     "data": {
      "application/vnd.jupyter.widget-view+json": {
       "model_id": "9828c058dfab471ba259dcc87117d87b",
       "version_major": 2,
       "version_minor": 0
      },
      "text/plain": [
       "  0%|          | 0/20 [00:00<?, ?it/s]"
      ]
     },
     "metadata": {},
     "output_type": "display_data"
    },
    {
     "name": "stderr",
     "output_type": "stream",
     "text": [
      "Collect means:  72%|█████████████████████████████████▎            | 326/450 [16:52<06:24,  3.10s/it]"
     ]
    },
    {
     "data": {
      "application/vnd.jupyter.widget-view+json": {
       "model_id": "89dda98ee94d4cc2bf662520b451cbd9",
       "version_major": 2,
       "version_minor": 0
      },
      "text/plain": [
       "  0%|          | 0/20 [00:00<?, ?it/s]"
      ]
     },
     "metadata": {},
     "output_type": "display_data"
    },
    {
     "name": "stderr",
     "output_type": "stream",
     "text": [
      "Collect means:  73%|█████████████████████████████████▍            | 327/450 [16:55<06:21,  3.10s/it]"
     ]
    },
    {
     "data": {
      "application/vnd.jupyter.widget-view+json": {
       "model_id": "06599a5bd0b54ac5b434621ddd68817f",
       "version_major": 2,
       "version_minor": 0
      },
      "text/plain": [
       "  0%|          | 0/20 [00:00<?, ?it/s]"
      ]
     },
     "metadata": {},
     "output_type": "display_data"
    },
    {
     "name": "stderr",
     "output_type": "stream",
     "text": [
      "Collect means:  73%|█████████████████████████████████▌            | 328/450 [16:58<06:18,  3.10s/it]"
     ]
    },
    {
     "data": {
      "application/vnd.jupyter.widget-view+json": {
       "model_id": "01daf31e10564db0a1d9671807134543",
       "version_major": 2,
       "version_minor": 0
      },
      "text/plain": [
       "  0%|          | 0/20 [00:00<?, ?it/s]"
      ]
     },
     "metadata": {},
     "output_type": "display_data"
    },
    {
     "name": "stderr",
     "output_type": "stream",
     "text": [
      "Collect means:  73%|█████████████████████████████████▋            | 329/450 [17:01<06:15,  3.10s/it]"
     ]
    },
    {
     "data": {
      "application/vnd.jupyter.widget-view+json": {
       "model_id": "de21bb77d1dc45b1a8b27987bae2c80c",
       "version_major": 2,
       "version_minor": 0
      },
      "text/plain": [
       "  0%|          | 0/20 [00:00<?, ?it/s]"
      ]
     },
     "metadata": {},
     "output_type": "display_data"
    },
    {
     "name": "stderr",
     "output_type": "stream",
     "text": [
      "Collect means:  73%|█████████████████████████████████▋            | 330/450 [17:04<06:12,  3.10s/it]"
     ]
    },
    {
     "data": {
      "application/vnd.jupyter.widget-view+json": {
       "model_id": "f63433d17d6b481793eb48665eeb0a58",
       "version_major": 2,
       "version_minor": 0
      },
      "text/plain": [
       "  0%|          | 0/20 [00:00<?, ?it/s]"
      ]
     },
     "metadata": {},
     "output_type": "display_data"
    },
    {
     "name": "stderr",
     "output_type": "stream",
     "text": [
      "Collect means:  74%|█████████████████████████████████▊            | 331/450 [17:07<06:09,  3.10s/it]"
     ]
    },
    {
     "data": {
      "application/vnd.jupyter.widget-view+json": {
       "model_id": "87badf518d4c45f0a3a665612a685011",
       "version_major": 2,
       "version_minor": 0
      },
      "text/plain": [
       "  0%|          | 0/20 [00:00<?, ?it/s]"
      ]
     },
     "metadata": {},
     "output_type": "display_data"
    },
    {
     "name": "stderr",
     "output_type": "stream",
     "text": [
      "Collect means:  74%|█████████████████████████████████▉            | 332/450 [17:11<06:06,  3.10s/it]"
     ]
    },
    {
     "data": {
      "application/vnd.jupyter.widget-view+json": {
       "model_id": "8585100515c540b39bbb13f71bc8c4f6",
       "version_major": 2,
       "version_minor": 0
      },
      "text/plain": [
       "  0%|          | 0/20 [00:00<?, ?it/s]"
      ]
     },
     "metadata": {},
     "output_type": "display_data"
    },
    {
     "name": "stderr",
     "output_type": "stream",
     "text": [
      "Collect means:  74%|██████████████████████████████████            | 333/450 [17:14<06:03,  3.10s/it]"
     ]
    },
    {
     "data": {
      "application/vnd.jupyter.widget-view+json": {
       "model_id": "8b8b1effe7fb4a769a5533e08e18c7c4",
       "version_major": 2,
       "version_minor": 0
      },
      "text/plain": [
       "  0%|          | 0/20 [00:00<?, ?it/s]"
      ]
     },
     "metadata": {},
     "output_type": "display_data"
    },
    {
     "name": "stderr",
     "output_type": "stream",
     "text": [
      "Collect means:  74%|██████████████████████████████████▏           | 334/450 [17:17<05:59,  3.10s/it]"
     ]
    },
    {
     "data": {
      "application/vnd.jupyter.widget-view+json": {
       "model_id": "4f3708f398084d1baa30506e49938289",
       "version_major": 2,
       "version_minor": 0
      },
      "text/plain": [
       "  0%|          | 0/20 [00:00<?, ?it/s]"
      ]
     },
     "metadata": {},
     "output_type": "display_data"
    },
    {
     "name": "stderr",
     "output_type": "stream",
     "text": [
      "Collect means:  74%|██████████████████████████████████▏           | 335/450 [17:20<05:56,  3.10s/it]"
     ]
    },
    {
     "data": {
      "application/vnd.jupyter.widget-view+json": {
       "model_id": "cf8f0bd9e96240e08b3802656927209b",
       "version_major": 2,
       "version_minor": 0
      },
      "text/plain": [
       "  0%|          | 0/20 [00:00<?, ?it/s]"
      ]
     },
     "metadata": {},
     "output_type": "display_data"
    },
    {
     "name": "stderr",
     "output_type": "stream",
     "text": [
      "Collect means:  75%|██████████████████████████████████▎           | 336/450 [17:23<05:53,  3.10s/it]"
     ]
    },
    {
     "data": {
      "application/vnd.jupyter.widget-view+json": {
       "model_id": "7f3b34f0e0394e6d879c7be9ac5e7fde",
       "version_major": 2,
       "version_minor": 0
      },
      "text/plain": [
       "  0%|          | 0/20 [00:00<?, ?it/s]"
      ]
     },
     "metadata": {},
     "output_type": "display_data"
    },
    {
     "name": "stderr",
     "output_type": "stream",
     "text": [
      "Collect means:  75%|██████████████████████████████████▍           | 337/450 [17:26<05:50,  3.10s/it]"
     ]
    },
    {
     "data": {
      "application/vnd.jupyter.widget-view+json": {
       "model_id": "c7b7f3ef80054cc785796eee0283c8a1",
       "version_major": 2,
       "version_minor": 0
      },
      "text/plain": [
       "  0%|          | 0/20 [00:00<?, ?it/s]"
      ]
     },
     "metadata": {},
     "output_type": "display_data"
    },
    {
     "name": "stderr",
     "output_type": "stream",
     "text": [
      "Collect means:  75%|██████████████████████████████████▌           | 338/450 [17:29<05:47,  3.10s/it]"
     ]
    },
    {
     "data": {
      "application/vnd.jupyter.widget-view+json": {
       "model_id": "714561565a1b4bac8a60c2d6da3025e3",
       "version_major": 2,
       "version_minor": 0
      },
      "text/plain": [
       "  0%|          | 0/20 [00:00<?, ?it/s]"
      ]
     },
     "metadata": {},
     "output_type": "display_data"
    },
    {
     "name": "stderr",
     "output_type": "stream",
     "text": [
      "Collect means:  75%|██████████████████████████████████▋           | 339/450 [17:32<05:44,  3.10s/it]"
     ]
    },
    {
     "data": {
      "application/vnd.jupyter.widget-view+json": {
       "model_id": "c233f389322446049dcef1d6e73a9d0f",
       "version_major": 2,
       "version_minor": 0
      },
      "text/plain": [
       "  0%|          | 0/20 [00:00<?, ?it/s]"
      ]
     },
     "metadata": {},
     "output_type": "display_data"
    },
    {
     "name": "stderr",
     "output_type": "stream",
     "text": [
      "Collect means:  76%|██████████████████████████████████▊           | 340/450 [17:35<05:41,  3.10s/it]"
     ]
    },
    {
     "data": {
      "application/vnd.jupyter.widget-view+json": {
       "model_id": "5ac59132f8094b779dd70dc6958f5c18",
       "version_major": 2,
       "version_minor": 0
      },
      "text/plain": [
       "  0%|          | 0/20 [00:00<?, ?it/s]"
      ]
     },
     "metadata": {},
     "output_type": "display_data"
    },
    {
     "name": "stderr",
     "output_type": "stream",
     "text": [
      "Collect means:  76%|██████████████████████████████████▊           | 341/450 [17:38<05:38,  3.11s/it]"
     ]
    },
    {
     "data": {
      "application/vnd.jupyter.widget-view+json": {
       "model_id": "80deccbf80e64576b31790cfbe9d750c",
       "version_major": 2,
       "version_minor": 0
      },
      "text/plain": [
       "  0%|          | 0/20 [00:00<?, ?it/s]"
      ]
     },
     "metadata": {},
     "output_type": "display_data"
    },
    {
     "name": "stderr",
     "output_type": "stream",
     "text": [
      "Collect means:  76%|██████████████████████████████████▉           | 342/450 [17:42<05:35,  3.10s/it]"
     ]
    },
    {
     "data": {
      "application/vnd.jupyter.widget-view+json": {
       "model_id": "7d30264e45ca41ad97f777e8779b4497",
       "version_major": 2,
       "version_minor": 0
      },
      "text/plain": [
       "  0%|          | 0/20 [00:00<?, ?it/s]"
      ]
     },
     "metadata": {},
     "output_type": "display_data"
    },
    {
     "name": "stderr",
     "output_type": "stream",
     "text": [
      "Collect means:  76%|███████████████████████████████████           | 343/450 [17:45<05:32,  3.10s/it]"
     ]
    },
    {
     "data": {
      "application/vnd.jupyter.widget-view+json": {
       "model_id": "07981619d86f468abca6d9d7b8703133",
       "version_major": 2,
       "version_minor": 0
      },
      "text/plain": [
       "  0%|          | 0/20 [00:00<?, ?it/s]"
      ]
     },
     "metadata": {},
     "output_type": "display_data"
    },
    {
     "name": "stderr",
     "output_type": "stream",
     "text": [
      "Collect means:  76%|███████████████████████████████████▏          | 344/450 [17:48<05:28,  3.10s/it]"
     ]
    },
    {
     "data": {
      "application/vnd.jupyter.widget-view+json": {
       "model_id": "de39c34f71d14f768873e1031b860fe8",
       "version_major": 2,
       "version_minor": 0
      },
      "text/plain": [
       "  0%|          | 0/20 [00:00<?, ?it/s]"
      ]
     },
     "metadata": {},
     "output_type": "display_data"
    },
    {
     "name": "stderr",
     "output_type": "stream",
     "text": [
      "Collect means:  77%|███████████████████████████████████▎          | 345/450 [17:51<05:25,  3.10s/it]"
     ]
    },
    {
     "data": {
      "application/vnd.jupyter.widget-view+json": {
       "model_id": "4e603d9b5efc454389f721e4388ccd5c",
       "version_major": 2,
       "version_minor": 0
      },
      "text/plain": [
       "  0%|          | 0/20 [00:00<?, ?it/s]"
      ]
     },
     "metadata": {},
     "output_type": "display_data"
    },
    {
     "name": "stderr",
     "output_type": "stream",
     "text": [
      "Collect means:  77%|███████████████████████████████████▎          | 346/450 [17:54<05:22,  3.10s/it]"
     ]
    },
    {
     "data": {
      "application/vnd.jupyter.widget-view+json": {
       "model_id": "bab13d3217fa4b3796f22d173211124e",
       "version_major": 2,
       "version_minor": 0
      },
      "text/plain": [
       "  0%|          | 0/20 [00:00<?, ?it/s]"
      ]
     },
     "metadata": {},
     "output_type": "display_data"
    },
    {
     "name": "stderr",
     "output_type": "stream",
     "text": [
      "Collect means:  77%|███████████████████████████████████▍          | 347/450 [17:57<05:19,  3.10s/it]"
     ]
    },
    {
     "data": {
      "application/vnd.jupyter.widget-view+json": {
       "model_id": "9a55abb779b343249245c4ca91efdcb2",
       "version_major": 2,
       "version_minor": 0
      },
      "text/plain": [
       "  0%|          | 0/20 [00:00<?, ?it/s]"
      ]
     },
     "metadata": {},
     "output_type": "display_data"
    }
   ],
   "source": [
    "# ==============================================================\n",
    "#  Phase A: collect ⟨level, t⟩ mean maps\n",
    "#  ─────────────────────────────────────────────────────────────\n",
    "#  • For each prompt, record the *output* of every FFN block\n",
    "#    at every timestep; average across prompts to build a\n",
    "#    stable “mean map” tensor.\n",
    "# ==============================================================\n",
    "# ---------- 1. storage containers -----------------------------\n",
    "means = [[None] * N_STEPS for _ in range(N_LEVELS)]   # 0‑based: 0‥N_STEPS‑1\n",
    "n_prompts_seen = 0\n",
    "\n",
    "def make_record_hook(level: int):\n",
    "    \"\"\"\n",
    "    Returns a hook that, for its transformer *level*, records the\n",
    "    average token vector produced by the FFN at every diffusion step.\n",
    "    \"\"\"\n",
    "    def _hook(_, __, out):\n",
    "        t = step_counter[\"t\"]               # current denoising step (0‑based)\n",
    "\n",
    "        # ------- NEW: skip the *extra* call after step N_STEPS‑1 ----------\n",
    "        if t >= N_STEPS:\n",
    "            return out                      # do nothing, just pass output on\n",
    "\n",
    "        avg_tokens = out.detach().float().mean(0)  # (seq_len, hidden)\n",
    "\n",
    "        # accumulate\n",
    "        if means[level][t] is None:\n",
    "            means[level][t] = avg_tokens\n",
    "        else:\n",
    "            means[level][t] += avg_tokens\n",
    "        return out                          # always return the original output\n",
    "    return _hook\n",
    "\n",
    "# ---------- 2. attach recorders to each FFN --------------------\n",
    "H_REC = [\n",
    "    blk.ff.register_forward_hook(make_record_hook(lvl))\n",
    "    for   lvl, blk in enumerate(pipe.transformer.transformer_blocks)\n",
    "]\n",
    "print_hook_counts()\n",
    "# ---------- 3. run pipeline over *all* prompts -----------------\n",
    "for prompt in tqdm.tqdm(PROMPTS, desc=\"Collect means\"):\n",
    "    step_counter[\"t\"] = -1                                # reset\n",
    "    seed_this_run = SEED + n_prompts_seen                 # new seed each run\n",
    "    _ = pipe(\n",
    "        prompt,\n",
    "        height=1024, width=1024,\n",
    "        num_inference_steps=N_STEPS,\n",
    "        guidance_scale=5.0,\n",
    "        generator=torch.Generator(device=DEVICE).manual_seed(seed_this_run)\n",
    "    )\n",
    "    n_prompts_seen += 1\n",
    "\n",
    "# ---------- 4. finalise means and clean up ---------------------\n",
    "for h in H_REC:\n",
    "    h.remove()                                            # detach hooks\n",
    "print_hook_counts()\n",
    "H_MEAN.clear()\n",
    "print(\"Phase B hooks removed; model is clean for Phase C.\")\n",
    "# divide by #prompts to get the actual mean\n",
    "means = [[m / n_prompts_seen for m in row] for row in means]\n",
    "\n",
    "torch.save(means, OUTDIR / \"ffn_mean_maps.pt\")\n",
    "print(\"Mean maps saved →\", OUTDIR / \"ffn_mean_maps.pt\")"
   ]
  },
  {
   "cell_type": "markdown",
   "id": "9b6b4663-20fb-450e-973e-96a5673c1ace",
   "metadata": {},
   "source": [
    "# Phase B – Mean Activation Ablation\n",
    "This phase tests how each layer behaves when its activations are replaced with the mean from Phase A.\n",
    "- Registers new hooks that overwrite each FFN's output with its mean at time t.\n",
    "- Generates baseline and mean-ablated images for the first 5 prompts\n",
    "- Saves both versions for visual comparison.\n",
    "- Displays side-by-side comparison using matplotlib.\n",
    "Output Directory: exp3/results/"
   ]
  },
  {
   "cell_type": "code",
   "execution_count": null,
   "id": "02602560-89c2-43d3-8243-fef2c932e85c",
   "metadata": {},
   "outputs": [],
   "source": [
    "# ==============================================================\n",
    "#  PHASE B – baselines first, then mean‑ablation, then clean‑up\n",
    "# ==============================================================\n",
    "\n",
    "N_PROMPTS_TO_SAVE = 5\n",
    "RESULTS_DIR = OUTDIR / \"results\"; RESULTS_DIR.mkdir(exist_ok=True)\n",
    "\n",
    "def _slug(s, n=35):\n",
    "    s = re.sub(r\"[^\\w\\s-]\", \"\", s).strip().lower()\n",
    "    return re.sub(r\"[\\s_-]+\", \"_\", s)[:n]\n",
    "\n",
    "# 1) clean baselines\n",
    "for i, prompt in enumerate(PROMPTS[:N_PROMPTS_TO_SAVE]):\n",
    "    fname = f\"baseline_{i:02d}_{_slug(prompt)}.png\"\n",
    "    generate(prompt, SEED+i, fname)         # generate() has NO hook toggling\n",
    "    (OUTDIR/fname).replace(RESULTS_DIR/fname)\n",
    "print(\"Baselines saved.\")\n",
    "\n",
    "# 2) attach mean‑ablation hooks\n",
    "def make_mean_hook(level):\n",
    "    def _hook(_, __, out):\n",
    "        t = step_counter[\"t\"]\n",
    "        if t < N_STEPS:\n",
    "            m = means[level][t].to(out.device).to(out.dtype)\n",
    "            return m.unsqueeze(0).expand_as(out)\n",
    "        return out\n",
    "    return _hook\n",
    "\n",
    "H_MEAN = [blk.ff.register_forward_hook(make_mean_hook(lvl))\n",
    "          for lvl, blk in enumerate(pipe.transformer.transformer_blocks)]\n",
    "\n",
    "# 3) mean‑ablated images\n",
    "for i, prompt in enumerate(PROMPTS[:N_PROMPTS_TO_SAVE]):\n",
    "    fname = f\"mean_{i:02d}_{_slug(prompt)}.png\"\n",
    "    generate(prompt, SEED+i, fname)          # hooks are active\n",
    "    (OUTDIR/fname).replace(RESULTS_DIR/fname)\n",
    "print(\"Mean‑ablation images saved.\")\n",
    "\n",
    "# 4) preview first pair\n",
    "fig, ax = plt.subplots(1,2, figsize=(10,5))\n",
    "ax[0].imshow(Image.open(RESULTS_DIR / \"baseline_00_\" + _slug(PROMPTS[0]) + \".png\")); ax[0].set_title(\"Baseline\"); ax[0].axis(\"off\")\n",
    "ax[1].imshow(Image.open(RESULTS_DIR / \"mean_00_\" + _slug(PROMPTS[0]) + \".png\"));     ax[1].set_title(\"Mean Ablation\"); ax[1].axis(\"off\")\n",
    "plt.tight_layout(); plt.show()\n",
    "\n",
    "# 5) remove mean‑ablation hooks\n",
    "for h in H_MEAN: h.remove()\n",
    "H_MEAN.clear()\n",
    "print_hook_counts()   # optional debug print\n"
   ]
  },
  {
   "cell_type": "markdown",
   "id": "55e2cc38-28d2-4e0a-bec7-482dc50a4d32",
   "metadata": {},
   "source": [
    "# Phase C – Left↔Right Swap\n",
    "Here, the mean maps are spatially manipulated by swapping left and right halves, simulating altered visual attention.\n",
    "- Previous mean hooks are removed.\n",
    "- New swap maps are created (L×T spatial tensors with left-right halves flipped).\n",
    "- Hooks overwrite the FFN outputs with these swapped maps.\n",
    "- Two images are generated for a single test prompt: baseline vs. swapped.\n",
    "- Shows the side-by-side result.\n",
    "Output Directory: exp3/results/"
   ]
  },
  {
   "cell_type": "code",
   "execution_count": null,
   "id": "b8ad032c-27f9-46a2-a7ba-dafd42d27d3c",
   "metadata": {},
   "outputs": [],
   "source": [
    "# ==============================================================\n",
    "#  PHASE C – Left ↔ Right swap for a batch of prompts\n",
    "# ==============================================================\n",
    "\n",
    "import re, tqdm, matplotlib.pyplot as plt\n",
    "from PIL import Image\n",
    "import torch, gc\n",
    "\n",
    "# --------‑ user controls --------------------------------------\n",
    "N_PROMPTS_C   = 5                 # how many prompts to process\n",
    "RESULTS_DIR   = OUTDIR / \"results\"; RESULTS_DIR.mkdir(exist_ok=True)\n",
    "\n",
    "def _slug(s, n=40):\n",
    "    s = re.sub(r\"[^\\w\\s-]\", \"\", s).strip().lower()\n",
    "    return re.sub(r\"[\\s_-]+\", \"_\", s)[:n]\n",
    "\n",
    "# --------‑ 0. make sure model is hook‑free --------------------\n",
    "for lst in (\"H_MEAN\", \"H_SWAP\"):\n",
    "    if lst in globals():\n",
    "        for h in globals()[lst]:\n",
    "            h.remove()\n",
    "        globals()[lst].clear()\n",
    "\n",
    "# --------‑ 1. pre‑compute left↔right‑swapped mean maps --------\n",
    "swap_maps = []\n",
    "for level_row in means:        # over transformer levels\n",
    "    new_row = []\n",
    "    for m in level_row:        # m : (C,H,W)\n",
    "        C, H, W = m.shape; split = W // 2\n",
    "        s = m.clone()\n",
    "        s[:, :, :split], s[:, :, split:] = s[:, :, split:], s[:, :, :split]\n",
    "        new_row.append(s)\n",
    "    swap_maps.append(new_row)\n",
    "\n",
    "# --------‑ 2. hook helpers ------------------------------------\n",
    "H_SWAP = []\n",
    "def make_swap_hook(level):\n",
    "    def _hook(_, __, out):\n",
    "        t = step_counter[\"t\"]\n",
    "        if t < N_STEPS:\n",
    "            m = swap_maps[level][t].to(out.device).to(out.dtype)\n",
    "            return m.unsqueeze(0).expand_as(out)\n",
    "        return out\n",
    "    return _hook\n",
    "\n",
    "def attach_swap_hooks():\n",
    "    global H_SWAP\n",
    "    H_SWAP = [\n",
    "        blk.ff.register_forward_hook(make_swap_hook(lvl))\n",
    "        for lvl, blk in enumerate(pipe.transformer.transformer_blocks)\n",
    "    ]\n",
    "\n",
    "def detach_swap_hooks():\n",
    "    for h in H_SWAP: h.remove()\n",
    "    H_SWAP.clear()\n",
    "\n",
    "# --------‑ 3. run over prompts -------------------------------\n",
    "for i, prompt in enumerate(tqdm.tqdm(PROMPTS[:N_PROMPTS_C], desc=\"Phase C\")):\n",
    "    base_png = f\"baseline_swap_{i:02d}_{_slug(prompt)}.png\"\n",
    "    var_png  = f\"swap_ablate_{i:02d}_{_slug(prompt)}.png\"\n",
    "\n",
    "    # -- baseline (no hooks) --\n",
    "    detach_swap_hooks()\n",
    "    generate(prompt, SEED+i, base_png)\n",
    "    (OUTDIR/base_png).replace(RESULTS_DIR/base_png)\n",
    "\n",
    "    # -- variant (attach hooks, run, detach) --\n",
    "    attach_swap_hooks()\n",
    "    generate(prompt, SEED+i, var_png)\n",
    "    (OUTDIR/var_png).replace(RESULTS_DIR/var_png)\n",
    "    detach_swap_hooks()\n",
    "\n",
    "    # optional VRAM tidy‑up for long loops\n",
    "    gc.collect(); torch.cuda.empty_cache()\n",
    "\n",
    "print(f\"Saved {2*N_PROMPTS_C} images → {RESULTS_DIR.resolve()}\")\n",
    "\n",
    "# --------‑ 4. preview first pair ------------------------------\n",
    "img_b = Image.open(RESULTS_DIR / f\"baseline_swap_00_{_slug(PROMPTS[0])}.png\")\n",
    "img_v = Image.open(RESULTS_DIR / f\"swap_ablate_00_{_slug(PROMPTS[0])}.png\")\n",
    "\n",
    "fig, ax = plt.subplots(1, 2, figsize=(10, 5))\n",
    "ax[0].imshow(img_b); ax[0].set_title(\"Baseline\");        ax[0].axis(\"off\")\n",
    "ax[1].imshow(img_v); ax[1].set_title(\"Left↔Right swap\"); ax[1].axis(\"off\")\n",
    "fig.suptitle(PROMPTS[0], wrap=True); plt.tight_layout(); plt.show()\n"
   ]
  },
  {
   "cell_type": "markdown",
   "id": "8c745e32-3475-4164-b1ac-1488f67cfb79",
   "metadata": {},
   "source": [
    "# Phase D – Map Transform Variants\n",
    "This section generalizes the spatial transformations applied to the FFN maps using various strategies like:\n",
    "- \"first_token\" – replicate the first token over the map\n",
    "- \"swap_tb\" – swap top and bottom halves\n",
    "- \"shuffle\" – random shuffle\n",
    "- \"constant\" – constant average value\n",
    "- build_maps() creates the transformed maps.\n",
    "- attach_map_hooks() binds them to FFNs.\n",
    "- Baseline and transformed images are generated and saved.\n",
    "- Displays visual comparison.\n",
    "Output Directory: exp3/"
   ]
  },
  {
   "cell_type": "code",
   "execution_count": null,
   "id": "d4c08fc1-6ed9-4cf3-b9c5-fd1946afd0d3",
   "metadata": {},
   "outputs": [],
   "source": [
    "# ==============================================================\n",
    "#  build_maps() supporting row/col replication\n",
    "# ==============================================================\n",
    "def build_maps(means, transform=\"first_token\", n_tokens=3, seed=0):\n",
    "    \"\"\"\n",
    "    returns a list-of-lists [level][t] of modified maps (C,H,W).\n",
    "\n",
    "    Parameters\n",
    "    ----------\n",
    "    transform : str\n",
    "        one of {\"first_token\", \"first_n_tokens\", \"first_row\", \"first_col\",\n",
    "                \"swap_lr\", \"swap_tb\", \"swap_quadrants\", \"shuffle\", \"constant\"}\n",
    "    n_tokens : int\n",
    "        used only for 'first_n_tokens' – how many top‑left tokens to average.\n",
    "    seed : int\n",
    "        used only for 'shuffle'.\n",
    "    \"\"\"\n",
    "    out = []\n",
    "    rng = torch.Generator(device=\"cpu\").manual_seed(seed)\n",
    "\n",
    "    for level_row in means:\n",
    "        new_row = []\n",
    "        for m in level_row:                        # m : (C,H,W)\n",
    "            C, H, W = m.shape\n",
    "            mm = m.clone()\n",
    "\n",
    "            if transform == \"first_token\":\n",
    "                tok = mm[:, 0, 0].unsqueeze(-1).unsqueeze(-1)  # (C,1,1)\n",
    "                mm = tok.expand_as(mm)\n",
    "\n",
    "            elif transform == \"first_n_tokens\":\n",
    "                # take n_tokens from the top‑left corner row‑major\n",
    "                idx = [(r, c) for r in range(H) for c in range(W)][:n_tokens]\n",
    "                mean_tok = torch.stack([mm[:, r, c] for r, c in idx], dim=0).mean(0)\n",
    "                mm = mean_tok.view(C, 1, 1).expand_as(mm)\n",
    "\n",
    "            elif transform == \"first_row\":\n",
    "                row_mean = mm[:, 0, :].mean(1, keepdim=True)   # (C,1)\n",
    "                mm = row_mean.unsqueeze(2).expand_as(mm)\n",
    "\n",
    "            elif transform == \"first_col\":\n",
    "                col_mean = mm[:, :, 0].mean(1, keepdim=True)   # (C,1)\n",
    "                mm = col_mean.unsqueeze(1).expand_as(mm)\n",
    "\n",
    "            elif transform == \"swap_lr\":\n",
    "                split = W // 2\n",
    "                mm[:, :, :split], mm[:, :, split:] = mm[:, :, split:], mm[:, :, :split]\n",
    "\n",
    "            elif transform == \"swap_tb\":\n",
    "                split = H // 2\n",
    "                mm[:, :split, :], mm[:, split:, :] = mm[:, split:, :], mm[:, :split, :]\n",
    "\n",
    "            elif transform == \"swap_quadrants\":\n",
    "                h2, w2 = H // 2, W // 2\n",
    "                tl, tr = mm[:, :h2, :w2].clone(), mm[:, :h2, w2:].clone()\n",
    "                bl, br = mm[:, h2:, :w2].clone(), mm[:, h2:, w2:].clone()\n",
    "                mm[:, :h2, :w2], mm[:, :h2, w2:], mm[:, h2:, w2:], mm[:, h2:, :w2] = \\\n",
    "                    bl, tl, tr, br\n",
    "\n",
    "            elif transform == \"shuffle\":\n",
    "                idx = torch.randperm(H * W, generator=rng)\n",
    "                mm = mm.flatten(1)[:, idx].view(C, H, W)\n",
    "\n",
    "            elif transform == \"constant\":\n",
    "                mm[:] = mm.mean()\n",
    "\n",
    "            else:\n",
    "                raise ValueError(f\"Unknown transform '{transform}'\")\n",
    "\n",
    "            new_row.append(mm)\n",
    "        out.append(new_row)\n",
    "    return out\n"
   ]
  },
  {
   "cell_type": "code",
   "execution_count": null,
   "id": "ead9262f-22fb-4a08-9351-18b5c29e527c",
   "metadata": {},
   "outputs": [],
   "source": [
    "# ==============================================================\n",
    "#  HELPER: attach hooks for a given transformed map set\n",
    "# ==============================================================\n",
    "def attach_map_hooks(map_set):\n",
    "    \"\"\"Remove any existing H_SWAP hooks and attach new ones for map_set.\"\"\"\n",
    "    global H_SWAP\n",
    "    # remove old swap hooks if they exist\n",
    "    if \"H_SWAP\" in globals():\n",
    "        for h in H_SWAP:\n",
    "            h.remove()\n",
    "    H_SWAP = []\n",
    "\n",
    "    def make_hook(level):\n",
    "        def _hook(_, __, out):\n",
    "            t = step_counter[\"t\"]\n",
    "            if t >= N_STEPS:\n",
    "                return out\n",
    "            mp = map_set[level][t].to(out.device).to(out.dtype)\n",
    "            return mp.unsqueeze(0).expand_as(out)   # (B, C, H, W)\n",
    "        return _hook\n",
    "\n",
    "    for lvl, blk in enumerate(pipe.transformer.transformer_blocks):\n",
    "        H_SWAP.append(blk.ff.register_forward_hook(make_hook(lvl)))\n"
   ]
  },
  {
   "cell_type": "code",
   "execution_count": null,
   "id": "bddd37b8-48ab-49c7-8be4-5cb5eb12bb3c",
   "metadata": {},
   "outputs": [],
   "source": [
    "# ==============================================================\n",
    "#  PHASE D – variant map transform for a batch of prompts\n",
    "# ==============================================================\n",
    "\n",
    "import re, tqdm, matplotlib.pyplot as plt\n",
    "from PIL import Image\n",
    "import torch, gc\n",
    "\n",
    "# ------------ experiment parameters ---------------------------\n",
    "transform_choice = \"swap_tb\"          # e.g. \"first_token\", \"shuffle\", …\n",
    "n_tokens   = 3                        # only for \"first_n_tokens\"\n",
    "rng_seed   = 123                      # only for \"shuffle\"\n",
    "N_PROMPTS_D = 5                       # how many prompts to run\n",
    "\n",
    "RESULTS_DIR = OUTDIR / \"results\"; RESULTS_DIR.mkdir(exist_ok=True)\n",
    "\n",
    "def _slug(s, n=40):\n",
    "    s = re.sub(r\"[^\\w\\s-]\", \"\", s).strip().lower()\n",
    "    return re.sub(r\"[\\s_-]+\", \"_\", s)[:n]\n",
    "\n",
    "# ---------- 0. make sure model starts clean -------------------\n",
    "for lst in (\"H_SWAP\", \"H_MEAN\"):\n",
    "    if lst in globals():\n",
    "        for h in globals()[lst]:\n",
    "            h.remove()\n",
    "        globals()[lst].clear()\n",
    "\n",
    "# ---------- 1. build variant map set once --------------------\n",
    "variant_maps = build_maps(\n",
    "    means,\n",
    "    transform=transform_choice,\n",
    "    n_tokens=n_tokens,\n",
    "    seed=rng_seed\n",
    ")\n",
    "\n",
    "# ---------- 2. create hook factory ---------------------------\n",
    "def make_variant_hook(level):\n",
    "    def _hook(_, __, out):\n",
    "        t = step_counter[\"t\"]\n",
    "        if t < N_STEPS:\n",
    "            m = variant_maps[level][t].to(out.device).to(out.dtype)\n",
    "            return m.unsqueeze(0).expand_as(out)\n",
    "        return out\n",
    "    return _hook\n",
    "\n",
    "# helper to attach & detach variant hooks\n",
    "def attach_swap_hooks():\n",
    "    global H_SWAP\n",
    "    H_SWAP = [\n",
    "        blk.ff.register_forward_hook(make_variant_hook(lvl))\n",
    "        for lvl, blk in enumerate(pipe.transformer.transformer_blocks)\n",
    "    ]\n",
    "def detach_swap_hooks():\n",
    "    for h in globals().get(\"H_SWAP\", []):\n",
    "        h.remove()\n",
    "    H_SWAP.clear()\n",
    "\n",
    "# ---------- 3. run through prompts ---------------------------\n",
    "for i, prompt in enumerate(tqdm.tqdm(PROMPTS[:N_PROMPTS_D], desc=\"Phase D\")):\n",
    "    base_png  = f\"baseline_{transform_choice}_{i:02d}_{_slug(prompt)}.png\"\n",
    "    var_png   = f\"{transform_choice}_{i:02d}_{_slug(prompt)}.png\"\n",
    "\n",
    "    # --- baseline ---\n",
    "    detach_swap_hooks()                            # ensure no hooks\n",
    "    generate(prompt, SEED+i, base_png)\n",
    "    (OUTDIR/base_png).replace(RESULTS_DIR/base_png)\n",
    "\n",
    "    # --- variant ---\n",
    "    attach_swap_hooks()                            # hooks ON\n",
    "    generate(prompt, SEED+i, var_png)\n",
    "    (OUTDIR/var_png).replace(RESULTS_DIR/var_png)\n",
    "\n",
    "    detach_swap_hooks()                            # clean for next loop\n",
    "\n",
    "    # optional GPU tidy‑up if many prompts\n",
    "    gc.collect(); torch.cuda.empty_cache()\n",
    "\n",
    "print(f\"Saved {2*N_PROMPTS_D} images → {RESULTS_DIR.resolve()}\")\n",
    "\n",
    "# ---------- 4. quick preview of the first pair ---------------\n",
    "img_b = Image.open(RESULTS_DIR / f\"baseline_{transform_choice}_00_{_slug(PROMPTS[0])}.png\")\n",
    "img_v = Image.open(RESULTS_DIR / f\"{transform_choice}_00_{_slug(PROMPTS[0])}.png\")\n",
    "\n",
    "fig, ax = plt.subplots(1,2, figsize=(10,5))\n",
    "ax[0].imshow(img_b); ax[0].set_title(\"Baseline\");           ax[0].axis(\"off\")\n",
    "ax[1].imshow(img_v); ax[1].set_title(transform_choice);     ax[1].axis(\"off\")\n",
    "fig.suptitle(PROMPTS[0], wrap=True); plt.tight_layout(); plt.show()\n"
   ]
  },
  {
   "cell_type": "code",
   "execution_count": null,
   "id": "cbdf4615-bd8d-4151-8e21-0e4089fa9ce1",
   "metadata": {},
   "outputs": [],
   "source": []
  },
  {
   "cell_type": "code",
   "execution_count": null,
   "id": "ac4cd919-fe8a-464a-9ac6-c85dc9ab3ea3",
   "metadata": {},
   "outputs": [],
   "source": []
  },
  {
   "cell_type": "code",
   "execution_count": null,
   "id": "053ecd24-582e-411a-9a9c-4b16a9aa0237",
   "metadata": {},
   "outputs": [],
   "source": []
  }
 ],
 "metadata": {
  "kernelspec": {
   "display_name": "Python 3 (ipykernel)",
   "language": "python",
   "name": "python3"
  },
  "language_info": {
   "codemirror_mode": {
    "name": "ipython",
    "version": 3
   },
   "file_extension": ".py",
   "mimetype": "text/x-python",
   "name": "python",
   "nbconvert_exporter": "python",
   "pygments_lexer": "ipython3",
   "version": "3.10.18"
  }
 },
 "nbformat": 4,
 "nbformat_minor": 5
}
